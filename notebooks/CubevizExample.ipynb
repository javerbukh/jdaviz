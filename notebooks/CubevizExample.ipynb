{
 "cells": [
  {
   "cell_type": "code",
   "execution_count": null,
   "metadata": {
    "scrolled": false
   },
   "outputs": [],
   "source": [
    "from jdaviz import CubeViz\n",
    "\n",
    "viz = CubeViz()\n",
    "viz.app"
   ]
  },
  {
   "cell_type": "code",
   "execution_count": null,
   "metadata": {
    "scrolled": false
   },
   "outputs": [],
   "source": [
    "from astropy.utils.data import download_file\n",
    "\n",
    "# This file is originally from https://data.sdss.org/sas/dr14/manga/spectro/redux/v2_1_2/7495/stack/manga-7495-12704-LOGCUBE.fits.gz\n",
    "# but has been modified to correct some inconsistencies in the way units are parsed\n",
    "fn = download_file('https://stsci.box.com/shared/static/28a88k1qfipo4yxc4p4d40v4axtlal8y.fits', cache=True)\n",
    "viz.load_data(fn)"
   ]
  },
  {
   "cell_type": "markdown",
   "metadata": {},
   "source": [
    "# Begin development code for SpectralCube to Specutils transition"
   ]
  },
  {
   "cell_type": "markdown",
   "metadata": {},
   "source": [
    "Load Specutils1D cube into jdaviz"
   ]
  },
  {
   "cell_type": "code",
   "execution_count": null,
   "metadata": {},
   "outputs": [],
   "source": [
    "from specutils import Spectrum1D\n",
    "from astropy.io import fits\n",
    "from spectral_cube.io.fits import FITSReadError\n",
    "from astropy.io.registry import IORegistryError\n",
    "from astropy.wcs import WCS\n",
    "from astropy import units as u\n",
    "\n",
    "\n",
    "temp = Spectrum1D.read(fn)\n",
    "viz.app.data_collection[\"temp\"] = temp"
   ]
  },
  {
   "cell_type": "markdown",
   "metadata": {},
   "source": [
    "Why is shape different?"
   ]
  },
  {
   "cell_type": "code",
   "execution_count": null,
   "metadata": {},
   "outputs": [],
   "source": [
    "temp.shape"
   ]
  },
  {
   "cell_type": "code",
   "execution_count": null,
   "metadata": {},
   "outputs": [],
   "source": [
    "viz.app.data_collection[0].data.get_object().shape"
   ]
  },
  {
   "cell_type": "markdown",
   "metadata": {},
   "source": [
    "Alternate way of loading"
   ]
  },
  {
   "cell_type": "code",
   "execution_count": null,
   "metadata": {},
   "outputs": [],
   "source": [
    "with fits.open(fn) as hdulist:\n",
    "    hdulist = fits.open(fn)\n",
    "    wcs = WCS(hdulist[1].header)\n",
    "    flux = hdulist[1].data * u.Unit(\"Jy\")\n",
    "    print(wcs.world_axis_names)\n",
    "    #wcs.pixel_n_dim = 3\n",
    "    #wcs.world_axis_names = ['', '', '']\n",
    "#     print(wcs)\n",
    "    sc = Spectrum1D(flux=flux, wcs=wcs)\n",
    "#     sc.wcs = None\n",
    "#     sc.wcs = wcs\n",
    "#     sc.flux.wcs = wcs\n",
    "    viz.app.data_collection[\"temp\"] = sc\n",
    "\n",
    "    \n",
    "#     print(dir(wcs))"
   ]
  },
  {
   "cell_type": "code",
   "execution_count": null,
   "metadata": {},
   "outputs": [],
   "source": [
    "# viz.load_data(temp)\n",
    "temp.wcs.world_axis_names[0].title()\n",
    "#print(0 in temp.wcs.world_axis_names)\n",
    "#print(len(temp.wcs.world_axis_names))"
   ]
  },
  {
   "cell_type": "code",
   "execution_count": null,
   "metadata": {},
   "outputs": [],
   "source": [
    "viz.app.data_collection[\"temp_flux\"] = temp.flux"
   ]
  },
  {
   "cell_type": "code",
   "execution_count": null,
   "metadata": {},
   "outputs": [],
   "source": [
    "temp.shape"
   ]
  },
  {
   "cell_type": "code",
   "execution_count": null,
   "metadata": {},
   "outputs": [],
   "source": [
    "len(temp.wcs.world_axis_names)"
   ]
  },
  {
   "cell_type": "code",
   "execution_count": null,
   "metadata": {},
   "outputs": [],
   "source": [
    "temp.wcs.pixel_n_dim"
   ]
  },
  {
   "cell_type": "code",
   "execution_count": null,
   "metadata": {},
   "outputs": [],
   "source": [
    "temp.ndim = 1"
   ]
  },
  {
   "cell_type": "code",
   "execution_count": null,
   "metadata": {},
   "outputs": [],
   "source": [
    "from glue.core import Data\n",
    "from glue_astronomy.spectral_coordinates import SpectralCoordinates\n"
   ]
  },
  {
   "cell_type": "code",
   "execution_count": null,
   "metadata": {},
   "outputs": [],
   "source": [
    "\n",
    "# temp.ndim = lambda: None\n",
    "# setattr(temp.ndim, 'somefield', 'somevalue')\n",
    "wcs = temp.wcs\n",
    "temp.wcs = WCS(wcs)"
   ]
  },
  {
   "cell_type": "code",
   "execution_count": null,
   "metadata": {},
   "outputs": [],
   "source": [
    "coords = SpectralCoordinates(temp.spectral_axis)\n",
    "data = Data(coords=coords)\n",
    "data['flux'] = temp.flux.value"
   ]
  },
  {
   "cell_type": "code",
   "execution_count": null,
   "metadata": {},
   "outputs": [],
   "source": [
    "from astropy.wcs import WCS\n",
    "\n",
    "print(isinstance(wcs,WCS))"
   ]
  },
  {
   "cell_type": "code",
   "execution_count": null,
   "metadata": {},
   "outputs": [],
   "source": [
    "print(type(temp.wcs))"
   ]
  },
  {
   "cell_type": "code",
   "execution_count": null,
   "metadata": {},
   "outputs": [],
   "source": [
    "viz.app.data_collection[0].data.get_object().wcs.world_axis_names"
   ]
  },
  {
   "cell_type": "code",
   "execution_count": null,
   "metadata": {},
   "outputs": [],
   "source": [
    "viz.app.data_collection[0].data.get_object().wcs.pixel_n_dim"
   ]
  },
  {
   "cell_type": "code",
   "execution_count": null,
   "metadata": {},
   "outputs": [],
   "source": []
  }
 ],
 "metadata": {
  "kernelspec": {
   "display_name": "Python 3",
   "language": "python",
   "name": "python3"
  },
  "language_info": {
   "codemirror_mode": {
    "name": "ipython",
    "version": 3
   },
   "file_extension": ".py",
   "mimetype": "text/x-python",
   "name": "python",
   "nbconvert_exporter": "python",
   "pygments_lexer": "ipython3",
   "version": "3.8.5"
  }
 },
 "nbformat": 4,
 "nbformat_minor": 4
}
