{
 "cells": [
  {
   "cell_type": "code",
   "execution_count": 1,
   "metadata": {
    "scrolled": false
   },
   "outputs": [
    {
     "data": {
      "application/vnd.jupyter.widget-view+json": {
       "model_id": "fccf1362460043289fc2726c053c04ec",
       "version_major": 2,
       "version_minor": 0
      },
      "text/plain": [
       "Application(components={'g-viewer-tab': '<template>\\n  <component :is=\"stack.container\">\\n    <g-viewer-tab\\n …"
      ]
     },
     "metadata": {},
     "output_type": "display_data"
    }
   ],
   "source": [
    "from jdaviz import CubeViz\n",
    "\n",
    "viz = CubeViz()\n",
    "viz.app"
   ]
  },
  {
   "cell_type": "code",
   "execution_count": 2,
   "metadata": {
    "scrolled": false
   },
   "outputs": [],
   "source": [
    "from astropy.utils.data import download_file\n",
    "\n",
    "# This file is originally from https://data.sdss.org/sas/dr14/manga/spectro/redux/v2_1_2/7495/stack/manga-7495-12704-LOGCUBE.fits.gz\n",
    "# but has been modified to correct some inconsistencies in the way units are parsed\n",
    "fn = download_file('https://stsci.box.com/shared/static/28a88k1qfipo4yxc4p4d40v4axtlal8y.fits', cache=True)\n",
    "#viz.load_data(fn)"
   ]
  },
  {
   "cell_type": "markdown",
   "metadata": {},
   "source": [
    "# Begin development code for SpectralCube to Specutils transition"
   ]
  },
  {
   "cell_type": "markdown",
   "metadata": {},
   "source": [
    "Load Specutils1D cube into jdaviz"
   ]
  },
  {
   "cell_type": "code",
   "execution_count": 3,
   "metadata": {},
   "outputs": [],
   "source": [
    "from specutils import Spectrum1D\n",
    "from astropy.io import fits\n",
    "from spectral_cube.io.fits import FITSReadError\n",
    "from astropy.io.registry import IORegistryError\n",
    "from astropy.wcs import WCS\n",
    "from astropy import units as u\n",
    "import numpy as np\n",
    "\n",
    "\n",
    "# temp = Spectrum1D.read(fn)\n",
    "\n",
    "# print(type(temp))\n",
    "# print(type(temp.flux))\n",
    "\n",
    "# viz.app.data_collection[\"flux\"] = temp\n",
    "# viz.app.data_collection[\"uncert\"] = Spectrum1D(flux=temp.uncertainty)\n",
    "# viz.app.data_collection[\"mask\"] = temp\n",
    "\n",
    "\n",
    "# viz.app.add_data_to_viewer('mask-viewer', \"mask\")\n",
    "\n",
    "# viz.app.add_data_to_viewer('uncert-viewer', \"uncert\")\n",
    "\n",
    "# viz.app.add_data_to_viewer('flux-viewer', \"flux\")\n",
    "# viz.app.add_data_to_viewer('spectrum-viewer', \"flux\")\n"
   ]
  },
  {
   "cell_type": "code",
   "execution_count": null,
   "metadata": {},
   "outputs": [],
   "source": [
    "temp.flux.unit"
   ]
  },
  {
   "cell_type": "code",
   "execution_count": 4,
   "metadata": {},
   "outputs": [
    {
     "name": "stderr",
     "output_type": "stream",
     "text": [
      "WARNING: UnitsWarning: '1E-17 erg/s/cm^2/Angstrom/spaxel' contains multiple slashes, which is discouraged by the FITS standard [astropy.units.format.generic]\n",
      "WARNING:astropy:UnitsWarning: '1E-17 erg/s/cm^2/Angstrom/spaxel' contains multiple slashes, which is discouraged by the FITS standard\n",
      "WARNING:root:Input WCS indicates that the spectral axis is not last. Reshaping arrays to put spectral axis last.\n"
     ]
    },
    {
     "name": "stdout",
     "output_type": "stream",
     "text": [
      "FLUX\n",
      "before WCS Keywords\n",
      "\n",
      "Number of WCS axes: 3\n",
      "CTYPE : 'WAVE-LOG'  'DEC--TAN'  'RA---TAN'  \n",
      "CRVAL : 3.62159598486e-07  27.004754  205.4384  \n",
      "CRPIX : 1.0  38.0  38.0  \n",
      "CD1_1 CD1_2 CD1_3  : 8.33903304339e-11  0.0  0.0  \n",
      "CD2_1 CD2_2 CD2_3  : 0.0  0.000138889  0.0  \n",
      "CD3_1 CD3_2 CD3_3  : 0.0  0.0  -0.000138889  \n",
      "NAXIS : 4563  74  74\n",
      "after WCS Keywords\n",
      "\n",
      "Number of WCS axes: 3\n",
      "CTYPE : 'RA---TAN'  'DEC--TAN'  'WAVE-LOG'  \n",
      "CRVAL : 205.4384  27.004754  3.62159598486e-07  \n",
      "CRPIX : 38.0  38.0  1.0  \n",
      "CD1_1 CD1_2 CD1_3  : -0.000138889  0.0  0.0  \n",
      "CD2_1 CD2_2 CD2_3  : 0.0  0.000138889  0.0  \n",
      "CD3_1 CD3_2 CD3_3  : 0.0  0.0  8.33903304339e-11  \n",
      "NAXIS : 74  74  4563\n"
     ]
    },
    {
     "name": "stderr",
     "output_type": "stream",
     "text": [
      "/Users/javerbukh/opt/anaconda3/envs/jdaviz-spec-dev/lib/python3.8/site-packages/glue/viewers/common/viewer.py:186: UserWarning: Add large data set?\n",
      "  warnings.warn(message)\n"
     ]
    },
    {
     "name": "stdout",
     "output_type": "stream",
     "text": [
      "0 3 2\n",
      "axes:  (1, 2)\n",
      "[flux]\n",
      "0 3 2\n",
      "axes:  (1, 2)\n",
      "[flux]\n",
      "0 3 2\n",
      "axes:  (1, 2)\n",
      "[flux]\n"
     ]
    },
    {
     "name": "stderr",
     "output_type": "stream",
     "text": [
      "WARNING: UnitsWarning: '1E-17 erg/s/cm^2/Angstrom/spaxel' contains multiple slashes, which is discouraged by the FITS standard [astropy.units.format.generic]\n",
      "WARNING:astropy:UnitsWarning: '1E-17 erg/s/cm^2/Angstrom/spaxel' contains multiple slashes, which is discouraged by the FITS standard\n",
      "WARNING:root:Input WCS indicates that the spectral axis is not last. Reshaping arrays to put spectral axis last.\n"
     ]
    },
    {
     "name": "stdout",
     "output_type": "stream",
     "text": [
      "IVAR\n",
      "before WCS Keywords\n",
      "\n",
      "Number of WCS axes: 3\n",
      "CTYPE : 'WAVE-LOG'  'DEC--TAN'  'RA---TAN'  \n",
      "CRVAL : 3.62159598486e-07  27.004754  205.4384  \n",
      "CRPIX : 1.0  38.0  38.0  \n",
      "CD1_1 CD1_2 CD1_3  : 8.33903304339e-11  0.0  0.0  \n",
      "CD2_1 CD2_2 CD2_3  : 0.0  0.000138889  0.0  \n",
      "CD3_1 CD3_2 CD3_3  : 0.0  0.0  -0.000138889  \n",
      "NAXIS : 4563  74  74\n",
      "after WCS Keywords\n",
      "\n",
      "Number of WCS axes: 3\n",
      "CTYPE : 'RA---TAN'  'DEC--TAN'  'WAVE-LOG'  \n",
      "CRVAL : 205.4384  27.004754  3.62159598486e-07  \n",
      "CRPIX : 38.0  38.0  1.0  \n",
      "CD1_1 CD1_2 CD1_3  : -0.000138889  0.0  0.0  \n",
      "CD2_1 CD2_2 CD2_3  : 0.0  0.000138889  0.0  \n",
      "CD3_1 CD3_2 CD3_3  : 0.0  0.0  8.33903304339e-11  \n",
      "NAXIS : 74  74  4563\n"
     ]
    },
    {
     "name": "stderr",
     "output_type": "stream",
     "text": [
      "/Users/javerbukh/opt/anaconda3/envs/jdaviz-spec-dev/lib/python3.8/site-packages/glue/viewers/common/viewer.py:186: UserWarning: Add large data set?\n",
      "  warnings.warn(message)\n",
      "WARNING: UnitsWarning: '1E-17 erg/s/cm^2/Angstrom/spaxel' contains multiple slashes, which is discouraged by the FITS standard [astropy.units.format.generic]\n",
      "WARNING:astropy:UnitsWarning: '1E-17 erg/s/cm^2/Angstrom/spaxel' contains multiple slashes, which is discouraged by the FITS standard\n",
      "WARNING:root:Input WCS indicates that the spectral axis is not last. Reshaping arrays to put spectral axis last.\n"
     ]
    },
    {
     "name": "stdout",
     "output_type": "stream",
     "text": [
      "MASK\n",
      "before WCS Keywords\n",
      "\n",
      "Number of WCS axes: 3\n",
      "CTYPE : 'WAVE-LOG'  'DEC--TAN'  'RA---TAN'  \n",
      "CRVAL : 3.62159598486e-07  27.004754  205.4384  \n",
      "CRPIX : 1.0  38.0  38.0  \n",
      "CD1_1 CD1_2 CD1_3  : 8.33903304339e-11  0.0  0.0  \n",
      "CD2_1 CD2_2 CD2_3  : 0.0  0.000138889  0.0  \n",
      "CD3_1 CD3_2 CD3_3  : 0.0  0.0  -0.000138889  \n",
      "NAXIS : 4563  74  74\n",
      "after WCS Keywords\n",
      "\n",
      "Number of WCS axes: 3\n",
      "CTYPE : 'RA---TAN'  'DEC--TAN'  'WAVE-LOG'  \n",
      "CRVAL : 205.4384  27.004754  3.62159598486e-07  \n",
      "CRPIX : 38.0  38.0  1.0  \n",
      "CD1_1 CD1_2 CD1_3  : -0.000138889  0.0  0.0  \n",
      "CD2_1 CD2_2 CD2_3  : 0.0  0.000138889  0.0  \n",
      "CD3_1 CD3_2 CD3_3  : 0.0  0.0  8.33903304339e-11  \n",
      "NAXIS : 74  74  4563\n"
     ]
    },
    {
     "name": "stderr",
     "output_type": "stream",
     "text": [
      "/Users/javerbukh/opt/anaconda3/envs/jdaviz-spec-dev/lib/python3.8/site-packages/glue/viewers/common/viewer.py:186: UserWarning: Add large data set?\n",
      "  warnings.warn(message)\n"
     ]
    }
   ],
   "source": [
    "with fits.open(fn) as hdulist:\n",
    "    for hdu in hdulist:\n",
    "        data_label = f\"{fn}[{hdu.name}]\"\n",
    "\n",
    "        if hdu.data is None or not hdu.is_image or hdu.name.lower() not in [\"flux\", \"ivar\", \"mask\"]:\n",
    "            #print(hdu.name)\n",
    "            continue\n",
    "        print(hdu.name)\n",
    "        wcs = WCS(hdu.header)\n",
    "#         print(\"before\", wcs)\n",
    "        wcs.swapaxes(0, 1)\n",
    "        wcs.swapaxes(1, 2)\n",
    "        \n",
    "        if 'BUNIT' in hdu.header:\n",
    "            flux = hdu.data * u.Unit(hdu.header['BUNIT'])\n",
    "        else:\n",
    "            # TODO Add warning that actual units were not found and using fake ones\n",
    "            flux = hdu.data * u.Jy\n",
    "        #print(hdu)\n",
    "        #flux=np.random.sample(10) * u.Jy\n",
    "        try:\n",
    "            sc = Spectrum1D(flux=flux, wcs=wcs)\n",
    "            print(\"before\", sc.wcs)\n",
    "            #sc = Spectrum1D.read(hdu, format=\"MaNGA cube\")\n",
    "            sc.wcs = None\n",
    "#             wcs.swapaxes(0,1)\n",
    "#             wcs.swapaxes(1, 2)\n",
    "            sc.wcs = wcs\n",
    "            print(\"after\", sc.wcs)\n",
    "            viz.app.data_collection[hdu.name] = sc\n",
    "        except Exception as e:\n",
    "            print(e)\n",
    "            continue\n",
    "            \n",
    "        if hdu.name.lower() == \"mask\":\n",
    "            viz.app.add_data_to_viewer('mask-viewer', hdu.name)\n",
    "\n",
    "        if hdu.name.lower() == \"ivar\":\n",
    "            viz.app.add_data_to_viewer('uncert-viewer', hdu.name)\n",
    "\n",
    "        if hdu.name.lower() == \"flux\":\n",
    "            viz.app.add_data_to_viewer('flux-viewer', hdu.name)\n",
    "            viz.app.add_data_to_viewer('spectrum-viewer', hdu.name)\n",
    "        # sc = Spectrum1D.read(hdu, format=\"MaNGA cube\")\n",
    "        #print(sc)"
   ]
  },
  {
   "cell_type": "markdown",
   "metadata": {},
   "source": [
    "Why is shape different?"
   ]
  },
  {
   "cell_type": "code",
   "execution_count": 9,
   "metadata": {},
   "outputs": [
    {
     "name": "stdout",
     "output_type": "stream",
     "text": [
      "[Pixel Axis 0 [z], Pixel Axis 1 [y], Pixel Axis 2 [x], Wave, Declination, Right Ascension, flux]\n",
      "0 3 2\n",
      "axes:  (1, 2)\n",
      "[flux]\n",
      "[{'coordinate_type': 'spectral', 'scale': 'logarithmic', 'group': 0, 'number': 0}]\n"
     ]
    },
    {
     "ename": "NameError",
     "evalue": "name 'temp' is not defined",
     "output_type": "error",
     "traceback": [
      "\u001b[0;31m---------------------------------------------------------------------------\u001b[0m",
      "\u001b[0;31mNameError\u001b[0m                                 Traceback (most recent call last)",
      "\u001b[0;32m<ipython-input-9-5cb6bd450d15>\u001b[0m in \u001b[0;36m<module>\u001b[0;34m\u001b[0m\n\u001b[1;32m      3\u001b[0m \u001b[0mprint\u001b[0m\u001b[0;34m(\u001b[0m\u001b[0mflux\u001b[0m\u001b[0;34m.\u001b[0m\u001b[0mget_object\u001b[0m\u001b[0;34m(\u001b[0m\u001b[0;34m)\u001b[0m\u001b[0;34m.\u001b[0m\u001b[0mwcs\u001b[0m\u001b[0;34m.\u001b[0m\u001b[0mget_axis_types\u001b[0m\u001b[0;34m(\u001b[0m\u001b[0;34m)\u001b[0m\u001b[0;34m)\u001b[0m\u001b[0;34m\u001b[0m\u001b[0;34m\u001b[0m\u001b[0m\n\u001b[1;32m      4\u001b[0m \u001b[0;31m# flux.main_components\u001b[0m\u001b[0;34m\u001b[0m\u001b[0;34m\u001b[0m\u001b[0;34m\u001b[0m\u001b[0m\n\u001b[0;32m----> 5\u001b[0;31m \u001b[0mprint\u001b[0m\u001b[0;34m(\u001b[0m\u001b[0mtemp\u001b[0m\u001b[0;34m.\u001b[0m\u001b[0mwcs\u001b[0m\u001b[0;34m.\u001b[0m\u001b[0mwcs\u001b[0m\u001b[0;34m.\u001b[0m\u001b[0mctype\u001b[0m\u001b[0;34m)\u001b[0m\u001b[0;34m\u001b[0m\u001b[0;34m\u001b[0m\u001b[0m\n\u001b[0m\u001b[1;32m      6\u001b[0m \u001b[0mtemp\u001b[0m\u001b[0;34m.\u001b[0m\u001b[0mwcs\u001b[0m\u001b[0;34m.\u001b[0m\u001b[0mswapaxes\u001b[0m\u001b[0;34m(\u001b[0m\u001b[0;36m0\u001b[0m\u001b[0;34m,\u001b[0m\u001b[0;36m1\u001b[0m\u001b[0;34m)\u001b[0m\u001b[0;34m\u001b[0m\u001b[0;34m\u001b[0m\u001b[0m\n\u001b[1;32m      7\u001b[0m \u001b[0mtemp\u001b[0m\u001b[0;34m.\u001b[0m\u001b[0mwcs\u001b[0m\u001b[0;34m.\u001b[0m\u001b[0mswapaxes\u001b[0m\u001b[0;34m(\u001b[0m\u001b[0;36m1\u001b[0m\u001b[0;34m,\u001b[0m \u001b[0;36m2\u001b[0m\u001b[0;34m)\u001b[0m\u001b[0;34m\u001b[0m\u001b[0;34m\u001b[0m\u001b[0m\n",
      "\u001b[0;31mNameError\u001b[0m: name 'temp' is not defined"
     ]
    }
   ],
   "source": [
    "flux = viz.app.get_data_from_viewer('flux-viewer')['FLUX']\n",
    "print(flux.component_ids())\n",
    "print(flux.get_object().wcs.get_axis_types())\n",
    "# flux.main_components\n",
    "print(temp.wcs.wcs.ctype)\n",
    "temp.wcs.swapaxes(0,1)\n",
    "temp.wcs.swapaxes(1, 2)\n",
    "print(temp.wcs.wcs.ctype)"
   ]
  },
  {
   "cell_type": "code",
   "execution_count": null,
   "metadata": {},
   "outputs": [],
   "source": [
    "with fits.open(fn) as hdulist:\n",
    "    #print(hdulist[1].header)\n",
    "    #[print(x, hdulist[1].header[x]) for x in hdulist[1].header]\n",
    "    \n",
    "    # print(hdulist[1].header[\"CTYPE2\"])"
   ]
  },
  {
   "cell_type": "markdown",
   "metadata": {},
   "source": [
    "Alternate way of loading"
   ]
  },
  {
   "cell_type": "code",
   "execution_count": null,
   "metadata": {},
   "outputs": [],
   "source": [
    "with fits.open(fn) as hdulist:\n",
    "    hdulist = fits.open(fn)\n",
    "    wcs = WCS(hdulist[1].header)\n",
    "    flux = hdulist[1].data * u.Unit(\"Jy\")\n",
    "    print(wcs.world_axis_names)\n",
    "    #wcs.pixel_n_dim = 3\n",
    "    #wcs.world_axis_names = ['', '', '']\n",
    "#     print(wcs)\n",
    "    sc = Spectrum1D(flux=flux, wcs=wcs)\n",
    "#     sc.wcs = None\n",
    "#     sc.wcs = wcs\n",
    "#     sc.flux.wcs = wcs\n",
    "    viz.app.data_collection[\"temp2\"] = sc\n",
    "\n",
    "    \n",
    "#     print(dir(wcs))"
   ]
  },
  {
   "cell_type": "code",
   "execution_count": null,
   "metadata": {},
   "outputs": [],
   "source": [
    "# viz.load_data(temp)\n",
    "#temp.wcs.world_axis_names[0].title()\n",
    "#print(0 in temp.wcs.world_axis_names)\n",
    "#print(len(temp.wcs.world_axis_names))\n",
    "temp[52, 52, 2000]"
   ]
  },
  {
   "cell_type": "code",
   "execution_count": null,
   "metadata": {},
   "outputs": [],
   "source": [
    "viz.app.data_collection[\"temp_flux\"] = temp.flux"
   ]
  },
  {
   "cell_type": "code",
   "execution_count": null,
   "metadata": {},
   "outputs": [],
   "source": [
    "temp.shape"
   ]
  },
  {
   "cell_type": "code",
   "execution_count": null,
   "metadata": {},
   "outputs": [],
   "source": [
    "len(temp.wcs.world_axis_names)"
   ]
  },
  {
   "cell_type": "code",
   "execution_count": null,
   "metadata": {},
   "outputs": [],
   "source": [
    "temp.wcs.pixel_n_dim"
   ]
  },
  {
   "cell_type": "code",
   "execution_count": null,
   "metadata": {},
   "outputs": [],
   "source": [
    "temp.ndim = 1"
   ]
  },
  {
   "cell_type": "code",
   "execution_count": null,
   "metadata": {},
   "outputs": [],
   "source": [
    "from glue.core import Data\n",
    "from glue_astronomy.spectral_coordinates import SpectralCoordinates\n"
   ]
  },
  {
   "cell_type": "code",
   "execution_count": null,
   "metadata": {},
   "outputs": [],
   "source": [
    "# coords = SpectralCoordinates(temp.wcs)\n",
    "data = Data(coords=temp.wcs)\n",
    "data['flux'] = temp.flux.value"
   ]
  },
  {
   "cell_type": "code",
   "execution_count": null,
   "metadata": {},
   "outputs": [],
   "source": [
    "\n",
    "# temp.ndim = lambda: None\n",
    "# setattr(temp.ndim, 'somefield', 'somevalue')\n",
    "wcs = temp.wcs\n",
    "temp.wcs = WCS(wcs)"
   ]
  },
  {
   "cell_type": "code",
   "execution_count": null,
   "metadata": {},
   "outputs": [],
   "source": [
    "from astropy.wcs import WCS\n",
    "\n",
    "print(isinstance(wcs,WCS))"
   ]
  },
  {
   "cell_type": "code",
   "execution_count": null,
   "metadata": {},
   "outputs": [],
   "source": [
    "print(type(temp.wcs))"
   ]
  },
  {
   "cell_type": "code",
   "execution_count": null,
   "metadata": {},
   "outputs": [],
   "source": [
    "viz.app.data_collection[0].data.get_object().wcs.world_axis_names"
   ]
  },
  {
   "cell_type": "code",
   "execution_count": null,
   "metadata": {},
   "outputs": [],
   "source": [
    "viz.app.data_collection[0].data.get_object().wcs.pixel_n_dim"
   ]
  },
  {
   "cell_type": "code",
   "execution_count": null,
   "metadata": {},
   "outputs": [],
   "source": [
    "conda list"
   ]
  },
  {
   "cell_type": "code",
   "execution_count": null,
   "metadata": {},
   "outputs": [],
   "source": []
  }
 ],
 "metadata": {
  "kernelspec": {
   "display_name": "Python 3",
   "language": "python",
   "name": "python3"
  },
  "language_info": {
   "codemirror_mode": {
    "name": "ipython",
    "version": 3
   },
   "file_extension": ".py",
   "mimetype": "text/x-python",
   "name": "python",
   "nbconvert_exporter": "python",
   "pygments_lexer": "ipython3",
   "version": "3.8.8"
  }
 },
 "nbformat": 4,
 "nbformat_minor": 4
}
