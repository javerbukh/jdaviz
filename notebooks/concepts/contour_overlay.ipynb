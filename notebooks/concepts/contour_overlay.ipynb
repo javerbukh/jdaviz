{
 "cells": [
  {
   "cell_type": "markdown",
   "metadata": {},
   "source": [
    "# Contour Overlay (Concept + Development notebook)"
   ]
  },
  {
   "cell_type": "markdown",
   "metadata": {},
   "source": [
    "## Imports \n",
    "* _numpy_ for array math\n",
    "* _astropy.io_ for reading and writing FITS cubes and images\n",
    "* _matplotlib.pyplot_ for plotting spectra and images."
   ]
  },
  {
   "cell_type": "code",
   "execution_count": null,
   "metadata": {},
   "outputs": [],
   "source": [
    "from astropy.io import fits\n",
    "from astropy.visualization import SqrtStretch\n",
    "from astropy.visualization.mpl_normalize import ImageNormalize\n",
    "import numpy as np\n",
    "\n",
    "import matplotlib\n",
    "from matplotlib import pyplot as plt\n",
    "%matplotlib inline"
   ]
  },
  {
   "cell_type": "markdown",
   "metadata": {},
   "source": [
    "## Read in data cube\n",
    "Read in NIRSpec IFU data cube from Box.   This particular example is a simulated quasar + host galaxy."
   ]
  },
  {
   "cell_type": "code",
   "execution_count": null,
   "metadata": {},
   "outputs": [],
   "source": [
    "BoxPath='https://data.science.stsci.edu/redirect/JWST/jwst-data_analysis_tools/cube_fitting/Q3D_20200407/'\n",
    "fname='Q3D_NRS_491_s3d.fits'\n",
    "filename=BoxPath+fname\n",
    "hdul1=fits.open(filename)\n",
    "hdul1.info()\n",
    "\n",
    "with fits.open(filename, memmap=False) as hdulist:\n",
    "    sci = hdulist[\"SCI\"].data\n"
   ]
  },
  {
   "cell_type": "markdown",
   "metadata": {},
   "source": [
    "## Sum over spectral axis\n",
    "\n",
    "This could be any derivative data product of the same shape as the spatial dimensions of the cube (emission line flux, equivalent width, velocity map, etc...). Here we are doing one of the simplest operations - a sum, for illustrative purposes"
   ]
  },
  {
   "cell_type": "code",
   "execution_count": null,
   "metadata": {},
   "outputs": [],
   "source": [
    "cube_sum=np.sum(sci, axis=0)"
   ]
  },
  {
   "cell_type": "markdown",
   "metadata": {},
   "source": [
    "## Generate contours\n",
    "User-specified contour levels in specified units. Custom colors are important, but could be added at a later stage if technically complicated.  Logarithmic and linear spacing options to auto-generate contours would be nice."
   ]
  },
  {
   "cell_type": "code",
   "execution_count": null,
   "metadata": {},
   "outputs": [],
   "source": [
    "min_level=np.min(cube_sum)\n",
    "max_level=np.max(cube_sum)\n",
    "level_colors=['blue', 'purple','red', 'magenta']\n",
    "contour_levels=[max_level/10000., max_level/1000., max_level/100., max_level/10.]"
   ]
  },
  {
   "cell_type": "markdown",
   "metadata": {},
   "source": [
    "## Display image and overlay contours"
   ]
  },
  {
   "cell_type": "code",
   "execution_count": null,
   "metadata": {},
   "outputs": [],
   "source": [
    "ax = plt.subplots()[1]\n",
    "\n",
    "#Image normalization\n",
    "norm = ImageNormalize(stretch=SqrtStretch())\n",
    "\n",
    "#Display image\n",
    "image = ax.imshow(cube_sum, cmap='gray', origin='lower', norm=norm)\n",
    "\n",
    "#Overlay contours\n",
    "contour = ax.contour(cube_sum, levels=contour_levels, colors=level_colors)\n"
   ]
  },
  {
   "cell_type": "markdown",
   "metadata": {},
   "source": [
    "# End original concept notebook\n",
    "# Start development notebook"
   ]
  },
  {
   "cell_type": "code",
   "execution_count": 1,
   "metadata": {
    "scrolled": false
   },
   "outputs": [
    {
     "name": "stderr",
     "output_type": "stream",
     "text": [
      "/Users/javerbukh/anaconda3/envs/jdaviz-dev/lib/python3.7/site-packages/glue/external/echo/__init__.py:3: UserWarning: glue.external.echo is deprecated, import from echo directly instead\n",
      "  warnings.warn('glue.external.echo is deprecated, import from echo directly instead')\n",
      "/Users/javerbukh/anaconda3/envs/jdaviz-dev/lib/python3.7/site-packages/setuptools/distutils_patch.py:26: UserWarning: Distutils was imported before Setuptools. This usage is discouraged and may exhibit undesirable behaviors or errors. Please use Setuptools' objects directly or at least import Setuptools first.\n",
      "  \"Distutils was imported before Setuptools. This usage is discouraged \"\n"
     ]
    },
    {
     "name": "stdout",
     "output_type": "stream",
     "text": [
      "[]\n"
     ]
    },
    {
     "data": {
      "application/vnd.jupyter.widget-view+json": {
       "model_id": "be9955694f4f4d819a22f0cc418c52ba",
       "version_major": 2,
       "version_minor": 0
      },
      "text/plain": [
       "Application(components={'g-viewer-tab': '<template>\\n  <component :is=\"stack.container\">\\n    <g-viewer-tab\\n …"
      ]
     },
     "metadata": {},
     "output_type": "display_data"
    }
   ],
   "source": [
    "from jdaviz.app import Application\n",
    "from glue.core import Data\n",
    "app = Application(configuration='cubeviz')\n",
    "# data = app.load_data(filename)\n",
    "app"
   ]
  },
  {
   "cell_type": "code",
   "execution_count": 2,
   "metadata": {
    "scrolled": false
   },
   "outputs": [
    {
     "name": "stderr",
     "output_type": "stream",
     "text": [
      "WARNING: UnitsWarning: '1E-17 erg/s/cm^2/A/spaxel' contains multiple slashes, which is discouraged by the FITS standard [astropy.units.format.generic]\n",
      "WARNING:astropy:UnitsWarning: '1E-17 erg/s/cm^2/A/spaxel' contains multiple slashes, which is discouraged by the FITS standard\n",
      "WARNING: No spectral axis found; header may be non-compliant. [spectral_cube.cube_utils]\n",
      "WARNING:astropy:No spectral axis found; header may be non-compliant.\n",
      "WARNING: No spectral axis found; header may be non-compliant. [spectral_cube.cube_utils]\n",
      "WARNING:astropy:No spectral axis found; header may be non-compliant.\n",
      "WARNING: UnitsWarning: '1E-17 erg/s/cm^2/A/spaxel' contains multiple slashes, which is discouraged by the FITS standard [astropy.units.format.generic]\n",
      "WARNING:astropy:UnitsWarning: '1E-17 erg/s/cm^2/A/spaxel' contains multiple slashes, which is discouraged by the FITS standard\n",
      "/Users/javerbukh/anaconda3/envs/jdaviz-dev/lib/python3.7/site-packages/glue/viewers/common/viewer.py:186: UserWarning: Add large data set?\n",
      "  warnings.warn(message)\n",
      "WARNING: No spectral axis found; header may be non-compliant. [spectral_cube.cube_utils]\n",
      "WARNING:astropy:No spectral axis found; header may be non-compliant.\n",
      "/Users/javerbukh/anaconda3/envs/jdaviz-dev/lib/python3.7/site-packages/glue/viewers/common/viewer.py:186: UserWarning: Add large data set?\n",
      "  warnings.warn(message)\n",
      "WARNING: No spectral axis found; header may be non-compliant. [spectral_cube.cube_utils]\n",
      "WARNING:astropy:No spectral axis found; header may be non-compliant.\n",
      "/Users/javerbukh/anaconda3/envs/jdaviz-dev/lib/python3.7/site-packages/glue/viewers/common/viewer.py:186: UserWarning: Add large data set?\n",
      "  warnings.warn(message)\n",
      "ERROR:root:Data should be 3- or 4-dimensional\n",
      "ERROR:root:Data should be 3- or 4-dimensional\n",
      "ERROR:root:Data should be 3- or 4-dimensional\n",
      "ERROR:root:Could not determine format - use the `format=` parameter to explicitly set the format\n",
      "ERROR:root:Data should be 3- or 4-dimensional\n",
      "ERROR:root:Data should be 3- or 4-dimensional\n",
      "ERROR:root:Data should be 3- or 4-dimensional\n",
      "ERROR:root:Data should be 3- or 4-dimensional\n",
      "ERROR:root:Data should be 3- or 4-dimensional\n",
      "ERROR:root:Data should be 3- or 4-dimensional\n",
      "ERROR:root:Data should be 3- or 4-dimensional\n",
      "ERROR:root:Data should be 3- or 4-dimensional\n",
      "ERROR:root:Data should be 3- or 4-dimensional\n",
      "ERROR:root:Data should be 3- or 4-dimensional\n"
     ]
    }
   ],
   "source": [
    "app.load_data(\"/Users/javerbukh/Documents/manga-7495-12704-LOGCUBE_fixed.fits\")"
   ]
  },
  {
   "cell_type": "markdown",
   "metadata": {},
   "source": [
    "# Test code, do not run"
   ]
  },
  {
   "cell_type": "code",
   "execution_count": null,
   "metadata": {},
   "outputs": [],
   "source": [
    "scale_x = LinearScale(min=0, max=1)\n",
    "scale_y = LinearScale(min=0, max=1)\n",
    "scales = {'x': scale_x, 'y': scale_y}\n",
    "axis_x = Axis(scale=scale_x, label='x')\n",
    "axis_y = Axis(scale=scale_y, label='y', orientation='vertical')\n",
    "scales_image = {'x': scale_x, 'y': scale_y, 'image': ColorScale(min=np.min(data_at_slice).item(), max=np.max(data_at_slice).item())}\n",
    "# print(np.min(cube_sum).item(), np.max(cube_sum).item())\n",
    "\n",
    "figure = Figure(scales=scales, axes=[axis_x, axis_y])\n",
    "image = ImageGL(image=data_at_slice, scales=scales_image)\n",
    "contour = Contour(contour_lines=[contour_list], level=contour_levels, scales=scales_image, label_steps=200)\n",
    "#contour = Contour(image=image, level=contour_levels, scales=scales_image, color=\"orange\")\n",
    "\n",
    "figure.marks = (image, contour)\n",
    "figure"
   ]
  },
  {
   "cell_type": "code",
   "execution_count": null,
   "metadata": {},
   "outputs": [],
   "source": [
    "figure_flux.figure.marks = figure_flux.figure.marks + [contour]"
   ]
  },
  {
   "cell_type": "code",
   "execution_count": null,
   "metadata": {},
   "outputs": [],
   "source": [
    "figure_flux.figure.marks = figure_flux_original_marks"
   ]
  },
  {
   "cell_type": "markdown",
   "metadata": {},
   "source": [
    "Plugin idea: Have the user enter what viewer they would like the contours to appear, what they would like contoured, contour levels, whether it updates with slice changed, and visible bool.\n",
    "\n"
   ]
  },
  {
   "cell_type": "code",
   "execution_count": null,
   "metadata": {},
   "outputs": [],
   "source": [
    "contour_level = [0.00016383392810821534, 0.0016383392810821534, 0.01638339281082153, 0.16383392810821534]\n",
    "contour_level_str = [\"{0:.4g}\".format(level) for level in contour_level]\n",
    "print(\",\".join(contour_level_str))"
   ]
  },
  {
   "cell_type": "markdown",
   "metadata": {},
   "source": [
    "# Run starting here"
   ]
  },
  {
   "cell_type": "code",
   "execution_count": 3,
   "metadata": {},
   "outputs": [],
   "source": [
    "from bqplot import Figure, LinearScale, Axis, ColorScale\n",
    "from bqplot_image_gl import ImageGL, Contour\n",
    "import skimage.measure\n",
    "import numpy as np\n",
    "from regions import  RectangleSkyRegion,RectanglePixelRegion\n",
    "from astropy.coordinates import Angle, SkyCoord\n",
    "from astropy import units as u \n",
    "from astropy.wcs import WCS"
   ]
  },
  {
   "cell_type": "code",
   "execution_count": 4,
   "metadata": {},
   "outputs": [
    {
     "name": "stdout",
     "output_type": "stream",
     "text": [
      "-0.01094425842165947 1e-17 erg / (A cm2 s)\n"
     ]
    }
   ],
   "source": [
    "viewer = app.get_viewer('flux-viewer')\n",
    "# [layer_state.layer.label for layer_state in viewer.state.layers]\n",
    "original_marks = viewer.figure.marks\n",
    "\n",
    "# Print data from viewer\n",
    "data_from_viewer = viewer.data()\n",
    "print(data_from_viewer[0].get_object().unmasked_data[viewer.state.slices[0],:,:].min())"
   ]
  },
  {
   "cell_type": "code",
   "execution_count": 5,
   "metadata": {},
   "outputs": [],
   "source": [
    "# Get data at current slice in the app\n",
    "data = app.data_collection[\"manga-7495-12704-LOGCUBE_fixed.fits[FLUX]\"].get_object()\n",
    "slice_index = viewer.state.slices[0]\n",
    "data_at_slice = data.unmasked_data[slice_index, :, :].value\n",
    "\n",
    "# Set test contour levels\n",
    "contour_levels = [0.01708,0.0708,0.1417,0.4,0.7,0.9,1.1]\n",
    "contour_levels_str = [\"{0:.4g}\".format(level) for level in contour_levels]\n",
    "color_list = [\"red\", \"orange\", \"yellow\", \"green\", \"blue\"]\n",
    "# print(data_at_slice[50])\n",
    "# viewer.figure.marks[0].image.min()"
   ]
  },
  {
   "cell_type": "code",
   "execution_count": 57,
   "metadata": {},
   "outputs": [
    {
     "name": "stdout",
     "output_type": "stream",
     "text": [
      "[array(205.44416749), array(26.99961499), array(3.62159598e-07)]\n",
      "SlicedFITSWCS Transformation\n",
      "\n",
      "This transformation has 2 pixel and 2 world dimensions\n",
      "\n",
      "Array shape (Numpy order): (74, 74)\n",
      "\n",
      "Pixel Dim  Axis Name  Data size  Bounds\n",
      "        0  None              74  None\n",
      "        1  None              74  None\n",
      "\n",
      "World Dim  Axis Name  Physical Type  Units\n",
      "        0  None       pos.eq.ra      deg\n",
      "        1  None       pos.eq.dec     deg\n",
      "\n",
      "Correlation between pixel and world axes:\n",
      "\n",
      "           Pixel Dim\n",
      "World Dim    0    1\n",
      "        0  yes  yes\n",
      "        1  yes  yes\n",
      "(74, 74)\n"
     ]
    }
   ],
   "source": [
    "from astropy.wcs.wcsapi import SlicedLowLevelWCS\n",
    "\n",
    "header_copy = data.header.copy()\n",
    "# header_copy['WCSAXES'] = 2\n",
    "# for key in data.header:\n",
    "#     if '3' in key:\n",
    "#         header_copy.remove(key)\n",
    "wcs_image = WCS(header_copy)\n",
    "#print(data_at_slice)\n",
    "#print(data.wcs[10].pixel_to_world_values)\n",
    "#world = wcs_image.wcs_pix2world(data_at_slice, 0)\n",
    "#print(dir(data_at_slice))\n",
    "#data_at_slice_wcs = wcs_image.wcs_pix2world(data_at_slice, data_at_slice, 1)\n",
    "subwcs = SlicedLowLevelWCS(wcs_image, slices=slice_index)  \n",
    "print(data.wcs.wcs_pix2world(0,0,0,0))\n",
    "\n",
    "data2 = app.data_collection[\"manga-7495-12704-LOGCUBE_fixed.fits[FLUX]\"]\n",
    "print(data2.get_object().wcs[slice_index,:,:])\n",
    "print(data_at_slice.shape)"
   ]
  },
  {
   "cell_type": "code",
   "execution_count": 7,
   "metadata": {},
   "outputs": [],
   "source": [
    "# Testing with different scales\n",
    "\n",
    "scale_x = LinearScale(min=0, max=1)\n",
    "scale_y = LinearScale(min=0, max=1)\n",
    "\n",
    "# Original scales\n",
    "scales_image = {'x': scale_x, 'y': scale_y,\n",
    "                'image': ColorScale(min=np.min(data_at_slice).item(), max=np.max(data_at_slice).item())}\n",
    "\n",
    "\n",
    "# This should set the contour marks track the figure marks as they are pan and zoomed\n",
    "scales = {'x': viewer.figure.interaction.x_scale, 'y': viewer.figure.interaction.y_scale}\n",
    "\n",
    "scales_metadata = viewer.figure.marks[0].scales_metadata"
   ]
  },
  {
   "cell_type": "code",
   "execution_count": 27,
   "metadata": {},
   "outputs": [
    {
     "name": "stdout",
     "output_type": "stream",
     "text": [
      "['__abstractmethods__', '__class__', '__delattr__', '__dict__', '__dir__', '__doc__', '__eq__', '__format__', '__ge__', '__getattribute__', '__gt__', '__hash__', '__init__', '__init_subclass__', '__le__', '__lt__', '__module__', '__ne__', '__new__', '__reduce__', '__reduce_ex__', '__repr__', '__setattr__', '__sizeof__', '__str__', '__subclasshook__', '__weakref__', '_abc_impl', '_as_mpl_axes', '_pixel_keep', '_slices_array', '_slices_pixel', '_wcs', '_world_keep', 'array_index_to_world_values', 'array_shape', 'axis_correlation_matrix', 'pixel_axis_names', 'pixel_bounds', 'pixel_n_dim', 'pixel_shape', 'pixel_to_world_values', 'serialized_classes', 'world_axis_names', 'world_axis_object_classes', 'world_axis_object_components', 'world_axis_physical_types', 'world_axis_units', 'world_n_dim', 'world_to_array_index_values', 'world_to_pixel_values']\n"
     ]
    },
    {
     "ename": "AttributeError",
     "evalue": "'SlicedLowLevelWCS' object has no attribute 'shape'",
     "output_type": "error",
     "traceback": [
      "\u001b[0;31m---------------------------------------------------------------------------\u001b[0m",
      "\u001b[0;31mAttributeError\u001b[0m                            Traceback (most recent call last)",
      "\u001b[0;32m<ipython-input-27-a21339ab6880>\u001b[0m in \u001b[0;36m<module>\u001b[0;34m\u001b[0m\n\u001b[1;32m      1\u001b[0m \u001b[0;32mfor\u001b[0m \u001b[0mindex\u001b[0m \u001b[0;32min\u001b[0m \u001b[0mrange\u001b[0m\u001b[0;34m(\u001b[0m\u001b[0;36m0\u001b[0m\u001b[0;34m,\u001b[0m\u001b[0mlen\u001b[0m\u001b[0;34m(\u001b[0m\u001b[0mcontour_levels\u001b[0m\u001b[0;34m)\u001b[0m\u001b[0;34m)\u001b[0m\u001b[0;34m:\u001b[0m\u001b[0;34m\u001b[0m\u001b[0;34m\u001b[0m\u001b[0m\n\u001b[1;32m      2\u001b[0m     \u001b[0mprint\u001b[0m\u001b[0;34m(\u001b[0m\u001b[0mdir\u001b[0m\u001b[0;34m(\u001b[0m\u001b[0msubwcs\u001b[0m\u001b[0;34m)\u001b[0m\u001b[0;34m)\u001b[0m\u001b[0;34m\u001b[0m\u001b[0;34m\u001b[0m\u001b[0m\n\u001b[0;32m----> 3\u001b[0;31m     \u001b[0mcontours\u001b[0m \u001b[0;34m=\u001b[0m \u001b[0mskimage\u001b[0m\u001b[0;34m.\u001b[0m\u001b[0mmeasure\u001b[0m\u001b[0;34m.\u001b[0m\u001b[0mfind_contours\u001b[0m\u001b[0;34m(\u001b[0m\u001b[0msubwcs\u001b[0m\u001b[0;34m,\u001b[0m \u001b[0mcontour_levels\u001b[0m\u001b[0;34m[\u001b[0m\u001b[0mindex\u001b[0m\u001b[0;34m]\u001b[0m\u001b[0;34m)\u001b[0m\u001b[0;34m\u001b[0m\u001b[0;34m\u001b[0m\u001b[0m\n\u001b[0m\u001b[1;32m      4\u001b[0m \u001b[0;31m#     print(contours)\u001b[0m\u001b[0;34m\u001b[0m\u001b[0;34m\u001b[0m\u001b[0;34m\u001b[0m\u001b[0m\n\u001b[1;32m      5\u001b[0m \u001b[0;31m#     break\u001b[0m\u001b[0;34m\u001b[0m\u001b[0;34m\u001b[0m\u001b[0;34m\u001b[0m\u001b[0m\n",
      "\u001b[0;32m~/anaconda3/envs/jdaviz-dev/lib/python3.7/site-packages/skimage/measure/_find_contours.py\u001b[0m in \u001b[0;36mfind_contours\u001b[0;34m(array, level, fully_connected, positive_orientation, mask)\u001b[0m\n\u001b[1;32m    121\u001b[0m         raise ValueError('Parameters \"positive_orientation\" must be either '\n\u001b[1;32m    122\u001b[0m                          '\"high\" or \"low\".')\n\u001b[0;32m--> 123\u001b[0;31m     \u001b[0;32mif\u001b[0m \u001b[0marray\u001b[0m\u001b[0;34m.\u001b[0m\u001b[0mshape\u001b[0m\u001b[0;34m[\u001b[0m\u001b[0;36m0\u001b[0m\u001b[0;34m]\u001b[0m \u001b[0;34m<\u001b[0m \u001b[0;36m2\u001b[0m \u001b[0;32mor\u001b[0m \u001b[0marray\u001b[0m\u001b[0;34m.\u001b[0m\u001b[0mshape\u001b[0m\u001b[0;34m[\u001b[0m\u001b[0;36m1\u001b[0m\u001b[0;34m]\u001b[0m \u001b[0;34m<\u001b[0m \u001b[0;36m2\u001b[0m\u001b[0;34m:\u001b[0m\u001b[0;34m\u001b[0m\u001b[0;34m\u001b[0m\u001b[0m\n\u001b[0m\u001b[1;32m    124\u001b[0m         \u001b[0;32mraise\u001b[0m \u001b[0mValueError\u001b[0m\u001b[0;34m(\u001b[0m\u001b[0;34m\"Input array must be at least 2x2.\"\u001b[0m\u001b[0;34m)\u001b[0m\u001b[0;34m\u001b[0m\u001b[0;34m\u001b[0m\u001b[0m\n\u001b[1;32m    125\u001b[0m     \u001b[0;32mif\u001b[0m \u001b[0marray\u001b[0m\u001b[0;34m.\u001b[0m\u001b[0mndim\u001b[0m \u001b[0;34m!=\u001b[0m \u001b[0;36m2\u001b[0m\u001b[0;34m:\u001b[0m\u001b[0;34m\u001b[0m\u001b[0;34m\u001b[0m\u001b[0m\n",
      "\u001b[0;31mAttributeError\u001b[0m: 'SlicedLowLevelWCS' object has no attribute 'shape'"
     ]
    }
   ],
   "source": [
    "for index in range(0,len(contour_levels)):\n",
    "    print(dir(subwcs))\n",
    "    contours = skimage.measure.find_contours(subwcs, contour_levels[index])\n",
    "#     print(contours)\n",
    "#     break\n",
    "#    contours_wcs = wcs_image.wcs_pix2world(contours[0][0][1:], contours[0][0][:1], 1)\n",
    "    print(\"Level {}\\n#############################\\n\".format(index))\n",
    "    contour = Contour(contour_lines=[contours], color=color_list[index%(len(color_list)-1)], level=float(contour_levels_str[index]), scales=scales, scales_metadata=scales_metadata, label_steps=200)\n",
    "\n",
    "    viewer.figure.marks = viewer.figure.marks + [contour]"
   ]
  },
  {
   "cell_type": "code",
   "execution_count": 24,
   "metadata": {},
   "outputs": [],
   "source": [
    "# Reset viewer marks\n",
    "viewer.figure.marks = [viewer.figure.marks[0]]"
   ]
  },
  {
   "cell_type": "code",
   "execution_count": null,
   "metadata": {},
   "outputs": [],
   "source": [
    "from bqplot import Toolbar\n",
    "from ipywidgets import VBox\n",
    "my_toolbar = Toolbar(figure=viewer.figure)\n",
    "VBox([viewer.figure, my_toolbar])"
   ]
  },
  {
   "cell_type": "code",
   "execution_count": null,
   "metadata": {},
   "outputs": [],
   "source": []
  }
 ],
 "metadata": {
  "kernelspec": {
   "display_name": "Python 3",
   "language": "python",
   "name": "python3"
  },
  "language_info": {
   "codemirror_mode": {
    "name": "ipython",
    "version": 3
   },
   "file_extension": ".py",
   "mimetype": "text/x-python",
   "name": "python",
   "nbconvert_exporter": "python",
   "pygments_lexer": "ipython3",
   "version": "3.7.7"
  }
 },
 "nbformat": 4,
 "nbformat_minor": 4
}
