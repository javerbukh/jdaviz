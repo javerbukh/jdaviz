{
 "cells": [
  {
   "cell_type": "markdown",
   "metadata": {},
   "source": [
    "# Contour Overlay "
   ]
  },
  {
   "cell_type": "markdown",
   "metadata": {},
   "source": [
    "## Imports \n",
    "* _numpy_ for array math\n",
    "* _astropy.io_ for reading and writing FITS cubes and images\n",
    "* _matplotlib.pyplot_ for plotting spectra and images."
   ]
  },
  {
   "cell_type": "code",
   "execution_count": null,
   "metadata": {},
   "outputs": [],
   "source": [
    "from astropy.io import fits\n",
    "from astropy.visualization import SqrtStretch\n",
    "from astropy.visualization.mpl_normalize import ImageNormalize\n",
    "import numpy as np\n",
    "\n",
    "import matplotlib\n",
    "from matplotlib import pyplot as plt\n",
    "%matplotlib inline"
   ]
  },
  {
   "cell_type": "markdown",
   "metadata": {},
   "source": [
    "## Read in data cube\n",
    "Read in NIRSpec IFU data cube from Box.   This particular example is a simulated quasar + host galaxy."
   ]
  },
  {
   "cell_type": "code",
   "execution_count": null,
   "metadata": {},
   "outputs": [],
   "source": [
    "BoxPath='https://data.science.stsci.edu/redirect/JWST/jwst-data_analysis_tools/cube_fitting/Q3D_20200407/'\n",
    "fname='Q3D_NRS_491_s3d.fits'\n",
    "filename=BoxPath+fname\n",
    "hdul1=fits.open(filename)\n",
    "hdul1.info()\n",
    "\n",
    "with fits.open(filename, memmap=False) as hdulist:\n",
    "    sci = hdulist[\"SCI\"].data\n"
   ]
  },
  {
   "cell_type": "markdown",
   "metadata": {},
   "source": [
    "## Sum over spectral axis\n",
    "\n",
    "This could be any derivative data product of the same shape as the spatial dimensions of the cube (emission line flux, equivalent width, velocity map, etc...). Here we are doing one of the simplest operations - a sum, for illustrative purposes"
   ]
  },
  {
   "cell_type": "code",
   "execution_count": null,
   "metadata": {},
   "outputs": [],
   "source": [
    "cube_sum=np.sum(sci, axis=0)"
   ]
  },
  {
   "cell_type": "markdown",
   "metadata": {},
   "source": [
    "## Generate contours\n",
    "User-specified contour levels in specified units. Custom colors are important, but could be added at a later stage if technically complicated.  Logarithmic and linear spacing options to auto-generate contours would be nice."
   ]
  },
  {
   "cell_type": "code",
   "execution_count": null,
   "metadata": {},
   "outputs": [],
   "source": [
    "min_level=np.min(cube_sum)\n",
    "max_level=np.max(cube_sum)\n",
    "level_colors=['blue', 'purple','red', 'magenta']\n",
    "contour_levels=[max_level/10000., max_level/1000., max_level/100., max_level/10.]"
   ]
  },
  {
   "cell_type": "markdown",
   "metadata": {},
   "source": [
    "## Display image and overlay contours"
   ]
  },
  {
   "cell_type": "code",
   "execution_count": null,
   "metadata": {},
   "outputs": [],
   "source": [
    "ax = plt.subplots()[1]\n",
    "\n",
    "#Image normalization\n",
    "norm = ImageNormalize(stretch=SqrtStretch())\n",
    "\n",
    "#Display image\n",
    "image = ax.imshow(cube_sum, cmap='gray', origin='lower', norm=norm)\n",
    "\n",
    "#Overlay contours\n",
    "contour = ax.contour(cube_sum, levels=contour_levels, colors=level_colors)\n"
   ]
  },
  {
   "cell_type": "code",
   "execution_count": null,
   "metadata": {},
   "outputs": [],
   "source": [
    "contour_levels"
   ]
  },
  {
   "cell_type": "code",
   "execution_count": null,
   "metadata": {
    "scrolled": false
   },
   "outputs": [],
   "source": [
    "from jdaviz.app import Application\n",
    "from glue.core import Data\n",
    "app = Application(configuration='cubeviz')\n",
    "# data = app.load_data(filename)\n",
    "app"
   ]
  },
  {
   "cell_type": "code",
   "execution_count": null,
   "metadata": {
    "scrolled": false
   },
   "outputs": [],
   "source": [
    "app.load_data(\"/Users/javerbukh/Documents/manga-7495-12704-LOGCUBE_fixed.fits\")"
   ]
  },
  {
   "cell_type": "code",
   "execution_count": null,
   "metadata": {},
   "outputs": [],
   "source": [
    "figure_flux = app.get_viewer(\"flux-viewer\")\n",
    "figure_flux.layers\n",
    "figure_flux_original_marks = figure_flux.figure.marks\n",
    "\n",
    "slice_index = figure_flux.state.slices[0]\n",
    "data = app.data_collection[figure_flux.state.reference_data.label].get_object()\n",
    "data_at_slice = data.unmasked_data[slice_index,:,:].value"
   ]
  },
  {
   "cell_type": "code",
   "execution_count": null,
   "metadata": {},
   "outputs": [],
   "source": [
    "figure_ivar = app.get_viewer(\"uncert-viewer\")\n",
    "\n",
    "slice_index_ivar = figure_ivar.state.slices[0]\n",
    "data_ivar = app.data_collection[figure_ivar.state.reference_data.label].get_object()\n",
    "data_at_slice_ivar = data_ivar.unmasked_data[slice_index_ivar,:,:].value"
   ]
  },
  {
   "cell_type": "code",
   "execution_count": null,
   "metadata": {},
   "outputs": [],
   "source": [
    "from bqplot import Figure, LinearScale, Axis, ColorScale\n",
    "from bqplot_image_gl import ImageGL, Contour\n",
    "import skimage.measure"
   ]
  },
  {
   "cell_type": "code",
   "execution_count": null,
   "metadata": {},
   "outputs": [],
   "source": [
    "min_level=np.min(data_at_slice_ivar)\n",
    "max_level=np.max(data_at_slice_ivar)\n",
    "level_colors=['blue', 'purple','red', 'magenta']\n",
    "contour_levels=[max_level/10000., max_level/1000., max_level/100., max_level/10.]"
   ]
  },
  {
   "cell_type": "code",
   "execution_count": null,
   "metadata": {},
   "outputs": [],
   "source": [
    "contour_list = []\n",
    "for contour_level in contour_levels:\n",
    "\n",
    "    contours = skimage.measure.find_contours(data_at_slice_ivar, contour_level)\n",
    "    contour_list += [k/data_at_slice_ivar.shape for k in contours]\n",
    "print(contour_levels)\n",
    "print(contour_list)"
   ]
  },
  {
   "cell_type": "code",
   "execution_count": null,
   "metadata": {},
   "outputs": [],
   "source": [
    "scale_x = LinearScale(min=0, max=1)\n",
    "scale_y = LinearScale(min=0, max=1)\n",
    "scales = {'x': scale_x, 'y': scale_y}\n",
    "axis_x = Axis(scale=scale_x, label='x')\n",
    "axis_y = Axis(scale=scale_y, label='y', orientation='vertical')\n",
    "scales_image = {'x': scale_x, 'y': scale_y, 'image': ColorScale(min=np.min(data_at_slice).item(), max=np.max(data_at_slice).item())}\n",
    "# print(np.min(cube_sum).item(), np.max(cube_sum).item())\n",
    "\n",
    "figure = Figure(scales=scales, axes=[axis_x, axis_y])\n",
    "image = ImageGL(image=data_at_slice, scales=scales_image)\n",
    "contour = Contour(contour_lines=[contour_list], level=contour_levels, scales=scales_image, label_steps=200)\n",
    "#contour = Contour(image=image, level=contour_levels, scales=scales_image, color=\"orange\")\n",
    "\n",
    "figure.marks = (image, contour)\n",
    "figure"
   ]
  },
  {
   "cell_type": "code",
   "execution_count": null,
   "metadata": {},
   "outputs": [],
   "source": [
    "contour.level"
   ]
  },
  {
   "cell_type": "code",
   "execution_count": null,
   "metadata": {},
   "outputs": [],
   "source": [
    "figure_flux.figure.marks = figure_flux.figure.marks + [contour]"
   ]
  },
  {
   "cell_type": "code",
   "execution_count": null,
   "metadata": {},
   "outputs": [],
   "source": [
    "figure_flux.figure.marks = figure_flux_original_marks"
   ]
  },
  {
   "cell_type": "markdown",
   "metadata": {},
   "source": [
    "Plugin idea: Have the user enter what viewer they would like the contours to appear, what they would like contoured, contour levels, whether it updates with slice changed, and visible bool.\n",
    "\n"
   ]
  },
  {
   "cell_type": "code",
   "execution_count": null,
   "metadata": {},
   "outputs": [],
   "source": [
    "[x.label for x in app.data_collection.data]"
   ]
  },
  {
   "cell_type": "code",
   "execution_count": null,
   "metadata": {},
   "outputs": [],
   "source": [
    "viewer = app.get_viewer('spectrum-viewer')\n",
    "[layer_state.layer.label for layer_state in viewer.state.layers]"
   ]
  },
  {
   "cell_type": "code",
   "execution_count": null,
   "metadata": {},
   "outputs": [],
   "source": []
  }
 ],
 "metadata": {
  "kernelspec": {
   "display_name": "Python 3",
   "language": "python",
   "name": "python3"
  },
  "language_info": {
   "codemirror_mode": {
    "name": "ipython",
    "version": 3
   },
   "file_extension": ".py",
   "mimetype": "text/x-python",
   "name": "python",
   "nbconvert_exporter": "python",
   "pygments_lexer": "ipython3",
   "version": "3.7.0"
  }
 },
 "nbformat": 4,
 "nbformat_minor": 4
}
