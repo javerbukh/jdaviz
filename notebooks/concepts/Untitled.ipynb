{
 "cells": [
  {
   "cell_type": "code",
   "execution_count": 1,
   "id": "a6aa2289-d6f0-4f0e-969a-0e559f74d00a",
   "metadata": {},
   "outputs": [],
   "source": [
    "import numpy as np\n",
    "from astropy.wcs import WCS\n",
    "import glue_jupyter as gj\n",
    "from glue.core import Data\n",
    "from glue.plugins.wcs_autolinking.wcs_autolinking import WCSLink\n",
    "from specutils import Spectrum1D\n",
    "from glue.core.link_helpers import LinkSame\n",
    "from glue.core.roi import XRangeROI"
   ]
  },
  {
   "cell_type": "code",
   "execution_count": null,
   "id": "9395958c-1973-48d7-bb21-b325268e3988",
   "metadata": {},
   "outputs": [],
   "source": [
    "# wcs1 = WCS(naxis=1)\n",
    "# wcs1.wcs.ctype = ['WAVE']\n",
    "# wcs1.wcs.crval = [10]\n",
    "# wcs1.wcs.cdelt = [3]\n",
    "# wcs1.wcs.crpix = [1]\n",
    "# wcs1.wcs.cunit = ['cm']\n",
    "\n",
    "# d1 = Data(temp1=np.random.random(10))\n",
    "# d1.get_component('temp1').units = 'deg_C'\n",
    "# d1.coords = wcs1"
   ]
  },
  {
   "cell_type": "code",
   "execution_count": null,
   "id": "e78515d0-21e0-44a3-998d-6aef55c2b12b",
   "metadata": {},
   "outputs": [],
   "source": [
    "# wcs1 = WCS(naxis=1)\n",
    "# wcs1.wcs.ctype = ['WAVE']\n",
    "# wcs1.wcs.crval = [10]\n",
    "# wcs1.wcs.cdelt = [3]\n",
    "# wcs1.wcs.crpix = [1]\n",
    "# wcs1.wcs.cunit = ['cm']\n",
    "\n",
    "# d2 = Data(temp2=np.random.random(10) + 273)\n",
    "# d2.get_component('temp2').units = 'K'\n",
    "# d2.coords = wcs1"
   ]
  },
  {
   "cell_type": "code",
   "execution_count": null,
   "id": "5e0463b5-f73b-4cbc-870b-7f4525d25a6d",
   "metadata": {},
   "outputs": [],
   "source": [
    "# from astropy import units as u\n",
    "# from glue.core.units import unit_converter\n",
    "\n",
    "# @unit_converter('custom-astropy')\n",
    "# class UnitConverterWithTemperature:\n",
    "\n",
    "#     def equivalent_units(self, data, cid, units):\n",
    "#         equivalencies = u.temperature() if 'temp' in cid.label.lower() else None\n",
    "#         return map(u.Unit(units).find_equivalent_units(include_prefix_units=True, equivalencies=equivalencies), str)\n",
    "\n",
    "#     def to_unit(self, data, cid, values, original_units, target_units):\n",
    "#         equivalencies = u.temperature() if 'temp' in cid.label.lower() else None\n",
    "#         return (values * u.Unit(original_units)).to_value(target_units, equivalencies=equivalencies)"
   ]
  },
  {
   "cell_type": "code",
   "execution_count": 2,
   "id": "2e098d56-90d7-4b34-839f-bcd86f1bf5be",
   "metadata": {},
   "outputs": [],
   "source": [
    "from astropy import units as u\n",
    "from glue.core.units import unit_converter\n",
    "\n",
    "@unit_converter('custom-astropy4')\n",
    "class UnitConverterWithSpectral:\n",
    "\n",
    "    def equivalent_units(self, data, cid, units):\n",
    "        equivalencies = u.spectral() if cid.label.lower() in ['freq', 'wave'] else None\n",
    "        print(equivalencies)\n",
    "        return map(str, u.Unit(units).find_equivalent_units(include_prefix_units=True, equivalencies=equivalencies))\n",
    "\n",
    "    def to_unit(self, data, cid, values, original_units, target_units):\n",
    "        equivalencies = u.spectral() if cid.label.lower() in ['freq', 'wave'] else None\n",
    "        print(f\"2 {equivalencies}\")\n",
    "        print(f\"2 {equivalencies}\")\n",
    "\n",
    "        return (values * u.Unit(original_units)).to_value(target_units, equivalencies=equivalencies)"
   ]
  },
  {
   "cell_type": "code",
   "execution_count": 19,
   "id": "557a304b-a0fe-4bec-bc91-25d5512d946d",
   "metadata": {},
   "outputs": [],
   "source": [
    "data1 = Data(a=[1, 2, 3], b=[4, 5, 6])\n",
    "data1.get_component('a').units = 'm'\n",
    "\n",
    "uc = UnitConverterWithSpectral()\n"
   ]
  },
  {
   "cell_type": "code",
   "execution_count": 23,
   "id": "fe813d15-d305-4a4f-bc73-40e441911d50",
   "metadata": {},
   "outputs": [],
   "source": [
    "for x in uc.equivalent_units(data1, data1.id['a'], 'm')\n"
   ]
  },
  {
   "cell_type": "code",
   "execution_count": 34,
   "id": "d98cffa8-96da-413b-a4a4-b920bf9c22c3",
   "metadata": {},
   "outputs": [
    {
     "name": "stdout",
     "output_type": "stream",
     "text": [
      "2 None\n"
     ]
    },
    {
     "data": {
      "text/plain": [
       "2.0"
      ]
     },
     "execution_count": 34,
     "metadata": {},
     "output_type": "execute_result"
    }
   ],
   "source": [
    "uc.to_unit(data1, data1.id['a'], 2000, 'm', 'km')"
   ]
  },
  {
   "cell_type": "code",
   "execution_count": 3,
   "id": "4aaac6d6-17ec-402a-880a-00881e2e4f23",
   "metadata": {},
   "outputs": [],
   "source": [
    "from glue.config import settings\n",
    "settings.UNIT_CONVERTER = 'custom-astropy4'"
   ]
  },
  {
   "cell_type": "code",
   "execution_count": 35,
   "id": "4df4b6b1-cb00-4136-8c8a-024348abf30f",
   "metadata": {},
   "outputs": [
    {
     "ename": "AttributeError",
     "evalue": "'Data' object has no attribute 'to_unit'",
     "output_type": "error",
     "traceback": [
      "\u001b[0;31m---------------------------------------------------------------------------\u001b[0m",
      "\u001b[0;31mAttributeError\u001b[0m                            Traceback (most recent call last)",
      "Cell \u001b[0;32mIn[35], line 1\u001b[0m\n\u001b[0;32m----> 1\u001b[0m \u001b[43mdata1\u001b[49m\u001b[38;5;241;43m.\u001b[39;49m\u001b[43mto_unit\u001b[49m\n",
      "\u001b[0;31mAttributeError\u001b[0m: 'Data' object has no attribute 'to_unit'"
     ]
    }
   ],
   "source": [
    "def format_unit(unit):\n",
    "    if unit is None:\n",
    "        return 'Native units'\n",
    "    else:\n",
    "        return unit\n",
    "\n",
    ".x_display_unit.set_display_func(self, format_unit)"
   ]
  },
  {
   "cell_type": "code",
   "execution_count": 4,
   "id": "82eaf0ae-fbd9-4c29-9537-736085768cc6",
   "metadata": {},
   "outputs": [
    {
     "data": {
      "application/vnd.jupyter.widget-view+json": {
       "model_id": "a311a45f84ed4869a0570a491c414b3b",
       "version_major": 2,
       "version_minor": 0
      },
      "text/plain": [
       "Application(config='specviz', events=['call_viewer_method', 'close_snackbar_message', 'data_item_remove', 'dat…"
      ]
     },
     "execution_count": 4,
     "metadata": {},
     "output_type": "execute_result"
    }
   ],
   "source": [
    "from jdaviz import Specviz\n",
    "specviz = Specviz()\n",
    "specviz.app"
   ]
  },
  {
   "cell_type": "code",
   "execution_count": 5,
   "id": "3992d473-072e-48f5-9294-d5d338076b92",
   "metadata": {},
   "outputs": [
    {
     "ename": "NameError",
     "evalue": "name 'd1' is not defined",
     "output_type": "error",
     "traceback": [
      "\u001b[0;31m---------------------------------------------------------------------------\u001b[0m",
      "\u001b[0;31mNameError\u001b[0m                                 Traceback (most recent call last)",
      "Cell \u001b[0;32mIn[5], line 1\u001b[0m\n\u001b[0;32m----> 1\u001b[0m specviz\u001b[38;5;241m.\u001b[39mapp\u001b[38;5;241m.\u001b[39madd_data(\u001b[43md1\u001b[49m, \u001b[38;5;124m\"\u001b[39m\u001b[38;5;124md1\u001b[39m\u001b[38;5;124m\"\u001b[39m)\n\u001b[1;32m      2\u001b[0m specviz\u001b[38;5;241m.\u001b[39mapp\u001b[38;5;241m.\u001b[39madd_data(d2, \u001b[38;5;124m\"\u001b[39m\u001b[38;5;124md2\u001b[39m\u001b[38;5;124m\"\u001b[39m)\n\u001b[1;32m      3\u001b[0m specviz\u001b[38;5;241m.\u001b[39mapp\u001b[38;5;241m.\u001b[39mdata_collection\u001b[38;5;241m.\u001b[39madd_link(WCSLink(d1, d2))\n",
      "\u001b[0;31mNameError\u001b[0m: name 'd1' is not defined"
     ]
    }
   ],
   "source": [
    "specviz.app.add_data(d1, \"d1\")\n",
    "specviz.app.add_data(d2, \"d2\")\n",
    "specviz.app.data_collection.add_link(WCSLink(d1, d2))"
   ]
  },
  {
   "cell_type": "markdown",
   "id": "8e443baa-6cbb-48d6-94c4-e5f349f23bf3",
   "metadata": {},
   "source": [
    "# The following cell changes the display of the flux unit"
   ]
  },
  {
   "cell_type": "code",
   "execution_count": null,
   "id": "0d8f6d88-f6a6-426c-97f5-673c9b1581b1",
   "metadata": {},
   "outputs": [],
   "source": [
    "# Y conversion works but X does not allow conversion from wavelength to frequency\n",
    "\n",
    "# specviz.app.get_viewer(\"spectrum-viewer\").state.x_display_unit = \"MHz\"\n",
    "specviz.app.get_viewer(\"spectrum-viewer\").state.y_display_unit"
   ]
  },
  {
   "cell_type": "code",
   "execution_count": 14,
   "id": "93002c30-3c1f-4b30-8153-d1ba7f1b2fa1",
   "metadata": {},
   "outputs": [
    {
     "data": {
      "text/plain": [
       "[<Spectrum1D(flux=<Quantity [1., 2., 3.] Jy>, spectral_axis=<SpectralAxis \n",
       "    (observer to target:\n",
       "       radial_velocity=0.0 km / s\n",
       "       redshift=0.0)\n",
       "   [1.e+09, 2.e+09, 3.e+09] Hz>)>,\n",
       " <Spectrum1D(flux=<Quantity [2000., 1000., 3000.] mJy>, spectral_axis=<SpectralAxis \n",
       "    (observer to target:\n",
       "       radial_velocity=0.0 km / s\n",
       "       redshift=0.0)\n",
       "   [0.1, 0.2, 0.3] m>)>]"
      ]
     },
     "execution_count": 14,
     "metadata": {},
     "output_type": "execute_result"
    }
   ],
   "source": [
    "\n",
    "# Shows data retains units while being displayed in different units\n",
    "viewer = specviz.app.get_viewer(\"spectrum-viewer\")\n",
    "viewer.data()"
   ]
  },
  {
   "cell_type": "code",
   "execution_count": 6,
   "id": "7ec85463-32f2-42eb-9860-12d67e4931d4",
   "metadata": {},
   "outputs": [],
   "source": [
    "import numpy as np\n",
    "from astropy.wcs import WCS\n",
    "import glue_jupyter as gj\n",
    "from glue.core import Data\n",
    "from glue.plugins.wcs_autolinking.wcs_autolinking import WCSLink\n",
    "from specutils import Spectrum1D\n",
    "from glue.core.link_helpers import LinkSame\n",
    "from glue.core.roi import XRangeROI\n",
    "\n",
    "wcs1 = WCS(naxis=1)\n",
    "wcs1.wcs.ctype = ['FREQ']\n",
    "wcs1.wcs.crval = [1]\n",
    "wcs1.wcs.cdelt = [1]\n",
    "wcs1.wcs.crpix = [1]\n",
    "wcs1.wcs.cunit = ['GHz']\n",
    "\n",
    "d1 = Data(f1=[1, 2, 3])\n",
    "d1.get_component('f1').units = 'Jy'\n",
    "d1.coords = wcs1\n",
    "\n",
    "wcs2 = WCS(naxis=1)\n",
    "wcs2.wcs.ctype = ['WAVE']\n",
    "wcs2.wcs.crval = [10]\n",
    "wcs2.wcs.cdelt = [10]\n",
    "wcs2.wcs.crpix = [1]\n",
    "wcs2.wcs.cunit = ['cm']\n",
    "\n",
    "d2 = Data(f2=[2000, 1000, 3000])\n",
    "d2.get_component('f2').units = 'mJy'\n",
    "d2.coords = wcs2\n",
    "\n",
    "from jdaviz import Specviz\n",
    "specviz = Specviz()"
   ]
  },
  {
   "cell_type": "code",
   "execution_count": 7,
   "id": "0e46a88b-3eb6-4668-9ab8-253f56a4a053",
   "metadata": {},
   "outputs": [
    {
     "name": "stderr",
     "output_type": "stream",
     "text": [
      "WARNING: No observer defined on WCS, SpectralCoord will be converted without any velocity frame change [astropy.wcs.wcsapi.fitswcs]\n"
     ]
    },
    {
     "data": {
      "application/vnd.jupyter.widget-view+json": {
       "model_id": "83aa39e606154db880f47cd0041ee323",
       "version_major": 2,
       "version_minor": 0
      },
      "text/plain": [
       "Application(config='specviz', events=['call_viewer_method', 'close_snackbar_message', 'data_item_remove', 'dat…"
      ]
     },
     "metadata": {},
     "output_type": "display_data"
    }
   ],
   "source": [
    "specviz.app.add_data(d1, \"d1\")\n",
    "specviz.app.add_data(d2, \"d2\")\n",
    "specviz.app.data_collection.add_link(WCSLink(d1, d2))\n",
    "\n",
    "specviz.show()"
   ]
  },
  {
   "cell_type": "code",
   "execution_count": 15,
   "id": "f229f30b-8aa8-4ba5-b74a-774c03dfdb3e",
   "metadata": {},
   "outputs": [
    {
     "data": {
      "text/plain": [
       "(array([2.99792458e+09, 1.49896229e+09, 9.99308193e+08]),\n",
       " array([2000., 1000., 3000.]))"
      ]
     },
     "execution_count": 15,
     "metadata": {},
     "output_type": "execute_result"
    }
   ],
   "source": [
    "viewer.state.layers[1].profile"
   ]
  },
  {
   "cell_type": "code",
   "execution_count": 18,
   "id": "fbb8b101-9b96-4d36-acb2-8455cc1af5b5",
   "metadata": {},
   "outputs": [],
   "source": [
    "viewer._update_axes()"
   ]
  },
  {
   "cell_type": "code",
   "execution_count": 10,
   "id": "38253122-889d-4c60-adf3-2d510a8b92c9",
   "metadata": {},
   "outputs": [
    {
     "ename": "AttributeError",
     "evalue": "'NoneType' object has no attribute 'set_display_func'",
     "output_type": "error",
     "traceback": [
      "\u001b[0;31m---------------------------------------------------------------------------\u001b[0m",
      "\u001b[0;31mAttributeError\u001b[0m                            Traceback (most recent call last)",
      "Cell \u001b[0;32mIn[10], line 7\u001b[0m\n\u001b[1;32m      4\u001b[0m     \u001b[38;5;28;01melse\u001b[39;00m:\n\u001b[1;32m      5\u001b[0m         \u001b[38;5;28;01mreturn\u001b[39;00m unit\n\u001b[0;32m----> 7\u001b[0m \u001b[43mspecviz\u001b[49m\u001b[38;5;241;43m.\u001b[39;49m\u001b[43mapp\u001b[49m\u001b[38;5;241;43m.\u001b[39;49m\u001b[43mget_viewer\u001b[49m\u001b[43m(\u001b[49m\u001b[38;5;124;43m\"\u001b[39;49m\u001b[38;5;124;43mspectrum-viewer\u001b[39;49m\u001b[38;5;124;43m\"\u001b[39;49m\u001b[43m)\u001b[49m\u001b[38;5;241;43m.\u001b[39;49m\u001b[43mstate\u001b[49m\u001b[38;5;241;43m.\u001b[39;49m\u001b[43my_display_unit\u001b[49m\u001b[38;5;241;43m.\u001b[39;49m\u001b[43mset_display_func\u001b[49m(\u001b[38;5;28mself\u001b[39m, format_unit)\n",
      "\u001b[0;31mAttributeError\u001b[0m: 'NoneType' object has no attribute 'set_display_func'"
     ]
    }
   ],
   "source": [
    "def format_unit(unit):\n",
    "    if unit is None:\n",
    "        return 'Native units'\n",
    "    else:\n",
    "        return unit\n",
    "\n",
    "specviz.app.get_viewer(\"spectrum-viewer\").state.y_display_unit.set_display_func(self, format_unit)"
   ]
  },
  {
   "cell_type": "code",
   "execution_count": 16,
   "id": "19363bd9-c2df-45eb-9229-b864148b5e2e",
   "metadata": {},
   "outputs": [],
   "source": [
    "specviz.app.get_viewer(\"spectrum-viewer\").state.x_display_unit = 'um'"
   ]
  },
  {
   "cell_type": "code",
   "execution_count": 13,
   "id": "f1a5953a-be71-4671-bf71-2f0fd292dbe1",
   "metadata": {},
   "outputs": [
    {
     "data": {
      "text/plain": [
       "'Data values'"
      ]
     },
     "execution_count": 13,
     "metadata": {},
     "output_type": "execute_result"
    }
   ],
   "source": [
    "specviz.app.get_viewer(\"spectrum-viewer\").state.y_axislabel"
   ]
  },
  {
   "cell_type": "code",
   "execution_count": null,
   "id": "e6a7eb30-dc2d-4750-9181-7be0562cddbc",
   "metadata": {},
   "outputs": [],
   "source": [
    "specviz.app.get_viewer(\"spectrum-viewer\").apply_roi(XRangeROI(1.2e+9, 2e+9))"
   ]
  },
  {
   "cell_type": "code",
   "execution_count": null,
   "id": "8c9c77d3-4d3e-4e1b-9fb3-662acfc6138c",
   "metadata": {},
   "outputs": [],
   "source": [
    "specviz.app.get_viewer(\"spectrum-viewer\").state.y_display_unit.equivalent_units"
   ]
  },
  {
   "cell_type": "code",
   "execution_count": null,
   "id": "269ed1f1-6048-4533-bc53-7c7cd6ef6e4d",
   "metadata": {},
   "outputs": [],
   "source": [
    "dir(specviz.app.get_viewer(\"spectrum-viewer\"))"
   ]
  },
  {
   "cell_type": "code",
   "execution_count": null,
   "id": "871686e0-8a68-4529-b55b-fe0803273f7a",
   "metadata": {},
   "outputs": [],
   "source": [
    "def convert_x_axis_to(new_x):\n",
    "    specviz.app.get_viewer(\"spectrum-viewer\").state.x_display_unit = new_x\n",
    "\n",
    "def convert_y_axis_to(new_y):\n",
    "    specviz.app.get_viewer(\"spectrum-viewer\").state.y_display_unit = new_y"
   ]
  },
  {
   "cell_type": "code",
   "execution_count": null,
   "id": "7fffbba3-4e3a-4e97-ba04-4474a2e15880",
   "metadata": {},
   "outputs": [],
   "source": [
    "convert_y_axis_to(\"Jy\")"
   ]
  },
  {
   "cell_type": "code",
   "execution_count": null,
   "id": "170bacc0-0e0d-439a-9aaa-b699381590e4",
   "metadata": {},
   "outputs": [],
   "source": [
    "convert_x_axis_to(\"um\")"
   ]
  },
  {
   "cell_type": "code",
   "execution_count": null,
   "id": "ce300260-ee3f-48d9-8c58-1cf07d42d195",
   "metadata": {},
   "outputs": [],
   "source": [
    "d2.main_components"
   ]
  },
  {
   "cell_type": "code",
   "execution_count": null,
   "id": "9e3acf9d-5585-48c4-a69e-37e535c0abf4",
   "metadata": {},
   "outputs": [],
   "source": [
    "specviz."
   ]
  },
  {
   "cell_type": "code",
   "execution_count": null,
   "id": "867b0890-6c79-48ee-8251-db3a421f76bf",
   "metadata": {},
   "outputs": [],
   "source": []
  }
 ],
 "metadata": {
  "kernelspec": {
   "display_name": "Python 3 (ipykernel)",
   "language": "python",
   "name": "python3"
  },
  "language_info": {
   "codemirror_mode": {
    "name": "ipython",
    "version": 3
   },
   "file_extension": ".py",
   "mimetype": "text/x-python",
   "name": "python",
   "nbconvert_exporter": "python",
   "pygments_lexer": "ipython3",
   "version": "3.9.16"
  }
 },
 "nbformat": 4,
 "nbformat_minor": 5
}
