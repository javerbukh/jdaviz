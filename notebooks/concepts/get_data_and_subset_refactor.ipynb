{
 "cells": [
  {
   "cell_type": "code",
   "execution_count": 1,
   "id": "087a38e0-52e9-4530-9823-9b8c25d6ddc1",
   "metadata": {},
   "outputs": [
    {
     "name": "stdout",
     "output_type": "stream",
     "text": [
      "INFO: Found cached file /var/folders/nm/dt67twk14fb68133q71wnrwh0001rs/T/jw02732-o004_t004_miri_ch1-shortmediumlong_x1d.fits with expected size 590400. [astroquery.query]\n"
     ]
    },
    {
     "data": {
      "application/vnd.jupyter.widget-view+json": {
       "model_id": "b7cd044499274b1cbd04d4c41cb307fe",
       "version_major": 2,
       "version_minor": 0
      },
      "text/plain": [
       "Application(config='specviz', events=['call_viewer_method', 'close_snackbar_message', 'data_item_remove', 'dat…"
      ]
     },
     "metadata": {},
     "output_type": "display_data"
    }
   ],
   "source": [
    "import warnings\n",
    "import tempfile\n",
    "\n",
    "import numpy as np\n",
    "from specutils import Spectrum1D\n",
    "from astroquery.mast import Observations\n",
    "from inspect import isclass\n",
    "from glue.core import BaseData\n",
    "from glue.core.subset import Subset, RangeSubsetState, RoiSubsetState\n",
    "from glue.core.roi import XRangeROI\n",
    "from glue.config import data_translator\n",
    "from glue.core.edit_subset_mode import OrMode\n",
    "\n",
    "\n",
    "\n",
    "\n",
    "\n",
    "from regions import PixCoord, CirclePixelRegion\n",
    "\n",
    "from jdaviz import Specviz\n",
    "\n",
    "specviz = Specviz()\n",
    "\n",
    "data_dir = tempfile.gettempdir()\n",
    "\n",
    "fn = \"jw02732-o004_t004_miri_ch1-shortmediumlong_x1d.fits\"\n",
    "\n",
    "result = Observations.download_file(f\"mast:JWST/product/{fn}\", local_path=f'{data_dir}/{fn}')\n",
    "\n",
    "\n",
    "\n",
    "\n",
    "with warnings.catch_warnings():\n",
    "    warnings.simplefilter('ignore')\n",
    "    specviz.load_spectrum(f'{data_dir}/{fn}', \"spec1\")\n",
    "    specviz.load_spectrum(f'{data_dir}/{fn}', \"spec2\")\n",
    "\n",
    "\n",
    "specviz.show()\n",
    "\n",
    "specviz.app.get_viewer(\"spectrum-viewer\").apply_roi(XRangeROI(5.4, 5.6))\n",
    "specviz.app.session.edit_subset_mode.mode = OrMode\n",
    "\n",
    "specviz.app.get_viewer(\"spectrum-viewer\").apply_roi(XRangeROI(6, 6.6))\n",
    "specviz.app.get_viewer(\"spectrum-viewer\").apply_roi(XRangeROI(7, 7.2))\n",
    "\n"
   ]
  },
  {
   "cell_type": "code",
   "execution_count": 4,
   "id": "6128a287-dae3-4897-800d-3b4baaf00b1e",
   "metadata": {},
   "outputs": [],
   "source": [
    "def get_select_data_from_viewer(\n",
    "    # supply the helper:\n",
    "    specviz,\n",
    "    # \n",
    "    viewer_reference, \n",
    "    # if provided, only return associated data\n",
    "    data_label=None, \n",
    "    # \n",
    "    cls='default',\n",
    "    # whether to include subsets in the returned dictionary\n",
    "    include_subsets=True,\n",
    "    # whether to only include subsets in the returned dictionary\n",
    "    only_subsets=False,\n",
    "    # return subsets the old way i.e. as a mask applied to a spectrum1d object\n",
    "    apply_subsets_to_data=False\n",
    "                               \n",
    "                               \n",
    "):\n",
    "    \"\"\"\n",
    "    \n",
    "    \"\"\"\n",
    "    \n",
    "    viewer = specviz.app.get_viewer(viewer_reference)\n",
    "    cls = viewer.default_class if cls == 'default' else cls\n",
    "\n",
    "    # TODO: Fix second part of the following statement\n",
    "    if cls is not None and not isclass(cls):\n",
    "        raise TypeError(\n",
    "            \"cls in get_data_from_viewer must be a class, None, or \"\n",
    "            \"the 'default' string.\")\n",
    "\n",
    "    data = {}\n",
    "\n",
    "    # If the viewer also supports collapsing, then grab the user's chosen\n",
    "    #  statistic for collapsing data\n",
    "    if hasattr(viewer.state, 'function'):\n",
    "        statistic = viewer.state.function\n",
    "    else:\n",
    "        statistic = None\n",
    "\n",
    "    for layer_state in viewer.state.layers:\n",
    "        label = layer_state.layer.label\n",
    "\n",
    "        if (hasattr(layer_state, 'layer') and\n",
    "                (data_label is None or label == data_label)):\n",
    "\n",
    "            # For raw data, just include the data itself\n",
    "            if isinstance(layer_state.layer, BaseData):\n",
    "                layer_data = layer_state.layer\n",
    "\n",
    "                if cls is not None:\n",
    "                    # If data is one-dimensional, assume that it can be\n",
    "                    #  collapsed via the defined statistic\n",
    "                    if 'Trace' in layer_data.meta:\n",
    "                        layer_data = layer_data.get_object()\n",
    "                    elif cls == Spectrum1D:\n",
    "                        layer_data = layer_data.get_object(cls=cls,\n",
    "                                                           statistic=statistic)\n",
    "                    else:\n",
    "                        layer_data = layer_data.get_object(cls=cls)\n",
    "                # If the shape of the data is 2d, then use CCDData as the\n",
    "                #  output data type\n",
    "                elif len(layer_data.shape) == 2:\n",
    "                    layer_data = layer_data.get_object(cls=CCDData)\n",
    "\n",
    "                data[label] = layer_data\n",
    "\n",
    "            # For subsets, make sure to apply the subset mask to the\n",
    "            #  layer data first\n",
    "            elif isinstance(layer_state.layer, Subset):\n",
    "                if include_subsets:\n",
    "#                     layer_data = layer_state.layer\n",
    "\n",
    "#                     if cls is not None:\n",
    "#                         handler, _ = data_translator.get_handler_for(cls)\n",
    "#                         try:\n",
    "#                             layer_data = handler.to_object(layer_data,\n",
    "#                                                            statistic=statistic)\n",
    "#                         except IncompatibleAttribute:\n",
    "#                             continue\n",
    "\n",
    "                    # data[label] = traverse(layer_state.layer.subset_state)\n",
    "                    data[label] = layer_state.layer.subset_state.traverse()\n",
    "\n",
    "\n",
    "\n",
    "    \"\"\"\n",
    "    how do we want subset information returned?\n",
    "        - as before (applied to each data and returned as a masked spectrum1d)\n",
    "            - apply subsets keyword in get_data takes list of strings that are subset names and apply those subsets to the data\n",
    "        - as an astropy region showing all bounds of subset, even if compound?\n",
    "        - as a glue subset object (not sure how beneficial this would be)\n",
    "        - something else? \n",
    "            - define mask component for spectrum\n",
    "            - do not want spectrum attaached to one particular mask\n",
    "            - return as just a mask so that a user can use them as they wish in the notebook +\n",
    "            - remove subsets from this method completely +\n",
    "            - remove `get_viewer` from get subsets method (cubeviz case is special since a subset is spatial and also applied in spectrum-viewer as a collapsed function)\n",
    "            - implement get_data_... at base helper class level so it can be public api\n",
    "            - force get_data to require a data_label so data is returned along with associated subsets. This avoids returning as a dictionary where keys can be overwritten\n",
    "            - get_data needs to know if data needs to be collapsed or not (use cls parameter, or overload cubeviz helper to have extra keyword arguement)\n",
    "        - method for accessing data labels present/visible in jdaviz viewers\n",
    "            \n",
    "            \n",
    "    \n",
    "    problem with 1st option is explored here: https://github.com/spacetelescope/jdaviz/issues/1921\n",
    "\n",
    "    problem with 2nd option is glue astronomy translators would need to be updated to handle 1d\n",
    "    data and units would need to be assumed (glue subsets do not have units).\n",
    "    \"\"\"\n",
    "\n",
    "\n",
    "    # If a data label was provided, return only the corresponding data, otherwise return all:\n",
    "    return data.get(data_label, data)"
   ]
  },
  {
   "cell_type": "code",
   "execution_count": 1,
   "id": "b11589d9-9c50-46a4-8bd9-52a7c9e4fb80",
   "metadata": {},
   "outputs": [
    {
     "name": "stdout",
     "output_type": "stream",
     "text": [
      "[6000. 6200. 6400. 6600. 6800. 7000. 7200. 7400. 7600. 7800. 8000.] Angstrom\n",
      "[7000. 7200. 7400. 7600. 7800. 8000. 8200. 8400. 8600. 8800. 9000.] Angstrom\n"
     ]
    },
    {
     "data": {
      "application/vnd.jupyter.widget-view+json": {
       "model_id": "b7e9f42c44214f5c96e45507ec2a4094",
       "version_major": 2,
       "version_minor": 0
      },
      "text/plain": [
       "Application(config='specviz', events=['call_viewer_method', 'close_snackbar_message', 'data_item_remove', 'dat…"
      ]
     },
     "metadata": {},
     "output_type": "display_data"
    }
   ],
   "source": [
    "import numpy as np\n",
    "from astropy import units as u\n",
    "from astropy.nddata import CCDData, StdDevUncertainty\n",
    "from glue.core.edit_subset_mode import (AndMode, AndNotMode, OrMode,\n",
    "                                        ReplaceMode, XorMode, NewMode)\n",
    "import warnings\n",
    "\n",
    "from specutils import Spectrum1D\n",
    "from glue.core.roi import XRangeROI\n",
    "from glue.config import data_translator\n",
    "\n",
    "from jdaviz import Specviz\n",
    "\n",
    "SPECTRUM_SIZE = 11\n",
    "np.random.seed(42)\n",
    "\n",
    "spec_axis = np.linspace(6000, 8000, SPECTRUM_SIZE) * u.AA\n",
    "flux = (np.random.randn(len(spec_axis.value)) +\n",
    "        10*np.exp(-0.001*(spec_axis.value-6563)**2) +\n",
    "        spec_axis.value/500) * u.Jy\n",
    "uncertainty = StdDevUncertainty(np.abs(np.random.randn(len(spec_axis.value))) * u.Jy)\n",
    "\n",
    "meta = dict(header=dict(FILENAME=\"jdaviz-test-file.fits\"))\n",
    "\n",
    "s = Spectrum1D(spectral_axis=spec_axis, flux=flux, uncertainty=uncertainty, meta=meta)\n",
    "s2 = Spectrum1D(spectral_axis=spec_axis+1000*u.AA, flux=flux, uncertainty=uncertainty, meta=meta)\n",
    "print(s.spectral_axis)\n",
    "print(s2.spectral_axis)\n",
    "\n",
    "\n",
    "specviz = Specviz()\n",
    "\n",
    "with warnings.catch_warnings():\n",
    "    warnings.simplefilter('ignore')\n",
    "    specviz.load_spectrum(s, \"spec1\")\n",
    "    specviz.load_spectrum(s2, \"spec2\")\n",
    "\n",
    "specviz.show()\n",
    "\n",
    "specviz.app.get_viewer(\"spectrum-viewer\").apply_roi(XRangeROI(6000, 6500))\n",
    "specviz.app.session.edit_subset_mode.mode = NewMode\n",
    "\n",
    "specviz.app.get_viewer(\"spectrum-viewer\").apply_roi(XRangeROI(6700, 7200))\n",
    "specviz.app.get_viewer(\"spectrum-viewer\").apply_roi(XRangeROI(8200, 8800))"
   ]
  },
  {
   "cell_type": "code",
   "execution_count": 2,
   "id": "4b79cce7-4e3a-4042-b845-b41fbd39dbd5",
   "metadata": {},
   "outputs": [],
   "source": [
    "\n",
    "\n",
    "def get_data(specviz, data_label, cls='default', subsets_to_apply=None, statistic=None):\n",
    "    \"\"\"\n",
    "    Returns data of the name data_label of type cls with subsets applied from\n",
    "    subsets_to_apply.\n",
    "    \n",
    "    Parameters\n",
    "    ----------\n",
    "    viewer_reference : str\n",
    "        The reference to the viewer defined with the ``reference`` key\n",
    "        in the yaml configuration file.\n",
    "    data_label : str\n",
    "        Provide a label to retrieve a specific data set from the\n",
    "        viewer instance.\n",
    "    subsets_to_apply : str, list, optional\n",
    "        Subsets that are to be applied to data before it is returned. If a string\n",
    "        is given, it will be turned into a list and looped through. A future implementation\n",
    "        will allow applying multiple subsets to data before it is returned.\n",
    "    statistic : {'minimum', 'maximum', 'mean', 'median', 'sum', 'percentile'}, optional\n",
    "        The statistic to use to collapse the dataset\n",
    "\n",
    "    Returns\n",
    "    -------\n",
    "    data : dict\n",
    "        A dict of the transformed Glue subset objects, with keys\n",
    "        representing the subset name and values as astropy regions\n",
    "        objects.\n",
    "    \n",
    "    \"\"\"\n",
    "    # Previously, this would use viewer.default_class. Do we want to pass\n",
    "    # a viewer reference in order to enable this? Or move this to the base\n",
    "    # viewer class?\n",
    "    cls = Spectrum1D if cls == 'default' else cls\n",
    "    data = None\n",
    "    \n",
    "    # Loop through each subset\n",
    "    for subsets in specviz.app.data_collection.subset_groups:\n",
    "        # If name matches name from the list subsets_to_apply, continue\n",
    "        if subsets.label in subsets_to_apply:\n",
    "            # Loop through each data an individual subset applies to\n",
    "            for subset in subsets.subsets:\n",
    "                # If the subset applies to data with the same name as data_label, continue\n",
    "                if subset.data.label == data_label:\n",
    "                    # print(subsets.label, subset.data.label)\n",
    "                    # data = subset\n",
    "                    # print(subset.data.get_mask(subset.subset_state))\n",
    "\n",
    "                    # TODO: If applying multiple subsets to data, convert to\n",
    "                    # mask array and then combine them together using an operator. Then,\n",
    "                    # apply to data.\n",
    "                    # print(np.where(subset.data.get_mask(subset.subset_state) == True))\n",
    "\n",
    "                    if cls is not None:\n",
    "                        handler, _ = data_translator.get_handler_for(cls)\n",
    "                        try:\n",
    "                            data = handler.to_object(subset, statistic=statistic)\n",
    "                        except Exception as e:\n",
    "                            print(e)\n",
    "                            continue\n",
    "    return data"
   ]
  },
  {
   "cell_type": "code",
   "execution_count": 4,
   "id": "54b9eb25-f88d-46dc-9422-17eddb654469",
   "metadata": {},
   "outputs": [
    {
     "name": "stdout",
     "output_type": "stream",
     "text": [
      "Spectrum1D (length=11)\n",
      "flux:             [ 12.497 Jy, ..., 15.537 Jy ],  mean=14.596 Jy\n",
      "spectral axis:    [ 6000.0 Angstrom, ..., 8000.0 Angstrom ],  mean=7000.0 Angstrom\n",
      "uncertainty:      [ StdDevUncertainty(0.46572975), ..., StdDevUncertainty(0.2257763) ]\n",
      "[False False False  True  True  True  True  True  True  True  True]\n"
     ]
    },
    {
     "data": {
      "text/latex": [
       "$[12.496714,~12.261736,~13.447689,~17.266642,~13.365847,~13.765863,~15.979213,~15.567435,~14.730526,~16.14256,~15.536582] \\; \\mathrm{Jy}$"
      ],
      "text/plain": [
       "<Quantity [12.49671415, 12.2617357 , 13.44768854, 17.26664179, 13.36584663,\n",
       "           13.76586304, 15.97921282, 15.56743473, 14.73052561, 16.14256004,\n",
       "           15.53658231] Jy>"
      ]
     },
     "execution_count": 4,
     "metadata": {},
     "output_type": "execute_result"
    }
   ],
   "source": [
    "results = specviz.get_data(data_label=\"spec1\", subsets_to_apply=['Subset 1'], statistic=None)\n",
    "# results2 = get_data(specviz, \"spec1\", Spectrum1D, ['Subset 1'])\n",
    "print(results)\n",
    "print(results.mask)\n",
    "# specviz.load_spectrum(results, \"subset_1_applied\"\n",
    "results.flux"
   ]
  },
  {
   "cell_type": "code",
   "execution_count": 7,
   "id": "3a1a4351-c13b-47c3-8056-e9aa4560d13b",
   "metadata": {},
   "outputs": [],
   "source": [
    "s3 = s2._copy(spectral_axis=s2.spectral_axis+1000*u.AA)"
   ]
  },
  {
   "cell_type": "code",
   "execution_count": 23,
   "id": "8af39250-dbc8-487f-8a53-1ecae7f7587f",
   "metadata": {},
   "outputs": [
    {
     "name": "stdout",
     "output_type": "stream",
     "text": [
      "[]\n"
     ]
    }
   ],
   "source": [
    "a = [False, False, True]\n",
    "# b = [True, False, False]\n",
    "b = []\n",
    "print([ai or bi for ai,bi in zip(a,b)])"
   ]
  },
  {
   "cell_type": "code",
   "execution_count": 11,
   "id": "dec36e4f-7464-4b37-971f-3018bcbf2b86",
   "metadata": {},
   "outputs": [
    {
     "ename": "NameError",
     "evalue": "name 'cls' is not defined",
     "output_type": "error",
     "traceback": [
      "\u001b[0;31m---------------------------------------------------------------------------\u001b[0m",
      "\u001b[0;31mNameError\u001b[0m                                 Traceback (most recent call last)",
      "Cell \u001b[0;32mIn[11], line 3\u001b[0m\n\u001b[1;32m      1\u001b[0m viewer \u001b[38;5;241m=\u001b[39m specviz\u001b[38;5;241m.\u001b[39mapp\u001b[38;5;241m.\u001b[39mget_viewer(\u001b[38;5;124m\"\u001b[39m\u001b[38;5;124mspectrum-viewer\u001b[39m\u001b[38;5;124m\"\u001b[39m)\n\u001b[0;32m----> 3\u001b[0m \u001b[38;5;28mcls\u001b[39m \u001b[38;5;241m=\u001b[39m viewer\u001b[38;5;241m.\u001b[39mdefault_class \u001b[38;5;28;01mif\u001b[39;00m \u001b[38;5;28;43mcls\u001b[39;49m \u001b[38;5;241m==\u001b[39m \u001b[38;5;124m'\u001b[39m\u001b[38;5;124mdefault\u001b[39m\u001b[38;5;124m'\u001b[39m \u001b[38;5;28;01melse\u001b[39;00m \u001b[38;5;28mcls\u001b[39m\n\u001b[1;32m      4\u001b[0m \u001b[38;5;28;01mif\u001b[39;00m \u001b[38;5;28mhasattr\u001b[39m(viewer\u001b[38;5;241m.\u001b[39mstate, \u001b[38;5;124m'\u001b[39m\u001b[38;5;124mfunction\u001b[39m\u001b[38;5;124m'\u001b[39m):\n\u001b[1;32m      5\u001b[0m     statistic \u001b[38;5;241m=\u001b[39m viewer\u001b[38;5;241m.\u001b[39mstate\u001b[38;5;241m.\u001b[39mfunction\n",
      "\u001b[0;31mNameError\u001b[0m: name 'cls' is not defined"
     ]
    }
   ],
   "source": [
    "viewer = specviz.app.get_viewer(\"spectrum-viewer\")\n",
    "\n",
    "cls = viewer.default_class if cls == 'default' else cls\n",
    "if hasattr(viewer.state, 'function'):\n",
    "    statistic = viewer.state.function\n",
    "else:\n",
    "    statistic = None\n",
    "data = None\n",
    "\n",
    "for layer_state in viewer.state.layers:\n",
    "    label = layer_state.layer.label\n",
    "    # For subsets, make sure to apply the subset mask to the\n",
    "    #  layer data first\n",
    "    if isinstance(layer_state.layer, Subset):\n",
    "        data = layer_state.layer\n",
    "        print(type(data))\n",
    "        if cls is not None:\n",
    "            handler, _ = data_translator.get_handler_for(cls)\n",
    "            try:\n",
    "                data = handler.to_object(data, statistic=statistic)\n",
    "            except Exception as e:\n",
    "                print(e)\n",
    "                continue\n",
    "        print(data)\n",
    "        # TODO: FIX\n",
    "        print(np.where(data.mask == False))\n",
    "        print(data.spectral_axis[625])"
   ]
  },
  {
   "cell_type": "code",
   "execution_count": 26,
   "id": "0851bf17-5d4a-4ce2-b721-e26cd6c742c9",
   "metadata": {},
   "outputs": [
    {
     "name": "stdout",
     "output_type": "stream",
     "text": [
      "{'spec1': <Spectrum1D(flux=<Quantity [84.28579203, 86.96449557, 91.65531698, ..., 87.60813172,\n",
      "           86.21068459, 85.08942663] MJy / sr>, spectral_axis=<SpectralAxis [4.9004001 , 4.9012001 , 4.9020001 , ..., 7.64840003, 7.64920003,\n",
      "   7.65000003] um>, uncertainty=StdDevUncertainty([0.22357993, 0.2183111 , 0.22367723, ..., 0.21385001,\n",
      "                   0.20442478, 0.20699027]))>, 'spec2': <Spectrum1D(flux=<Quantity [84.28579203, 86.96449557, 91.65531698, ..., 87.60813172,\n",
      "           86.21068459, 85.08942663] MJy / sr>, spectral_axis=<SpectralAxis [4.9004001 , 4.9012001 , 4.9020001 , ..., 7.64840003, 7.64920003,\n",
      "   7.65000003] um>, uncertainty=StdDevUncertainty([0.22357993, 0.2183111 , 0.22367723, ..., 0.21385001,\n",
      "                   0.20442478, 0.20699027]))>, 'Subset 1': <Spectrum1D(flux=<Quantity [84.28579203, 86.96449557, 91.65531698, ..., 87.60813172,\n",
      "           86.21068459, 85.08942663] MJy / sr>, spectral_axis=<SpectralAxis [4.9004001 , 4.9012001 , 4.9020001 , ..., 7.64840003, 7.64920003,\n",
      "   7.65000003] um>, uncertainty=StdDevUncertainty([0.22357993, 0.2183111 , 0.22367723, ..., 0.21385001,\n",
      "                   0.20442478, 0.20699027]))>}\n",
      "\n",
      "\n",
      "\n",
      "\n",
      "\n",
      "\n",
      "\n"
     ]
    },
    {
     "data": {
      "text/plain": [
       "{'spec1': <Spectrum1D(flux=<Quantity [84.28579203, 86.96449557, 91.65531698, ..., 87.60813172,\n",
       "            86.21068459, 85.08942663] MJy / sr>, spectral_axis=<SpectralAxis [4.9004001 , 4.9012001 , 4.9020001 , ..., 7.64840003, 7.64920003,\n",
       "    7.65000003] um>, uncertainty=StdDevUncertainty([0.22357993, 0.2183111 , 0.22367723, ..., 0.21385001,\n",
       "                    0.20442478, 0.20699027]))>,\n",
       " 'spec2': <Spectrum1D(flux=<Quantity [84.28579203, 86.96449557, 91.65531698, ..., 87.60813172,\n",
       "            86.21068459, 85.08942663] MJy / sr>, spectral_axis=<SpectralAxis [4.9004001 , 4.9012001 , 4.9020001 , ..., 7.64840003, 7.64920003,\n",
       "    7.65000003] um>, uncertainty=StdDevUncertainty([0.22357993, 0.2183111 , 0.22367723, ..., 0.21385001,\n",
       "                    0.20442478, 0.20699027]))>,\n",
       " 'Subset 1': (<function _operator.or_(a, b, /)>,\n",
       "  (6.260256582743592, 6.392613101139116),\n",
       "  (<function _operator.or_(a, b, /)>,\n",
       "   (6.260256582743592, 6.392613101139116),\n",
       "   (<function _operator.or_(a, b, /)>,\n",
       "    (6.262391365298358, 6.296547886174623),\n",
       "    (<function _operator.or_(a, b, /)>,\n",
       "     (6.262391365298358, 6.296547886174623),\n",
       "     (<function _operator.and_(a, b, /)>,\n",
       "      (<function _operator.and_(a, b, /)>,\n",
       "       (<function _operator.or_(a, b, /)>,\n",
       "        (7, 7.2),\n",
       "        (<function _operator.or_(a, b, /)>, (6, 6.6), (5.4, 5.6))),\n",
       "       (None, (6.230369626976861, 6.347782667489019), None)),\n",
       "      (None, (6.230369626976861, 6.347782667489019), None))))))}"
      ]
     },
     "execution_count": 26,
     "metadata": {},
     "output_type": "execute_result"
    }
   ],
   "source": [
    "# for key, value in specviz.app.get_data_from_viewer(specviz._default_spectrum_viewer_reference_name).items():\n",
    "#     print(key, value, \"\\n\\n\")\n",
    "print(specviz.app.get_data_from_viewer(specviz._default_spectrum_viewer_reference_name))\n",
    "print(\"\\n\\n\\n\\n\\n\\n\")\n",
    "data = get_select_data_from_viewer(specviz, specviz._default_spectrum_viewer_reference_name, data_label=None)\n",
    "data"
   ]
  },
  {
   "cell_type": "markdown",
   "id": "bcadf82a-ee31-40d9-bf3c-fa4a9407cf12",
   "metadata": {},
   "source": [
    "<br>\n",
    "Subset 1 is kept as a SubsetState object and traversed to see all of it's subregions. This is different to how things are done in main currently, where Subset 1 is applied to a spectrum1d object and returned as such. You can see that no units are provided because glue subsets do not have units by default, only when applied to a spectrum1d object. We would need to assume units for the subsets in order to return them as astropy regions objects, as shown below."
   ]
  },
  {
   "cell_type": "code",
   "execution_count": 27,
   "id": "411fa25b-145f-48c0-ba3b-d9120ee50aa4",
   "metadata": {},
   "outputs": [
    {
     "data": {
      "text/plain": [
       "{'Subset 1': Spectral Region, 4 sub-regions:\n",
       "   (5.400400082726264 um, 5.599600077694049 um)  \n",
       "   (6.0004000675689895 um, 6.230000061768806 um) \n",
       "   (6.260400061000837 um, 6.599600052431924 um)  \n",
       "   (7.000400042306865 um, 7.199600037274649 um)  }"
      ]
     },
     "execution_count": 27,
     "metadata": {},
     "output_type": "execute_result"
    }
   ],
   "source": [
    "specviz.get_spectral_regions()"
   ]
  },
  {
   "cell_type": "code",
   "execution_count": 18,
   "id": "92eb0430-46d5-489c-8745-45fdb1b08ea3",
   "metadata": {},
   "outputs": [
    {
     "data": {
      "text/plain": [
       "[Subset: Subset 1 (data: spec1), Subset: Subset 1 (data: spec2)]"
      ]
     },
     "execution_count": 18,
     "metadata": {},
     "output_type": "execute_result"
    }
   ],
   "source": [
    "specviz.app.data_collection.subset_groups[0].subsets\n"
   ]
  },
  {
   "cell_type": "code",
   "execution_count": 23,
   "id": "b1c0ecdb-e352-4f44-8381-a6870353469b",
   "metadata": {},
   "outputs": [
    {
     "name": "stdout",
     "output_type": "stream",
     "text": [
      "1\n",
      "[Pixel Axis 0 [x], World 0, flux, uncertainty]\n",
      "[Pixel Axis 0 [x]]\n",
      "World 0\n"
     ]
    },
    {
     "name": "stderr",
     "output_type": "stream",
     "text": [
      "/Users/javerbukh/miniconda3/envs/test_this_f_s_env/lib/python3.9/site-packages/glue/core/data.py:2039: UserWarning: Data.primary_components is deprecated\n",
      "  warnings.warn('Data.primary_components is deprecated', UserWarning)\n"
     ]
    },
    {
     "ename": "NotImplementedError",
     "evalue": "Can only handle 2-d datasets",
     "output_type": "error",
     "traceback": [
      "\u001b[0;31m---------------------------------------------------------------------------\u001b[0m",
      "\u001b[0;31mNotImplementedError\u001b[0m                       Traceback (most recent call last)",
      "Cell \u001b[0;32mIn[23], line 7\u001b[0m\n\u001b[1;32m      5\u001b[0m \u001b[38;5;28mprint\u001b[39m(sg_subset\u001b[38;5;241m.\u001b[39mdata\u001b[38;5;241m.\u001b[39mprimary_components)\n\u001b[1;32m      6\u001b[0m \u001b[38;5;28mprint\u001b[39m(sg_subset\u001b[38;5;241m.\u001b[39mdata\u001b[38;5;241m.\u001b[39mpixel_component_ids)\n\u001b[0;32m----> 7\u001b[0m \u001b[43msg_subset\u001b[49m\u001b[38;5;241;43m.\u001b[39;49m\u001b[43mdata\u001b[49m\u001b[38;5;241;43m.\u001b[39;49m\u001b[43mget_selection_definition\u001b[49m\u001b[43m(\u001b[49m\u001b[38;5;28;43mformat\u001b[39;49m\u001b[38;5;241;43m=\u001b[39;49m\u001b[38;5;124;43m'\u001b[39;49m\u001b[38;5;124;43mastropy-regions\u001b[39;49m\u001b[38;5;124;43m'\u001b[39;49m\u001b[43m)\u001b[49m\n",
      "File \u001b[0;32m~/miniconda3/envs/test_this_f_s_env/lib/python3.9/site-packages/glue/core/data.py:381\u001b[0m, in \u001b[0;36mBaseData.get_selection_definition\u001b[0;34m(self, subset_id, format, **kwargs)\u001b[0m\n\u001b[1;32m    377\u001b[0m     subset \u001b[38;5;241m=\u001b[39m \u001b[38;5;28mself\u001b[39m\u001b[38;5;241m.\u001b[39msubsets[subset_id]\n\u001b[1;32m    379\u001b[0m handler \u001b[38;5;241m=\u001b[39m subset_state_translator\u001b[38;5;241m.\u001b[39mget_handler_for(\u001b[38;5;28mformat\u001b[39m)\n\u001b[0;32m--> 381\u001b[0m \u001b[38;5;28;01mreturn\u001b[39;00m \u001b[43mhandler\u001b[49m\u001b[38;5;241;43m.\u001b[39;49m\u001b[43mto_object\u001b[49m\u001b[43m(\u001b[49m\u001b[43msubset\u001b[49m\u001b[43m,\u001b[49m\u001b[43m \u001b[49m\u001b[38;5;241;43m*\u001b[39;49m\u001b[38;5;241;43m*\u001b[39;49m\u001b[43mkwargs\u001b[49m\u001b[43m)\u001b[49m\n",
      "File \u001b[0;32m~/miniconda3/envs/test_this_f_s_env/lib/python3.9/site-packages/glue_astronomy/translators/regions.py:150\u001b[0m, in \u001b[0;36mAstropyRegionsHandler.to_object\u001b[0;34m(self, subset)\u001b[0m\n\u001b[1;32m    148\u001b[0m     temp_sub2 \u001b[38;5;241m=\u001b[39m Subset(data\u001b[38;5;241m=\u001b[39mdata)\n\u001b[1;32m    149\u001b[0m     temp_sub2\u001b[38;5;241m.\u001b[39msubset_state \u001b[38;5;241m=\u001b[39m subset_state\u001b[38;5;241m.\u001b[39mstate2\n\u001b[0;32m--> 150\u001b[0m     \u001b[38;5;28;01mreturn\u001b[39;00m \u001b[38;5;28;43mself\u001b[39;49m\u001b[38;5;241;43m.\u001b[39;49m\u001b[43mto_object\u001b[49m\u001b[43m(\u001b[49m\u001b[43mtemp_sub1\u001b[49m\u001b[43m)\u001b[49m \u001b[38;5;241m|\u001b[39m \u001b[38;5;28mself\u001b[39m\u001b[38;5;241m.\u001b[39mto_object(temp_sub2)\n\u001b[1;32m    152\u001b[0m \u001b[38;5;28;01melif\u001b[39;00m \u001b[38;5;28misinstance\u001b[39m(subset_state, XorState):\n\u001b[1;32m    153\u001b[0m     temp_sub1 \u001b[38;5;241m=\u001b[39m Subset(data\u001b[38;5;241m=\u001b[39mdata)\n",
      "File \u001b[0;32m~/miniconda3/envs/test_this_f_s_env/lib/python3.9/site-packages/glue_astronomy/translators/regions.py:113\u001b[0m, in \u001b[0;36mAstropyRegionsHandler.to_object\u001b[0;34m(self, subset)\u001b[0m\n\u001b[1;32m    111\u001b[0m \u001b[38;5;28mprint\u001b[39m(subset_state\u001b[38;5;241m.\u001b[39matt)\n\u001b[1;32m    112\u001b[0m \u001b[38;5;28;01mif\u001b[39;00m subset_state\u001b[38;5;241m.\u001b[39matt \u001b[38;5;241m==\u001b[39m x_pix_att:\n\u001b[0;32m--> 113\u001b[0m     \u001b[38;5;28;01mreturn\u001b[39;00m \u001b[43mrange_to_rect\u001b[49m\u001b[43m(\u001b[49m\u001b[43mdata\u001b[49m\u001b[43m,\u001b[49m\u001b[43m \u001b[49m\u001b[38;5;124;43m'\u001b[39;49m\u001b[38;5;124;43mx\u001b[39;49m\u001b[38;5;124;43m'\u001b[39;49m\u001b[43m,\u001b[49m\u001b[43m \u001b[49m\u001b[43msubset_state\u001b[49m\u001b[38;5;241;43m.\u001b[39;49m\u001b[43mlo\u001b[49m\u001b[43m,\u001b[49m\u001b[43m \u001b[49m\u001b[43msubset_state\u001b[49m\u001b[38;5;241;43m.\u001b[39;49m\u001b[43mhi\u001b[49m\u001b[43m)\u001b[49m\n\u001b[1;32m    114\u001b[0m \u001b[38;5;28;01melif\u001b[39;00m subset_state\u001b[38;5;241m.\u001b[39matt \u001b[38;5;241m==\u001b[39m y_pix_att:\n\u001b[1;32m    115\u001b[0m     \u001b[38;5;28;01mreturn\u001b[39;00m range_to_rect(data, \u001b[38;5;124m'\u001b[39m\u001b[38;5;124my\u001b[39m\u001b[38;5;124m'\u001b[39m, subset_state\u001b[38;5;241m.\u001b[39mlo, subset_state\u001b[38;5;241m.\u001b[39mhi)\n",
      "File \u001b[0;32m~/miniconda3/envs/test_this_f_s_env/lib/python3.9/site-packages/glue_astronomy/translators/regions.py:31\u001b[0m, in \u001b[0;36mrange_to_rect\u001b[0;34m(data, ori, low, high)\u001b[0m\n\u001b[1;32m     14\u001b[0m \u001b[38;5;250m\u001b[39m\u001b[38;5;124;03m\"\"\"\u001b[39;00m\n\u001b[1;32m     15\u001b[0m \u001b[38;5;124;03mConverts a 1D range on a 2D glue Data set into an astropy regions RectangularPixelRegion.\u001b[39;00m\n\u001b[1;32m     16\u001b[0m \n\u001b[0;32m   (...)\u001b[0m\n\u001b[1;32m     28\u001b[0m \u001b[38;5;124;03m    The upper limit of the range.\u001b[39;00m\n\u001b[1;32m     29\u001b[0m \u001b[38;5;124;03m\"\"\"\u001b[39;00m\n\u001b[1;32m     30\u001b[0m \u001b[38;5;28;01mif\u001b[39;00m data\u001b[38;5;241m.\u001b[39mndim \u001b[38;5;241m!=\u001b[39m \u001b[38;5;241m2\u001b[39m:\n\u001b[0;32m---> 31\u001b[0m     \u001b[38;5;28;01mraise\u001b[39;00m \u001b[38;5;167;01mNotImplementedError\u001b[39;00m(\u001b[38;5;124m\"\u001b[39m\u001b[38;5;124mCan only handle 2-d datasets\u001b[39m\u001b[38;5;124m\"\u001b[39m)\n\u001b[1;32m     32\u001b[0m \u001b[38;5;28;01mif\u001b[39;00m ori \u001b[38;5;241m==\u001b[39m \u001b[38;5;124m'\u001b[39m\u001b[38;5;124mx\u001b[39m\u001b[38;5;124m'\u001b[39m:\n\u001b[1;32m     33\u001b[0m     ymin \u001b[38;5;241m=\u001b[39m \u001b[38;5;241m0\u001b[39m\n",
      "\u001b[0;31mNotImplementedError\u001b[0m: Can only handle 2-d datasets"
     ]
    }
   ],
   "source": [
    "    print(len(specviz.app.data_collection.subset_groups))\n",
    "    \n",
    "    for sg in specviz.app.data_collection.subset_groups:\n",
    "        for sg_subset in sg.subsets:\n",
    "            print(sg_subset.data.primary_components)\n",
    "            print(sg_subset.data.pixel_component_ids)\n",
    "            sg_subset.data.get_selection_definition(format='astropy-regions')"
   ]
  },
  {
   "cell_type": "code",
   "execution_count": 30,
   "id": "6fa709ed-0a90-4efb-b3c5-ef98d43d8992",
   "metadata": {},
   "outputs": [
    {
     "data": {
      "text/plain": [
       "(<function _operator.or_(a, b, /)>,\n",
       " <glue.core.subset.RangeSubsetState at 0x7ff621958910>,\n",
       " (<function _operator.or_(a, b, /)>,\n",
       "  <glue.core.subset.RangeSubsetState at 0x7ff5f2151430>,\n",
       "  (<function _operator.or_(a, b, /)>,\n",
       "   <glue.core.subset.RangeSubsetState at 0x7ff5e0078be0>,\n",
       "   <glue.core.subset.RangeSubsetState at 0x7ff5e0078610>)))"
      ]
     },
     "execution_count": 30,
     "metadata": {},
     "output_type": "execute_result"
    }
   ],
   "source": [
    "specviz.app.data_collection.subset_groups[0].subset_state.traverse()\n",
    "\n",
    "# do something different for Rangesubset, ROIsubset, and compound subset\n"
   ]
  },
  {
   "cell_type": "code",
   "execution_count": 4,
   "id": "53d679a7-f5c8-464a-95bd-12923077e763",
   "metadata": {},
   "outputs": [],
   "source": [
    " def traverse(self=specviz.app.data_collection.subset_groups[0].subset_state):\n",
    "        return (self.op if not isinstance(self, RangeSubsetState) else (self.lo, self.hi),\n",
    "                (self.state1.lo, self.state1.hi) if not hasattr(self.state1, 'traverse') else self.state1.traverse(),\n",
    "                (self.state2.lo, self.state2.hi) if not hasattr(self.state2, 'traverse') else self.state2.traverse()\n",
    "                )"
   ]
  },
  {
   "cell_type": "code",
   "execution_count": 7,
   "id": "f8c67bc1-1331-4043-bb2f-088072399020",
   "metadata": {},
   "outputs": [
    {
     "data": {
      "text/plain": [
       "(<function _operator.or_(a, b, /)>,\n",
       " (7, 7.2),\n",
       " (<function _operator.or_(a, b, /)>,\n",
       "  <glue.core.subset.RangeSubsetState at 0x7fb66182e520>,\n",
       "  <glue.core.subset.RangeSubsetState at 0x7fb66182e550>))"
      ]
     },
     "execution_count": 7,
     "metadata": {},
     "output_type": "execute_result"
    }
   ],
   "source": [
    "traverse()"
   ]
  },
  {
   "cell_type": "code",
   "execution_count": 52,
   "id": "331338b0-824b-400f-8e41-b22502099836",
   "metadata": {},
   "outputs": [
    {
     "name": "stdout",
     "output_type": "stream",
     "text": [
      "6.772604395887553 7.129113082533561\n",
      "<built-in function or_>\n",
      "6.772604395887553 7.129113082533561\n",
      "6 6.6\n"
     ]
    }
   ],
   "source": [
    "subset1 = specviz.app.data_collection.subset_groups[0].subset_state\n",
    "print(subset1.state1.lo, subset1.state1.hi)\n",
    "print(subset1.state2.op)\n",
    "print(subset1.state2.state1.lo, subset1.state2.state1.hi)\n",
    "print(subset1.state2.state2.lo, subset1.state2.state2.hi)"
   ]
  },
  {
   "cell_type": "code",
   "execution_count": 29,
   "id": "1f523a3b-3621-4294-b5a5-6ee9d9aa7af8",
   "metadata": {},
   "outputs": [
    {
     "data": {
      "application/vnd.jupyter.widget-view+json": {
       "model_id": "82713657bdcc41fdb2f1c42a94b2a22a",
       "version_major": 2,
       "version_minor": 0
      },
      "text/plain": [
       "Application(config='specviz', events=['call_viewer_method', 'close_snackbar_message', 'data_item_remove', 'dat…"
      ]
     },
     "metadata": {},
     "output_type": "display_data"
    }
   ],
   "source": [
    "specviz.show()"
   ]
  },
  {
   "cell_type": "code",
   "execution_count": 30,
   "id": "23fd43d0-d9a3-4182-ba0b-621c7f10a1df",
   "metadata": {},
   "outputs": [
    {
     "data": {
      "text/plain": [
       "{'spec1': <Spectrum1D(flux=<Quantity [84.28579203, 86.96449557, 91.65531698, ..., 87.60813172,\n",
       "            86.21068459, 85.08942663] MJy / sr>, spectral_axis=<SpectralAxis [4.9004001 , 4.9012001 , 4.9020001 , ..., 7.64840003, 7.64920003,\n",
       "    7.65000003] um>, uncertainty=StdDevUncertainty([0.22357993, 0.2183111 , 0.22367723, ..., 0.21385001,\n",
       "                    0.20442478, 0.20699027]))>,\n",
       " 'spec2': <Spectrum1D(flux=<Quantity [84.28579203, 86.96449557, 91.65531698, ..., 87.60813172,\n",
       "            86.21068459, 85.08942663] MJy / sr>, spectral_axis=<SpectralAxis [4.9004001 , 4.9012001 , 4.9020001 , ..., 7.64840003, 7.64920003,\n",
       "    7.65000003] um>, uncertainty=StdDevUncertainty([0.22357993, 0.2183111 , 0.22367723, ..., 0.21385001,\n",
       "                    0.20442478, 0.20699027]))>,\n",
       " 'Subset 1': (<function _operator.or_(a, b, /)>,\n",
       "  (6.260256582743592, 6.392613101139116),\n",
       "  (<function _operator.or_(a, b, /)>,\n",
       "   (6.260256582743592, 6.392613101139116),\n",
       "   (<function _operator.or_(a, b, /)>,\n",
       "    (6.262391365298358, 6.296547886174623),\n",
       "    (<function _operator.or_(a, b, /)>,\n",
       "     (6.262391365298358, 6.296547886174623),\n",
       "     (<function _operator.and_(a, b, /)>,\n",
       "      (<function _operator.and_(a, b, /)>,\n",
       "       (<function _operator.or_(a, b, /)>,\n",
       "        (7, 7.2),\n",
       "        (<function _operator.or_(a, b, /)>, (6, 6.6), (5.4, 5.6))),\n",
       "       (None, (6.230369626976861, 6.347782667489019), None)),\n",
       "      (None, (6.230369626976861, 6.347782667489019), None))))))}"
      ]
     },
     "execution_count": 30,
     "metadata": {},
     "output_type": "execute_result"
    }
   ],
   "source": [
    "data"
   ]
  }
 ],
 "metadata": {
  "kernelspec": {
   "display_name": "Python 3 (ipykernel)",
   "language": "python",
   "name": "python3"
  },
  "language_info": {
   "codemirror_mode": {
    "name": "ipython",
    "version": 3
   },
   "file_extension": ".py",
   "mimetype": "text/x-python",
   "name": "python",
   "nbconvert_exporter": "python",
   "pygments_lexer": "ipython3",
   "version": "3.9.16"
  }
 },
 "nbformat": 4,
 "nbformat_minor": 5
}
