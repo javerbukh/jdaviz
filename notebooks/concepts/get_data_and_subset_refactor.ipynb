{
 "cells": [
  {
   "cell_type": "code",
   "execution_count": 1,
   "id": "087a38e0-52e9-4530-9823-9b8c25d6ddc1",
   "metadata": {},
   "outputs": [
    {
     "name": "stdout",
     "output_type": "stream",
     "text": [
      "INFO: Found cached file /var/folders/nm/dt67twk14fb68133q71wnrwh0001rs/T/jw02732-o004_t004_miri_ch1-shortmediumlong_x1d.fits with expected size 590400. [astroquery.query]\n"
     ]
    },
    {
     "data": {
      "application/vnd.jupyter.widget-view+json": {
       "model_id": "82713657bdcc41fdb2f1c42a94b2a22a",
       "version_major": 2,
       "version_minor": 0
      },
      "text/plain": [
       "Application(config='specviz', events=['call_viewer_method', 'close_snackbar_message', 'data_item_remove', 'dat…"
      ]
     },
     "metadata": {},
     "output_type": "display_data"
    }
   ],
   "source": [
    "import warnings\n",
    "import tempfile\n",
    "\n",
    "import numpy as np\n",
    "from specutils import Spectrum1D\n",
    "from astroquery.mast import Observations\n",
    "from inspect import isclass\n",
    "from glue.core import BaseData\n",
    "from glue.core.subset import Subset, RangeSubsetState, RoiSubsetState\n",
    "from glue.core.roi import XRangeROI\n",
    "from glue.config import data_translator\n",
    "from glue.core.edit_subset_mode import OrMode\n",
    "\n",
    "\n",
    "\n",
    "\n",
    "\n",
    "from regions import PixCoord, CirclePixelRegion\n",
    "\n",
    "from jdaviz import Specviz\n",
    "\n",
    "specviz = Specviz()\n",
    "\n",
    "data_dir = tempfile.gettempdir()\n",
    "\n",
    "fn = \"jw02732-o004_t004_miri_ch1-shortmediumlong_x1d.fits\"\n",
    "\n",
    "result = Observations.download_file(f\"mast:JWST/product/{fn}\", local_path=f'{data_dir}/{fn}')\n",
    "\n",
    "\n",
    "\n",
    "\n",
    "with warnings.catch_warnings():\n",
    "    warnings.simplefilter('ignore')\n",
    "    specviz.load_spectrum(f'{data_dir}/{fn}', \"spec1\")\n",
    "    specviz.load_spectrum(f'{data_dir}/{fn}', \"spec2\")\n",
    "\n",
    "\n",
    "specviz.show()\n",
    "\n",
    "specviz.app.get_viewer(\"spectrum-viewer\").apply_roi(XRangeROI(5.4, 5.6))\n",
    "specviz.app.session.edit_subset_mode.mode = OrMode\n",
    "\n",
    "specviz.app.get_viewer(\"spectrum-viewer\").apply_roi(XRangeROI(6, 6.6))\n",
    "specviz.app.get_viewer(\"spectrum-viewer\").apply_roi(XRangeROI(7, 7.2))\n",
    "\n"
   ]
  },
  {
   "cell_type": "code",
   "execution_count": 4,
   "id": "6128a287-dae3-4897-800d-3b4baaf00b1e",
   "metadata": {},
   "outputs": [],
   "source": [
    "def get_select_data_from_viewer(\n",
    "    # supply the helper:\n",
    "    specviz,\n",
    "    # \n",
    "    viewer_reference, \n",
    "    # if provided, only return associated data\n",
    "    data_label=None, \n",
    "    # \n",
    "    cls='default',\n",
    "    # whether to include subsets in the returned dictionary\n",
    "    include_subsets=True,\n",
    "    # whether to only include subsets in the returned dictionary\n",
    "    only_subsets=False,\n",
    "    # return subsets the old way i.e. as a mask applied to a spectrum1d object\n",
    "    apply_subsets_to_data=False\n",
    "                               \n",
    "                               \n",
    "):\n",
    "    \"\"\"\n",
    "    \n",
    "    \"\"\"\n",
    "    \n",
    "    viewer = specviz.app.get_viewer(viewer_reference)\n",
    "    cls = viewer.default_class if cls == 'default' else cls\n",
    "\n",
    "    # TODO: Fix second part of the following statement\n",
    "    if cls is not None and not isclass(cls):\n",
    "        raise TypeError(\n",
    "            \"cls in get_data_from_viewer must be a class, None, or \"\n",
    "            \"the 'default' string.\")\n",
    "\n",
    "    data = {}\n",
    "\n",
    "    # If the viewer also supports collapsing, then grab the user's chosen\n",
    "    #  statistic for collapsing data\n",
    "    if hasattr(viewer.state, 'function'):\n",
    "        statistic = viewer.state.function\n",
    "    else:\n",
    "        statistic = None\n",
    "\n",
    "    for layer_state in viewer.state.layers:\n",
    "        label = layer_state.layer.label\n",
    "\n",
    "        if (hasattr(layer_state, 'layer') and\n",
    "                (data_label is None or label == data_label)):\n",
    "\n",
    "            # For raw data, just include the data itself\n",
    "            if isinstance(layer_state.layer, BaseData):\n",
    "                layer_data = layer_state.layer\n",
    "\n",
    "                if cls is not None:\n",
    "                    # If data is one-dimensional, assume that it can be\n",
    "                    #  collapsed via the defined statistic\n",
    "                    if 'Trace' in layer_data.meta:\n",
    "                        layer_data = layer_data.get_object()\n",
    "                    elif cls == Spectrum1D:\n",
    "                        layer_data = layer_data.get_object(cls=cls,\n",
    "                                                           statistic=statistic)\n",
    "                    else:\n",
    "                        layer_data = layer_data.get_object(cls=cls)\n",
    "                # If the shape of the data is 2d, then use CCDData as the\n",
    "                #  output data type\n",
    "                elif len(layer_data.shape) == 2:\n",
    "                    layer_data = layer_data.get_object(cls=CCDData)\n",
    "\n",
    "                data[label] = layer_data\n",
    "\n",
    "            # For subsets, make sure to apply the subset mask to the\n",
    "            #  layer data first\n",
    "            elif isinstance(layer_state.layer, Subset):\n",
    "                if include_subsets:\n",
    "#                     layer_data = layer_state.layer\n",
    "\n",
    "#                     if cls is not None:\n",
    "#                         handler, _ = data_translator.get_handler_for(cls)\n",
    "#                         try:\n",
    "#                             layer_data = handler.to_object(layer_data,\n",
    "#                                                            statistic=statistic)\n",
    "#                         except IncompatibleAttribute:\n",
    "#                             continue\n",
    "\n",
    "                    # data[label] = traverse(layer_state.layer.subset_state)\n",
    "                    data[label] = layer_state.layer.subset_state.traverse()\n",
    "\n",
    "\n",
    "\n",
    "    \"\"\"\n",
    "    how do we want subset information returned?\n",
    "        - as before (applied to each data and returned as a masked spectrum1d)\n",
    "            - apply subsets keyword in get_data takes list of strings that are subset names and apply those subsets to the data\n",
    "        - as an astropy region showing all bounds of subset, even if compound?\n",
    "        - as a glue subset object (not sure how beneficial this would be)\n",
    "        - something else? \n",
    "            - define mask component for spectrum\n",
    "            - do not want spectrum attaached to one particular mask\n",
    "            - return as just a mask so that a user can use them as they wish in the notebook +\n",
    "            - remove subsets from this method completely +\n",
    "            - remove `get_viewer` from get subsets method (cubeviz case is special since a subset is spatial and also applied in spectrum-viewer as a collapsed function)\n",
    "            - implement get_data_... at base helper class level so it can be public api\n",
    "            - force get_data to require a data_label so data is returned along with associated subsets. This avoids returning as a dictionary where keys can be overwritten\n",
    "            - get_data needs to know if data needs to be collapsed or not (use cls parameter, or overload cubeviz helper to have extra keyword arguement)\n",
    "        - method for accessing data labels present/visible in jdaviz viewers\n",
    "            \n",
    "            \n",
    "    \n",
    "    problem with 1st option is explored here: https://github.com/spacetelescope/jdaviz/issues/1921\n",
    "\n",
    "    problem with 2nd option is glue astronomy translators would need to be updated to handle 1d\n",
    "    data and units would need to be assumed (glue subsets do not have units).\n",
    "    \"\"\"\n",
    "\n",
    "\n",
    "    # If a data label was provided, return only the corresponding data, otherwise return all:\n",
    "    return data.get(data_label, data)"
   ]
  },
  {
   "cell_type": "code",
   "execution_count": 26,
   "id": "0851bf17-5d4a-4ce2-b721-e26cd6c742c9",
   "metadata": {},
   "outputs": [
    {
     "name": "stdout",
     "output_type": "stream",
     "text": [
      "{'spec1': <Spectrum1D(flux=<Quantity [84.28579203, 86.96449557, 91.65531698, ..., 87.60813172,\n",
      "           86.21068459, 85.08942663] MJy / sr>, spectral_axis=<SpectralAxis [4.9004001 , 4.9012001 , 4.9020001 , ..., 7.64840003, 7.64920003,\n",
      "   7.65000003] um>, uncertainty=StdDevUncertainty([0.22357993, 0.2183111 , 0.22367723, ..., 0.21385001,\n",
      "                   0.20442478, 0.20699027]))>, 'spec2': <Spectrum1D(flux=<Quantity [84.28579203, 86.96449557, 91.65531698, ..., 87.60813172,\n",
      "           86.21068459, 85.08942663] MJy / sr>, spectral_axis=<SpectralAxis [4.9004001 , 4.9012001 , 4.9020001 , ..., 7.64840003, 7.64920003,\n",
      "   7.65000003] um>, uncertainty=StdDevUncertainty([0.22357993, 0.2183111 , 0.22367723, ..., 0.21385001,\n",
      "                   0.20442478, 0.20699027]))>, 'Subset 1': <Spectrum1D(flux=<Quantity [84.28579203, 86.96449557, 91.65531698, ..., 87.60813172,\n",
      "           86.21068459, 85.08942663] MJy / sr>, spectral_axis=<SpectralAxis [4.9004001 , 4.9012001 , 4.9020001 , ..., 7.64840003, 7.64920003,\n",
      "   7.65000003] um>, uncertainty=StdDevUncertainty([0.22357993, 0.2183111 , 0.22367723, ..., 0.21385001,\n",
      "                   0.20442478, 0.20699027]))>}\n",
      "\n",
      "\n",
      "\n",
      "\n",
      "\n",
      "\n",
      "\n"
     ]
    },
    {
     "data": {
      "text/plain": [
       "{'spec1': <Spectrum1D(flux=<Quantity [84.28579203, 86.96449557, 91.65531698, ..., 87.60813172,\n",
       "            86.21068459, 85.08942663] MJy / sr>, spectral_axis=<SpectralAxis [4.9004001 , 4.9012001 , 4.9020001 , ..., 7.64840003, 7.64920003,\n",
       "    7.65000003] um>, uncertainty=StdDevUncertainty([0.22357993, 0.2183111 , 0.22367723, ..., 0.21385001,\n",
       "                    0.20442478, 0.20699027]))>,\n",
       " 'spec2': <Spectrum1D(flux=<Quantity [84.28579203, 86.96449557, 91.65531698, ..., 87.60813172,\n",
       "            86.21068459, 85.08942663] MJy / sr>, spectral_axis=<SpectralAxis [4.9004001 , 4.9012001 , 4.9020001 , ..., 7.64840003, 7.64920003,\n",
       "    7.65000003] um>, uncertainty=StdDevUncertainty([0.22357993, 0.2183111 , 0.22367723, ..., 0.21385001,\n",
       "                    0.20442478, 0.20699027]))>,\n",
       " 'Subset 1': (<function _operator.or_(a, b, /)>,\n",
       "  (6.260256582743592, 6.392613101139116),\n",
       "  (<function _operator.or_(a, b, /)>,\n",
       "   (6.260256582743592, 6.392613101139116),\n",
       "   (<function _operator.or_(a, b, /)>,\n",
       "    (6.262391365298358, 6.296547886174623),\n",
       "    (<function _operator.or_(a, b, /)>,\n",
       "     (6.262391365298358, 6.296547886174623),\n",
       "     (<function _operator.and_(a, b, /)>,\n",
       "      (<function _operator.and_(a, b, /)>,\n",
       "       (<function _operator.or_(a, b, /)>,\n",
       "        (7, 7.2),\n",
       "        (<function _operator.or_(a, b, /)>, (6, 6.6), (5.4, 5.6))),\n",
       "       (None, (6.230369626976861, 6.347782667489019), None)),\n",
       "      (None, (6.230369626976861, 6.347782667489019), None))))))}"
      ]
     },
     "execution_count": 26,
     "metadata": {},
     "output_type": "execute_result"
    }
   ],
   "source": [
    "# for key, value in specviz.app.get_data_from_viewer(specviz._default_spectrum_viewer_reference_name).items():\n",
    "#     print(key, value, \"\\n\\n\")\n",
    "print(specviz.app.get_data_from_viewer(specviz._default_spectrum_viewer_reference_name))\n",
    "print(\"\\n\\n\\n\\n\\n\\n\")\n",
    "data = get_select_data_from_viewer(specviz, specviz._default_spectrum_viewer_reference_name, data_label=None)\n",
    "data"
   ]
  },
  {
   "cell_type": "markdown",
   "id": "bcadf82a-ee31-40d9-bf3c-fa4a9407cf12",
   "metadata": {},
   "source": [
    "<br>\n",
    "Subset 1 is kept as a SubsetState object and traversed to see all of it's subregions. This is different to how things are done in main currently, where Subset 1 is applied to a spectrum1d object and returned as such. You can see that no units are provided because glue subsets do not have units by default, only when applied to a spectrum1d object. We would need to assume units for the subsets in order to return them as astropy regions objects, as shown below."
   ]
  },
  {
   "cell_type": "code",
   "execution_count": 27,
   "id": "411fa25b-145f-48c0-ba3b-d9120ee50aa4",
   "metadata": {},
   "outputs": [
    {
     "data": {
      "text/plain": [
       "{'Subset 1': Spectral Region, 4 sub-regions:\n",
       "   (5.400400082726264 um, 5.599600077694049 um)  \n",
       "   (6.0004000675689895 um, 6.230000061768806 um) \n",
       "   (6.260400061000837 um, 6.599600052431924 um)  \n",
       "   (7.000400042306865 um, 7.199600037274649 um)  }"
      ]
     },
     "execution_count": 27,
     "metadata": {},
     "output_type": "execute_result"
    }
   ],
   "source": [
    "specviz.get_spectral_regions()"
   ]
  },
  {
   "cell_type": "code",
   "execution_count": 18,
   "id": "92eb0430-46d5-489c-8745-45fdb1b08ea3",
   "metadata": {},
   "outputs": [
    {
     "data": {
      "text/plain": [
       "[Subset: Subset 1 (data: spec1), Subset: Subset 1 (data: spec2)]"
      ]
     },
     "execution_count": 18,
     "metadata": {},
     "output_type": "execute_result"
    }
   ],
   "source": [
    "specviz.app.data_collection.subset_groups[0].subsets\n"
   ]
  },
  {
   "cell_type": "code",
   "execution_count": 23,
   "id": "b1c0ecdb-e352-4f44-8381-a6870353469b",
   "metadata": {},
   "outputs": [
    {
     "name": "stdout",
     "output_type": "stream",
     "text": [
      "1\n",
      "[Pixel Axis 0 [x], World 0, flux, uncertainty]\n",
      "[Pixel Axis 0 [x]]\n",
      "World 0\n"
     ]
    },
    {
     "name": "stderr",
     "output_type": "stream",
     "text": [
      "/Users/javerbukh/miniconda3/envs/test_this_f_s_env/lib/python3.9/site-packages/glue/core/data.py:2039: UserWarning: Data.primary_components is deprecated\n",
      "  warnings.warn('Data.primary_components is deprecated', UserWarning)\n"
     ]
    },
    {
     "ename": "NotImplementedError",
     "evalue": "Can only handle 2-d datasets",
     "output_type": "error",
     "traceback": [
      "\u001b[0;31m---------------------------------------------------------------------------\u001b[0m",
      "\u001b[0;31mNotImplementedError\u001b[0m                       Traceback (most recent call last)",
      "Cell \u001b[0;32mIn[23], line 7\u001b[0m\n\u001b[1;32m      5\u001b[0m \u001b[38;5;28mprint\u001b[39m(sg_subset\u001b[38;5;241m.\u001b[39mdata\u001b[38;5;241m.\u001b[39mprimary_components)\n\u001b[1;32m      6\u001b[0m \u001b[38;5;28mprint\u001b[39m(sg_subset\u001b[38;5;241m.\u001b[39mdata\u001b[38;5;241m.\u001b[39mpixel_component_ids)\n\u001b[0;32m----> 7\u001b[0m \u001b[43msg_subset\u001b[49m\u001b[38;5;241;43m.\u001b[39;49m\u001b[43mdata\u001b[49m\u001b[38;5;241;43m.\u001b[39;49m\u001b[43mget_selection_definition\u001b[49m\u001b[43m(\u001b[49m\u001b[38;5;28;43mformat\u001b[39;49m\u001b[38;5;241;43m=\u001b[39;49m\u001b[38;5;124;43m'\u001b[39;49m\u001b[38;5;124;43mastropy-regions\u001b[39;49m\u001b[38;5;124;43m'\u001b[39;49m\u001b[43m)\u001b[49m\n",
      "File \u001b[0;32m~/miniconda3/envs/test_this_f_s_env/lib/python3.9/site-packages/glue/core/data.py:381\u001b[0m, in \u001b[0;36mBaseData.get_selection_definition\u001b[0;34m(self, subset_id, format, **kwargs)\u001b[0m\n\u001b[1;32m    377\u001b[0m     subset \u001b[38;5;241m=\u001b[39m \u001b[38;5;28mself\u001b[39m\u001b[38;5;241m.\u001b[39msubsets[subset_id]\n\u001b[1;32m    379\u001b[0m handler \u001b[38;5;241m=\u001b[39m subset_state_translator\u001b[38;5;241m.\u001b[39mget_handler_for(\u001b[38;5;28mformat\u001b[39m)\n\u001b[0;32m--> 381\u001b[0m \u001b[38;5;28;01mreturn\u001b[39;00m \u001b[43mhandler\u001b[49m\u001b[38;5;241;43m.\u001b[39;49m\u001b[43mto_object\u001b[49m\u001b[43m(\u001b[49m\u001b[43msubset\u001b[49m\u001b[43m,\u001b[49m\u001b[43m \u001b[49m\u001b[38;5;241;43m*\u001b[39;49m\u001b[38;5;241;43m*\u001b[39;49m\u001b[43mkwargs\u001b[49m\u001b[43m)\u001b[49m\n",
      "File \u001b[0;32m~/miniconda3/envs/test_this_f_s_env/lib/python3.9/site-packages/glue_astronomy/translators/regions.py:150\u001b[0m, in \u001b[0;36mAstropyRegionsHandler.to_object\u001b[0;34m(self, subset)\u001b[0m\n\u001b[1;32m    148\u001b[0m     temp_sub2 \u001b[38;5;241m=\u001b[39m Subset(data\u001b[38;5;241m=\u001b[39mdata)\n\u001b[1;32m    149\u001b[0m     temp_sub2\u001b[38;5;241m.\u001b[39msubset_state \u001b[38;5;241m=\u001b[39m subset_state\u001b[38;5;241m.\u001b[39mstate2\n\u001b[0;32m--> 150\u001b[0m     \u001b[38;5;28;01mreturn\u001b[39;00m \u001b[38;5;28;43mself\u001b[39;49m\u001b[38;5;241;43m.\u001b[39;49m\u001b[43mto_object\u001b[49m\u001b[43m(\u001b[49m\u001b[43mtemp_sub1\u001b[49m\u001b[43m)\u001b[49m \u001b[38;5;241m|\u001b[39m \u001b[38;5;28mself\u001b[39m\u001b[38;5;241m.\u001b[39mto_object(temp_sub2)\n\u001b[1;32m    152\u001b[0m \u001b[38;5;28;01melif\u001b[39;00m \u001b[38;5;28misinstance\u001b[39m(subset_state, XorState):\n\u001b[1;32m    153\u001b[0m     temp_sub1 \u001b[38;5;241m=\u001b[39m Subset(data\u001b[38;5;241m=\u001b[39mdata)\n",
      "File \u001b[0;32m~/miniconda3/envs/test_this_f_s_env/lib/python3.9/site-packages/glue_astronomy/translators/regions.py:113\u001b[0m, in \u001b[0;36mAstropyRegionsHandler.to_object\u001b[0;34m(self, subset)\u001b[0m\n\u001b[1;32m    111\u001b[0m \u001b[38;5;28mprint\u001b[39m(subset_state\u001b[38;5;241m.\u001b[39matt)\n\u001b[1;32m    112\u001b[0m \u001b[38;5;28;01mif\u001b[39;00m subset_state\u001b[38;5;241m.\u001b[39matt \u001b[38;5;241m==\u001b[39m x_pix_att:\n\u001b[0;32m--> 113\u001b[0m     \u001b[38;5;28;01mreturn\u001b[39;00m \u001b[43mrange_to_rect\u001b[49m\u001b[43m(\u001b[49m\u001b[43mdata\u001b[49m\u001b[43m,\u001b[49m\u001b[43m \u001b[49m\u001b[38;5;124;43m'\u001b[39;49m\u001b[38;5;124;43mx\u001b[39;49m\u001b[38;5;124;43m'\u001b[39;49m\u001b[43m,\u001b[49m\u001b[43m \u001b[49m\u001b[43msubset_state\u001b[49m\u001b[38;5;241;43m.\u001b[39;49m\u001b[43mlo\u001b[49m\u001b[43m,\u001b[49m\u001b[43m \u001b[49m\u001b[43msubset_state\u001b[49m\u001b[38;5;241;43m.\u001b[39;49m\u001b[43mhi\u001b[49m\u001b[43m)\u001b[49m\n\u001b[1;32m    114\u001b[0m \u001b[38;5;28;01melif\u001b[39;00m subset_state\u001b[38;5;241m.\u001b[39matt \u001b[38;5;241m==\u001b[39m y_pix_att:\n\u001b[1;32m    115\u001b[0m     \u001b[38;5;28;01mreturn\u001b[39;00m range_to_rect(data, \u001b[38;5;124m'\u001b[39m\u001b[38;5;124my\u001b[39m\u001b[38;5;124m'\u001b[39m, subset_state\u001b[38;5;241m.\u001b[39mlo, subset_state\u001b[38;5;241m.\u001b[39mhi)\n",
      "File \u001b[0;32m~/miniconda3/envs/test_this_f_s_env/lib/python3.9/site-packages/glue_astronomy/translators/regions.py:31\u001b[0m, in \u001b[0;36mrange_to_rect\u001b[0;34m(data, ori, low, high)\u001b[0m\n\u001b[1;32m     14\u001b[0m \u001b[38;5;250m\u001b[39m\u001b[38;5;124;03m\"\"\"\u001b[39;00m\n\u001b[1;32m     15\u001b[0m \u001b[38;5;124;03mConverts a 1D range on a 2D glue Data set into an astropy regions RectangularPixelRegion.\u001b[39;00m\n\u001b[1;32m     16\u001b[0m \n\u001b[0;32m   (...)\u001b[0m\n\u001b[1;32m     28\u001b[0m \u001b[38;5;124;03m    The upper limit of the range.\u001b[39;00m\n\u001b[1;32m     29\u001b[0m \u001b[38;5;124;03m\"\"\"\u001b[39;00m\n\u001b[1;32m     30\u001b[0m \u001b[38;5;28;01mif\u001b[39;00m data\u001b[38;5;241m.\u001b[39mndim \u001b[38;5;241m!=\u001b[39m \u001b[38;5;241m2\u001b[39m:\n\u001b[0;32m---> 31\u001b[0m     \u001b[38;5;28;01mraise\u001b[39;00m \u001b[38;5;167;01mNotImplementedError\u001b[39;00m(\u001b[38;5;124m\"\u001b[39m\u001b[38;5;124mCan only handle 2-d datasets\u001b[39m\u001b[38;5;124m\"\u001b[39m)\n\u001b[1;32m     32\u001b[0m \u001b[38;5;28;01mif\u001b[39;00m ori \u001b[38;5;241m==\u001b[39m \u001b[38;5;124m'\u001b[39m\u001b[38;5;124mx\u001b[39m\u001b[38;5;124m'\u001b[39m:\n\u001b[1;32m     33\u001b[0m     ymin \u001b[38;5;241m=\u001b[39m \u001b[38;5;241m0\u001b[39m\n",
      "\u001b[0;31mNotImplementedError\u001b[0m: Can only handle 2-d datasets"
     ]
    }
   ],
   "source": [
    "    print(len(specviz.app.data_collection.subset_groups))\n",
    "    \n",
    "    for sg in specviz.app.data_collection.subset_groups:\n",
    "        for sg_subset in sg.subsets:\n",
    "            print(sg_subset.data.primary_components)\n",
    "            print(sg_subset.data.pixel_component_ids)\n",
    "            sg_subset.data.get_selection_definition(format='astropy-regions')"
   ]
  },
  {
   "cell_type": "code",
   "execution_count": 30,
   "id": "6fa709ed-0a90-4efb-b3c5-ef98d43d8992",
   "metadata": {},
   "outputs": [
    {
     "data": {
      "text/plain": [
       "(<function _operator.or_(a, b, /)>,\n",
       " <glue.core.subset.RangeSubsetState at 0x7ff621958910>,\n",
       " (<function _operator.or_(a, b, /)>,\n",
       "  <glue.core.subset.RangeSubsetState at 0x7ff5f2151430>,\n",
       "  (<function _operator.or_(a, b, /)>,\n",
       "   <glue.core.subset.RangeSubsetState at 0x7ff5e0078be0>,\n",
       "   <glue.core.subset.RangeSubsetState at 0x7ff5e0078610>)))"
      ]
     },
     "execution_count": 30,
     "metadata": {},
     "output_type": "execute_result"
    }
   ],
   "source": [
    "specviz.app.data_collection.subset_groups[0].subset_state.traverse()\n",
    "\n",
    "# do something different for Rangesubset, ROIsubset, and compound subset\n"
   ]
  },
  {
   "cell_type": "code",
   "execution_count": 4,
   "id": "53d679a7-f5c8-464a-95bd-12923077e763",
   "metadata": {},
   "outputs": [],
   "source": [
    " def traverse(self=specviz.app.data_collection.subset_groups[0].subset_state):\n",
    "        return (self.op if not isinstance(self, RangeSubsetState) else (self.lo, self.hi),\n",
    "                (self.state1.lo, self.state1.hi) if not hasattr(self.state1, 'traverse') else self.state1.traverse(),\n",
    "                (self.state2.lo, self.state2.hi) if not hasattr(self.state2, 'traverse') else self.state2.traverse()\n",
    "                )"
   ]
  },
  {
   "cell_type": "code",
   "execution_count": 7,
   "id": "f8c67bc1-1331-4043-bb2f-088072399020",
   "metadata": {},
   "outputs": [
    {
     "data": {
      "text/plain": [
       "(<function _operator.or_(a, b, /)>,\n",
       " (7, 7.2),\n",
       " (<function _operator.or_(a, b, /)>,\n",
       "  <glue.core.subset.RangeSubsetState at 0x7fb66182e520>,\n",
       "  <glue.core.subset.RangeSubsetState at 0x7fb66182e550>))"
      ]
     },
     "execution_count": 7,
     "metadata": {},
     "output_type": "execute_result"
    }
   ],
   "source": [
    "traverse()"
   ]
  },
  {
   "cell_type": "code",
   "execution_count": 52,
   "id": "331338b0-824b-400f-8e41-b22502099836",
   "metadata": {},
   "outputs": [
    {
     "name": "stdout",
     "output_type": "stream",
     "text": [
      "6.772604395887553 7.129113082533561\n",
      "<built-in function or_>\n",
      "6.772604395887553 7.129113082533561\n",
      "6 6.6\n"
     ]
    }
   ],
   "source": [
    "subset1 = specviz.app.data_collection.subset_groups[0].subset_state\n",
    "print(subset1.state1.lo, subset1.state1.hi)\n",
    "print(subset1.state2.op)\n",
    "print(subset1.state2.state1.lo, subset1.state2.state1.hi)\n",
    "print(subset1.state2.state2.lo, subset1.state2.state2.hi)"
   ]
  },
  {
   "cell_type": "code",
   "execution_count": 29,
   "id": "1f523a3b-3621-4294-b5a5-6ee9d9aa7af8",
   "metadata": {},
   "outputs": [
    {
     "data": {
      "application/vnd.jupyter.widget-view+json": {
       "model_id": "82713657bdcc41fdb2f1c42a94b2a22a",
       "version_major": 2,
       "version_minor": 0
      },
      "text/plain": [
       "Application(config='specviz', events=['call_viewer_method', 'close_snackbar_message', 'data_item_remove', 'dat…"
      ]
     },
     "metadata": {},
     "output_type": "display_data"
    }
   ],
   "source": [
    "specviz.show()"
   ]
  },
  {
   "cell_type": "code",
   "execution_count": 30,
   "id": "23fd43d0-d9a3-4182-ba0b-621c7f10a1df",
   "metadata": {},
   "outputs": [
    {
     "data": {
      "text/plain": [
       "{'spec1': <Spectrum1D(flux=<Quantity [84.28579203, 86.96449557, 91.65531698, ..., 87.60813172,\n",
       "            86.21068459, 85.08942663] MJy / sr>, spectral_axis=<SpectralAxis [4.9004001 , 4.9012001 , 4.9020001 , ..., 7.64840003, 7.64920003,\n",
       "    7.65000003] um>, uncertainty=StdDevUncertainty([0.22357993, 0.2183111 , 0.22367723, ..., 0.21385001,\n",
       "                    0.20442478, 0.20699027]))>,\n",
       " 'spec2': <Spectrum1D(flux=<Quantity [84.28579203, 86.96449557, 91.65531698, ..., 87.60813172,\n",
       "            86.21068459, 85.08942663] MJy / sr>, spectral_axis=<SpectralAxis [4.9004001 , 4.9012001 , 4.9020001 , ..., 7.64840003, 7.64920003,\n",
       "    7.65000003] um>, uncertainty=StdDevUncertainty([0.22357993, 0.2183111 , 0.22367723, ..., 0.21385001,\n",
       "                    0.20442478, 0.20699027]))>,\n",
       " 'Subset 1': (<function _operator.or_(a, b, /)>,\n",
       "  (6.260256582743592, 6.392613101139116),\n",
       "  (<function _operator.or_(a, b, /)>,\n",
       "   (6.260256582743592, 6.392613101139116),\n",
       "   (<function _operator.or_(a, b, /)>,\n",
       "    (6.262391365298358, 6.296547886174623),\n",
       "    (<function _operator.or_(a, b, /)>,\n",
       "     (6.262391365298358, 6.296547886174623),\n",
       "     (<function _operator.and_(a, b, /)>,\n",
       "      (<function _operator.and_(a, b, /)>,\n",
       "       (<function _operator.or_(a, b, /)>,\n",
       "        (7, 7.2),\n",
       "        (<function _operator.or_(a, b, /)>, (6, 6.6), (5.4, 5.6))),\n",
       "       (None, (6.230369626976861, 6.347782667489019), None)),\n",
       "      (None, (6.230369626976861, 6.347782667489019), None))))))}"
      ]
     },
     "execution_count": 30,
     "metadata": {},
     "output_type": "execute_result"
    }
   ],
   "source": [
    "data"
   ]
  },
  {
   "cell_type": "code",
   "execution_count": 33,
   "id": "c601a460-91ba-479d-bd50-669eff11a39a",
   "metadata": {},
   "outputs": [
    {
     "ename": "NameError",
     "evalue": "name 'jupyter' is not defined",
     "output_type": "error",
     "traceback": [
      "\u001b[0;31m---------------------------------------------------------------------------\u001b[0m",
      "\u001b[0;31mNameError\u001b[0m                                 Traceback (most recent call last)",
      "Cell \u001b[0;32mIn[33], line 1\u001b[0m\n\u001b[0;32m----> 1\u001b[0m \u001b[43mjupyter\u001b[49m \u001b[38;5;241m-\u001b[39m\u001b[38;5;241m-\u001b[39mversion\n",
      "\u001b[0;31mNameError\u001b[0m: name 'jupyter' is not defined"
     ]
    }
   ],
   "source": [
    "jupyter --version"
   ]
  },
  {
   "cell_type": "code",
   "execution_count": 34,
   "id": "67c2bdb0-2692-4040-87a7-5cf10b717377",
   "metadata": {},
   "outputs": [
    {
     "name": "stdout",
     "output_type": "stream",
     "text": [
      "macOS-10.16-x86_64-i386-64bit\n",
      "Python 3.9.15 (main, Nov 24 2022, 08:29:02) \n",
      "[Clang 14.0.6 ]\n",
      "Numpy 1.24.1\n",
      "astropy 5.2.1\n",
      "matplotlib 3.6.3\n",
      "scipy 1.10.0\n",
      "scikit-image 0.19.3\n",
      "asdf 2.14.3\n",
      "gwcs 0.18.3\n",
      "regions 0.7\n",
      "specutils 1.9.1\n",
      "specreduce 1.3.0\n",
      "photutils 1.6.0\n",
      "astroquery 0.4.6\n",
      "pyyaml 6.0\n",
      "asteval 0.9.28\n",
      "idna 3.4\n",
      "traitlets 5.8.1\n",
      "bqplot 0.12.36\n",
      "bqplot-image-gl 1.4.11\n",
      "glue-core 1.6.0\n",
      "glue-jupyter 0.15.0\n",
      "glue-astronomy 0.5.1\n",
      "echo 0.8.0\n",
      "ipyvue 1.8.0\n",
      "ipyvuetify 1.8.4\n",
      "ipysplitpanes 0.2.0\n",
      "ipygoldenlayout 0.4.0\n",
      "Jinja2 3.1.2\n",
      "voila 0.3.6\n",
      "vispy 0.12.1\n",
      "sidecar 0.5.2\n",
      "Jdaviz 3.2.dev232+gffd343e0\n"
     ]
    }
   ],
   "source": [
    "import platform; print(platform.platform())\n",
    "import sys; print(\"Python\", sys.version)\n",
    "import numpy; print(\"Numpy\", numpy.__version__)\n",
    "import astropy; print(\"astropy\", astropy.__version__)\n",
    "import matplotlib; print(\"matplotlib\", matplotlib.__version__)\n",
    "import scipy; print(\"scipy\", scipy.__version__)\n",
    "import skimage; print(\"scikit-image\", skimage.__version__)\n",
    "import asdf; print(\"asdf\", asdf.__version__)\n",
    "import gwcs; print(\"gwcs\", gwcs.__version__)\n",
    "import regions; print(\"regions\", regions.__version__)\n",
    "import specutils; print(\"specutils\", specutils.__version__)\n",
    "import specreduce; print(\"specreduce\", specreduce.__version__)\n",
    "import photutils; print(\"photutils\", photutils.__version__)\n",
    "import astroquery; print(\"astroquery\", astroquery.__version__)\n",
    "import yaml; print(\"pyyaml\", yaml.__version__)\n",
    "import asteval; print(\"asteval\", asteval.__version__)\n",
    "import idna; print(\"idna\", idna.__version__)\n",
    "import traitlets; print(\"traitlets\", traitlets.__version__)\n",
    "import bqplot; print(\"bqplot\", bqplot.__version__)\n",
    "import bqplot_image_gl; print(\"bqplot-image-gl\", bqplot_image_gl.__version__)\n",
    "import glue; print(\"glue-core\", glue.__version__)\n",
    "import glue_jupyter; print(\"glue-jupyter\", glue_jupyter.__version__)\n",
    "import glue_astronomy; print(\"glue-astronomy\", glue_astronomy.__version__)\n",
    "import echo; print(\"echo\", echo.__version__)\n",
    "import ipyvue; print(\"ipyvue\", ipyvue.__version__)\n",
    "import ipyvuetify; print(\"ipyvuetify\", ipyvuetify.__version__)\n",
    "import ipysplitpanes; print(\"ipysplitpanes\", ipysplitpanes.__version__)\n",
    "import ipygoldenlayout; print(\"ipygoldenlayout\", ipygoldenlayout.__version__)\n",
    "import jinja2; print(\"Jinja2\", jinja2.__version__)\n",
    "import voila; print(\"voila\", voila.__version__)\n",
    "import vispy; print(\"vispy\", vispy.__version__)\n",
    "import sidecar; print(\"sidecar\", sidecar.__version__)\n",
    "import jdaviz; print(\"Jdaviz\", jdaviz.__version__)"
   ]
  },
  {
   "cell_type": "code",
   "execution_count": null,
   "id": "0ba2bc32-552f-450c-85e3-bf80e29ed86c",
   "metadata": {},
   "outputs": [],
   "source": []
  }
 ],
 "metadata": {
  "kernelspec": {
   "display_name": "Python 3 (ipykernel)",
   "language": "python",
   "name": "python3"
  },
  "language_info": {
   "codemirror_mode": {
    "name": "ipython",
    "version": 3
   },
   "file_extension": ".py",
   "mimetype": "text/x-python",
   "name": "python",
   "nbconvert_exporter": "python",
   "pygments_lexer": "ipython3",
   "version": "3.9.15"
  }
 },
 "nbformat": 4,
 "nbformat_minor": 5
}
