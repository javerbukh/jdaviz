{
 "cells": [
  {
   "cell_type": "code",
   "execution_count": null,
   "id": "10c31fd2-4046-4d61-8ae0-30cb8344d41f",
   "metadata": {},
   "outputs": [],
   "source": [
    "import numpy as np\n",
    "from astropy.wcs import WCS\n",
    "import glue_jupyter as gj\n",
    "from glue.core import Data\n",
    "from glue.plugins.wcs_autolinking.wcs_autolinking import WCSLink\n",
    "from specutils import Spectrum1D\n",
    "from glue.core.link_helpers import LinkSame"
   ]
  },
  {
   "cell_type": "code",
   "execution_count": null,
   "id": "8d80be95-e29f-4f3f-8bee-6a625c291473",
   "metadata": {},
   "outputs": [],
   "source": [
    "wcs1 = WCS(naxis=1)\n",
    "wcs1.wcs.ctype = ['WAVE']\n",
    "wcs1.wcs.crval = [10]\n",
    "wcs1.wcs.cdelt = [3]\n",
    "wcs1.wcs.crpix = [1]\n",
    "wcs1.wcs.cunit = ['cm']\n",
    "\n",
    "d1 = Data(temp1=np.random.random(10))\n",
    "d1.get_component('temp1').units = 'deg_C'\n",
    "d1.coords = wcs1"
   ]
  },
  {
   "cell_type": "code",
   "execution_count": null,
   "id": "ab5eb050-d904-48de-9fc2-d045e6252a4d",
   "metadata": {},
   "outputs": [],
   "source": [
    "wcs1 = WCS(naxis=1)\n",
    "wcs1.wcs.ctype = ['WAVE']\n",
    "wcs1.wcs.crval = [10]\n",
    "wcs1.wcs.cdelt = [3]\n",
    "wcs1.wcs.crpix = [1]\n",
    "wcs1.wcs.cunit = ['cm']\n",
    "\n",
    "d2 = Data(temp2=np.random.random(10) + 273)\n",
    "d2.get_component('temp2').units = 'K'\n",
    "d2.coords = wcs1"
   ]
  },
  {
   "cell_type": "code",
   "execution_count": null,
   "id": "458dea14-6eb0-4aea-a6ad-c374deca1a1f",
   "metadata": {},
   "outputs": [],
   "source": [
    "from astropy import units as u\n",
    "from glue.core.units import unit_converter\n",
    "\n",
    "@unit_converter('custom-astropy')\n",
    "class UnitConverterWithTemperature:\n",
    "\n",
    "    def equivalent_units(self, data, cid, units):\n",
    "        equivalencies = u.temperature() if 'temp' in cid.label.lower() else None\n",
    "        return map(u.Unit(units).find_equivalent_units(include_prefix_units=True, equivalencies=equivalencies), str)\n",
    "\n",
    "    def to_unit(self, data, cid, values, original_units, target_units):\n",
    "        equivalencies = u.temperature() if 'temp' in cid.label.lower() else None\n",
    "        return (values * u.Unit(original_units)).to_value(target_units, equivalencies=equivalencies)"
   ]
  },
  {
   "cell_type": "code",
   "execution_count": null,
   "id": "6f409b79-76cf-4874-975b-a568a42efa44",
   "metadata": {},
   "outputs": [],
   "source": [
    "from glue.config import settings\n",
    "settings.UNIT_CONVERTER = 'custom-astropy'"
   ]
  },
  {
   "cell_type": "code",
   "execution_count": null,
   "id": "d0862474-d26f-4279-a9bb-e7713612023e",
   "metadata": {},
   "outputs": [],
   "source": [
    "from jdaviz import Specviz\n",
    "specviz = Specviz()\n",
    "specviz.app"
   ]
  },
  {
   "cell_type": "code",
   "execution_count": null,
   "id": "99a5c4f9-cb46-403b-9f6a-54cea0f14157",
   "metadata": {},
   "outputs": [],
   "source": [
    "specviz.app.add_data(d1, \"d1\")\n",
    "specviz.app.add_data(d2, \"d2\")\n",
    "specviz.app.data_collection.add_link(WCSLink(d1, d2))\n"
   ]
  },
  {
   "cell_type": "markdown",
   "id": "2b92860a-dd51-471c-b2b3-d3726c6dffff",
   "metadata": {},
   "source": [
    "### The following cell changes the display of the flux unit"
   ]
  },
  {
   "cell_type": "code",
   "execution_count": null,
   "id": "60db55fe-f285-490c-af95-28f4ec31ceed",
   "metadata": {},
   "outputs": [],
   "source": [
    "# Y conversion works but X does not allow conversion from wavelength to frequency\n",
    "\n",
    "# specviz.app.get_viewer(\"spectrum-viewer\").state.x_display_unit = \"MHz\"\n",
    "specviz.app.get_viewer(\"spectrum-viewer\").state.y_display_unit = \"K\""
   ]
  },
  {
   "cell_type": "code",
   "execution_count": null,
   "id": "cad93787-50d5-4ed2-886e-c5926d93c94a",
   "metadata": {},
   "outputs": [],
   "source": [
    "# Shows data retains units while being displayed in different units\n",
    "viewer = specviz.app.get_viewer(\"spectrum-viewer\")\n",
    "viewer.data()"
   ]
  },
  {
   "cell_type": "code",
   "execution_count": null,
   "id": "2582019d-60fc-4896-ad01-0d1bb78d168f",
   "metadata": {},
   "outputs": [],
   "source": []
  }
 ],
 "metadata": {
  "kernelspec": {
   "display_name": "Python 3 (ipykernel)",
   "language": "python",
   "name": "python3"
  },
  "language_info": {
   "codemirror_mode": {
    "name": "ipython",
    "version": 3
   },
   "file_extension": ".py",
   "mimetype": "text/x-python",
   "name": "python",
   "nbconvert_exporter": "python",
   "pygments_lexer": "ipython3",
   "version": "3.8.13"
  }
 },
 "nbformat": 4,
 "nbformat_minor": 5
}
