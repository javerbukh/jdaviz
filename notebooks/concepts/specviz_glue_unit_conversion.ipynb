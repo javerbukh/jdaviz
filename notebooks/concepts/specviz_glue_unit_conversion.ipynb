{
 "cells": [
  {
   "cell_type": "markdown",
   "id": "46e3e703-5119-4c72-a48e-fd39c9c1a682",
   "metadata": {},
   "source": [
    "# Unit conversion notes\n",
    "\n",
    "## Follow-up work\n",
    "\n",
    " - Change name to Display Units\n",
    " - Which plugins will break\n",
    "   - Cubeviz slider\n",
    "   - Model fitting\n",
    "   - Line analysis\n",
    " - Floating point conversion error?\n",
    " - Mouse events account for display units\n",
    " - Default to first data loaded for display units\n",
    " - Global units which plugins can listen to. Maybe a display_unit_changed message?\n",
    " - Should get data listen to display units?\n",
    " - Feature branch or develop in place?\n",
    "---\n",
    "\n",
    "## Acceptance criteria\n",
    "\n",
    " - Equivalencies list in notebook\n",
    " - Make tickets\n",
    " ---\n",
    " \n",
    "## Examples \n",
    " Can make multiple unit_converter instances, which can handle different cases in Jdaviz\n",
    " \n",
    " - from glue.config import settings\n",
    " - settings.UNIT_CONVERTER = 'custom-astropy'\n",
    " - @unit_converter('custom-jdaviz')\n",
    " - class UnitConverterWithSpectral:\n",
    "\n",
    "Using d1 below:\n",
    "```\n",
    "wcs1 = WCS(naxis=1)\n",
    "wcs1.wcs.ctype = ['FREQ']\n",
    "wcs1.wcs.crval = [1]\n",
    "wcs1.wcs.cdelt = [1]\n",
    "wcs1.wcs.crpix = [1]\n",
    "wcs1.wcs.cunit = ['GHz']\n",
    "\n",
    "d1 = Data(f1=[1, 2, 3])\n",
    "d1.get_component('f1').units = 'Jy'\n",
    "d1.coords = wcs1\n",
    "```\n",
    "access with\n",
    "```\n",
    "astropy_converter = unit_converter.members[settings.UNIT_CONVERTER]()\n",
    "equivalent_units = astropy_converter.equivalent_units(d1, d1.components[0], 'mJy')\n",
    "converted_units = astropy_converter.to_unit(d1, 'Pixel Axis 0 [x]', d1.x, 'GHz', 'centimeter')\n",
    "```\n",
    "---\n",
    "Dev notes\n",
    "\n",
    "y display unit is None and x display unit is set to 'Hz'\n",
    "y axis label is Data values\n",
    "x label is Frequency \\[Hz\\]"
   ]
  },
  {
   "cell_type": "code",
   "execution_count": null,
   "id": "a6aa2289-d6f0-4f0e-969a-0e559f74d00a",
   "metadata": {},
   "outputs": [],
   "source": [
    "import warnings\n",
    "\n",
    "import numpy as np\n",
    "from astropy.wcs import WCS\n",
    "import glue_jupyter as gj\n",
    "from glue.core import Data\n",
    "from glue.plugins.wcs_autolinking.wcs_autolinking import WCSLink\n",
    "from specutils import Spectrum1D\n",
    "from glue.core.link_helpers import LinkSame\n",
    "from glue.core.roi import XRangeROI\n",
    "from glue.config import settings\n",
    "\n",
    "\n",
    "from jdaviz import Specviz"
   ]
  },
  {
   "cell_type": "code",
   "execution_count": null,
   "id": "3f5b7bb4",
   "metadata": {},
   "outputs": [],
   "source": [
    "from astropy import units as u\n",
    "from glue.core.units import unit_converter\n",
    "\n",
    "\n",
    "@unit_converter('custom-jdaviz')\n",
    "class UnitConverterWithSpectral:\n",
    "\n",
    "    @staticmethod\n",
    "    def _cid_is_flux(cid):\n",
    "        return cid in ('f1', 'f2')\n",
    "    \n",
    "    def equivalent_units(self, data, cid, units):\n",
    "        # Given a glue data object (data), a component ID (cid), and the units\n",
    "        # of that component in the data object (units), this method should\n",
    "        # return a flat list of units (as strings) that the data could be\n",
    "        # converted to. This is used to construct the drop-down menus with the\n",
    "        # available units to convert to.\n",
    "        if self._cid_is_flux(cid):\n",
    "            available_units = ['Jy', 'mJy', 'uJy',\n",
    "                               'W / (m2 Hz)',\n",
    "                               'eV / (s m2 Hz)',\n",
    "                               'erg / (s cm2)',\n",
    "                               'erg / (s cm2 um)',\n",
    "                               'erg / (s cm2 Angstrom)',\n",
    "                               'erg / (s cm2 Hz)',\n",
    "                               'ph / (s cm2 um)',\n",
    "                               'ph / (s cm2 Angstrom)',\n",
    "                               'ph / (s cm2 Hz)']\n",
    "        else:  # spectral axis\n",
    "            available_units = ['angstrom', 'nanometer', 'micron', 'hertz', 'erg']\n",
    "        return available_units\n",
    "\n",
    "    def to_unit(self, data, cid, values, original_units, target_units):\n",
    "        # Given a glue data object (data), a component ID (cid), the values\n",
    "        # to convert, and the original and target units of the values, this method\n",
    "        # should return the converted values. Note that original_units\n",
    "        # gives the units of the values array, which might not be the same\n",
    "        # as the original native units of the component in the data.\n",
    "        if self._cid_is_flux(cid):\n",
    "            spec = data.get_object(cls=Spectrum1D)\n",
    "            eqv = u.spectral_density(spec.spectral_axis)\n",
    "        else:  # spectral axis\n",
    "            eqv = u.spectral()\n",
    "        return (values * u.Unit(original_units)).to_value(u.Unit(target_units), equivalencies=eqv)\n",
    "\n",
    "\n",
    "settings.UNIT_CONVERTER = 'custom-jdaviz'"
   ]
  },
  {
   "cell_type": "markdown",
   "id": "8e443baa-6cbb-48d6-94c4-e5f349f23bf3",
   "metadata": {},
   "source": [
    "# The following cell changes the display of the flux unit"
   ]
  },
  {
   "cell_type": "code",
   "execution_count": null,
   "id": "7ec85463-32f2-42eb-9860-12d67e4931d4",
   "metadata": {},
   "outputs": [],
   "source": [
    "wcs1 = WCS(naxis=1)\n",
    "wcs1.wcs.ctype = ['FREQ']\n",
    "wcs1.wcs.crval = [1]\n",
    "wcs1.wcs.cdelt = [1]\n",
    "wcs1.wcs.crpix = [1]\n",
    "wcs1.wcs.cunit = ['GHz']\n",
    "\n",
    "d1 = Data(f1=[1, 2, 3])\n",
    "d1.get_component('f1').units = 'Jy'\n",
    "d1.coords = wcs1\n",
    "\n",
    "# So we can see both data around the same spectral axis space.\n",
    "wcs2 = WCS(naxis=1)\n",
    "wcs2.wcs.ctype = ['WAVE']\n",
    "wcs2.wcs.crval = [30]\n",
    "wcs2.wcs.cdelt = [-15]\n",
    "wcs2.wcs.crpix = [1]\n",
    "wcs2.wcs.cunit = ['cm']\n",
    "\n",
    "d2 = Data(f2=[2000, 1000, 3000])\n",
    "d2.get_component('f2').units = 'mJy'\n",
    "d2.coords = wcs2\n",
    "\n",
    "specviz = Specviz()"
   ]
  },
  {
   "cell_type": "code",
   "execution_count": null,
   "id": "c91ee0fc-4b18-49f5-9e31-d58467294696",
   "metadata": {},
   "outputs": [],
   "source": [
    "specviz.app.add_data(d1, \"d1\")\n",
    "specviz.app.add_data(d2, \"d2\")\n",
    "specviz.app.data_collection.add_link(WCSLink(d1, d2))\n",
    "\n",
    "specviz.show()"
   ]
  },
  {
   "cell_type": "markdown",
   "id": "0f3572a9-2a5d-408d-bfb5-baaa1a198705",
   "metadata": {},
   "source": [
    "# Take a moment here to add data manually from the data drop down into the viewer."
   ]
  },
  {
   "cell_type": "code",
   "execution_count": null,
   "id": "871686e0-8a68-4529-b55b-fe0803273f7a",
   "metadata": {},
   "outputs": [],
   "source": [
    "def convert_x_axis_to(new_x):\n",
    "    specviz.app.get_viewer(\"spectrum-viewer\").state.x_display_unit = new_x\n",
    "\n",
    "def convert_y_axis_to(new_y):\n",
    "    specviz.app.get_viewer(\"spectrum-viewer\").state.y_display_unit = new_y"
   ]
  },
  {
   "cell_type": "code",
   "execution_count": null,
   "id": "7fffbba3-4e3a-4e97-ba04-4474a2e15880",
   "metadata": {},
   "outputs": [],
   "source": [
    "convert_y_axis_to(\"Jy\")"
   ]
  },
  {
   "cell_type": "code",
   "execution_count": null,
   "id": "170bacc0-0e0d-439a-9aaa-b699381590e4",
   "metadata": {},
   "outputs": [],
   "source": [
    "# Errors out because of an issue with equivalencies\n",
    "\n",
    "convert_x_axis_to(\"cm\")"
   ]
  },
  {
   "cell_type": "code",
   "execution_count": null,
   "id": "923040d0-de1b-43ea-a4b0-6795d02cf06f",
   "metadata": {},
   "outputs": [],
   "source": [
    "astropy_converter = unit_converter.members[settings.UNIT_CONVERTER]()\n",
    "\n",
    "data = specviz.app.data_collection[0]\n",
    "spec = data.get_object(cls=Spectrum1D)\n",
    "print(list(astropy_converter.equivalent_units(data, 'Pixel Axis 0 [x]', 'GHz')))\n",
    "print(astropy_converter.to_unit(data, 'Pixel Axis 0 [x]', spec.spectral_axis, spec.spectral_axis.unit, 'centimeter'))"
   ]
  },
  {
   "cell_type": "code",
   "execution_count": null,
   "id": "c228a9dd-0985-4e67-b664-94fb907ed3d2",
   "metadata": {},
   "outputs": [],
   "source": [
    "# Errors out because of an issue with equivalencies\n",
    "\n",
    "print(list(astropy_converter.equivalent_units(data, 'f1', 'Jy')))\n",
    "print(astropy_converter.to_unit(data, 'f1', spec.flux, spec.flux.unit, 'Jy'))"
   ]
  },
  {
   "cell_type": "code",
   "execution_count": null,
   "id": "b96f69e4-716d-4dd0-bb6a-e90729e3f22a",
   "metadata": {},
   "outputs": [],
   "source": [
    "for x in specviz.app.data_collection:\n",
    "    print(x.components)"
   ]
  },
  {
   "cell_type": "code",
   "execution_count": null,
   "id": "e6a7eb30-dc2d-4750-9181-7be0562cddbc",
   "metadata": {},
   "outputs": [],
   "source": [
    "specviz.app.get_viewer(\"spectrum-viewer\").apply_roi(XRangeROI(1.2e+8, 2e+9))"
   ]
  },
  {
   "cell_type": "code",
   "execution_count": null,
   "id": "de751c0f-fcc0-4c59-99dd-cedc30713ab6",
   "metadata": {},
   "outputs": [],
   "source": []
  }
 ],
 "metadata": {
  "kernelspec": {
   "display_name": "Python 3 (ipykernel)",
   "language": "python",
   "name": "python3"
  },
  "language_info": {
   "codemirror_mode": {
    "name": "ipython",
    "version": 3
   },
   "file_extension": ".py",
   "mimetype": "text/x-python",
   "name": "python",
   "nbconvert_exporter": "python",
   "pygments_lexer": "ipython3",
   "version": "3.10.8"
  }
 },
 "nbformat": 4,
 "nbformat_minor": 5
}
