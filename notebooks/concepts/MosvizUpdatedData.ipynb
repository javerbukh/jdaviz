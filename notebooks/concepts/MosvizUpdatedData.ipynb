{
 "cells": [
  {
   "cell_type": "code",
   "execution_count": 1,
   "metadata": {},
   "outputs": [],
   "source": [
    "from jdaviz import MosViz"
   ]
  },
  {
   "cell_type": "code",
   "execution_count": 2,
   "metadata": {
    "scrolled": false
   },
   "outputs": [
    {
     "data": {
      "application/vnd.jupyter.widget-view+json": {
       "model_id": "b445e0e7fef14169b97ec3eda3f99ee4",
       "version_major": 2,
       "version_minor": 0
      },
      "text/plain": [
       "Application(components={'g-viewer-tab': '<template>\\n  <component :is=\"stack.container\">\\n    <g-viewer-tab\\n …"
      ]
     },
     "metadata": {},
     "output_type": "display_data"
    }
   ],
   "source": [
    "mosviz = MosViz()\n",
    "mosviz.app"
   ]
  },
  {
   "cell_type": "markdown",
   "metadata": {},
   "source": [
    "The MOSViz parsers accepts lists of `Spectrum1D`, `SpectralCube`, and `CCDData` for 1D, 2D, and image data respectively. Alternatively, and the method used below, users can provide lists of file paths and MOSViz will internally attempt to parse them as their respective data type."
   ]
  },
  {
   "cell_type": "code",
   "execution_count": 3,
   "metadata": {
    "scrolled": false
   },
   "outputs": [],
   "source": [
    "import glob\n",
    "from astropy.utils.data import download_file\n",
    "import tempfile\n",
    "import pathlib\n",
    "from zipfile import ZipFile\n",
    "\n",
    "# Lists of data products\n",
    "slit_id = []\n",
    "spectra_1d = []\n",
    "spectra_2d = []\n",
    "cutouts = []\n",
    "\n",
    "#Central Store data directories\n",
    "file_location = \"central\"\n",
    "if file_location == \"central\":\n",
    "    cutouts_path = \"/user/jotor/mosviz-cutouts/\"\n",
    "    level3_path = \"/grp/jwst/wit4/nirspec/Muzerolle/Sim_products/CEERS_PRISM/\"\n",
    "else:\n",
    "    #Local data directories\n",
    "    level3_path = \"/Users/pogle/Desktop/newcomputer/CEERS/CEERS_PRISM/\"\n",
    "    cutouts_path = \"/Users/pogle/Desktop/newcomputer/CEERS/CEERS_PRISM_cutouts/\"\n",
    "\n",
    "for file_path in glob.glob(str(level3_path+'*')):\n",
    "    if ('x1d' in file_path) & ('combined' in file_path):\n",
    "        spectra_1d.append(file_path)\n",
    "        if file_location == \"central\":\n",
    "            slitid = file_path[88:93]\n",
    "        else:\n",
    "            slitid = file_path[81:86]\n",
    "        slit_id.append(slitid)\n",
    "    elif ('s2d' in file_path) & ('combined' in file_path):\n",
    "        spectra_2d.append(file_path)\n",
    "#for file_path in glob.glob(str(cutouts_path+'*')):\n",
    "#    if ('cutout' in file_path) & ('.fits' in file_path):\n",
    "#        cutouts.append(file_path)   \n",
    " \n",
    "#Sort the slit ids and filenames\n",
    "slit_id_sorted = sorted (slit_id)    \n",
    "spectra_1d_sorted = sorted(spectra_1d)\n",
    "spectra_2d_sorted = sorted(spectra_2d)\n",
    "\n",
    "#Cutout filenames\n",
    "cutouts_sorted = []\n",
    "for s_id in slit_id_sorted: cutouts_sorted.append(cutouts_path+\"cutout\"+s_id+\".fits\")\n",
    "    \n",
    "#Print out the matched filenames for each slit\n",
    "for s_id, f_1d, f_2d, f_cut in zip(slit_id_sorted, spectra_1d_sorted, spectra_2d_sorted, cutouts_sorted): \n",
    "    if file_location == \"central\":\n",
    "        print(s_id, \"...\"+f_1d[87:], \"...\"+f_2d[87:], \"...\"+f_cut[27:])\n",
    "    else:\n",
    "        print(s_id, \"...\"+f_1d[80:], \"...\"+f_2d[80:], \"...\"+f_cut[59:])    \n"
   ]
  },
  {
   "cell_type": "code",
   "execution_count": 4,
   "metadata": {},
   "outputs": [],
   "source": [
    "#mosviz.load_data(spectra_1d, spectra_2d, images=images)\n",
    "\n",
    "# Or alternatively: \n",
    "mosviz.load_metadata(cutouts_sorted[0:15])           #Only show the first 15, otherwise it takes too long (8min)  \n",
    "mosviz.load_1d_spectra(spectra_1d_sorted[0:15])  \n",
    "mosviz.load_2d_spectra(spectra_2d_sorted[0:15]) \n",
    "mosviz.load_images(cutouts_sorted[0:15])"
   ]
  },
  {
   "cell_type": "markdown",
   "metadata": {},
   "source": [
    "If no images are provided, MOSViz can still display the spectra."
   ]
  },
  {
   "cell_type": "code",
   "execution_count": null,
   "metadata": {},
   "outputs": [],
   "source": [
    "mosviz_no_images = MosViz()\n",
    "mosviz_no_images.app"
   ]
  },
  {
   "cell_type": "code",
   "execution_count": null,
   "metadata": {},
   "outputs": [],
   "source": [
    "mosviz_no_images.load_data(spectra_1d, spectra_2d)\n",
    "\n",
    "# Or alternatively: \n",
    "# mosviz_no_images.load_1d_spectra(spectra_1d)\n",
    "# mosviz_no_images.load_2d_spectra(spectra_2d)"
   ]
  },
  {
   "cell_type": "markdown",
   "metadata": {},
   "source": [
    "Images can be added later."
   ]
  },
  {
   "cell_type": "code",
   "execution_count": null,
   "metadata": {},
   "outputs": [],
   "source": [
    "mosviz_no_images.load_images(images)\n",
    "mosviz_no_images.load_metadata(images)"
   ]
  }
 ],
 "metadata": {
  "kernelspec": {
   "display_name": "Python 3 (ipykernel)",
   "language": "python",
   "name": "python3"
  },
  "language_info": {
   "codemirror_mode": {
    "name": "ipython",
    "version": 3
   },
   "file_extension": ".py",
   "mimetype": "text/x-python",
   "name": "python",
   "nbconvert_exporter": "python",
   "pygments_lexer": "ipython3",
   "version": "3.8.10"
  }
 },
 "nbformat": 4,
 "nbformat_minor": 4
}
