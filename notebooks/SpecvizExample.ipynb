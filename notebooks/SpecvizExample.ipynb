{
 "cells": [
  {
   "cell_type": "markdown",
   "metadata": {},
   "source": [
    "# Specviz Demonstration Notebook\n",
    "This notebook demonstrates the Specviz API in the Notebook setting. UI equivalents for these actions, as well as additional documentation about Specviz, can be found here: https://jdaviz.readthedocs.io/en/latest/specviz/\n",
    "\n",
    "## Setup"
   ]
  },
  {
   "cell_type": "code",
   "execution_count": 1,
   "metadata": {},
   "outputs": [],
   "source": [
    "import warnings\n",
    "import tempfile\n",
    "\n",
    "import astropy.units as u\n",
    "from astroquery.mast import Observations\n",
    "\n",
    "# Suppress warnings\n",
    "with warnings.catch_warnings():\n",
    "    warnings.simplefilter(\"ignore\")"
   ]
  },
  {
   "cell_type": "markdown",
   "metadata": {},
   "source": [
    "## Create Specviz via Helper"
   ]
  },
  {
   "cell_type": "code",
   "execution_count": 2,
   "metadata": {},
   "outputs": [],
   "source": [
    "from jdaviz import Specviz\n",
    "specviz = Specviz()"
   ]
  },
  {
   "cell_type": "markdown",
   "metadata": {},
   "source": [
    "## Display Specviz\n",
    "\n",
    "Note: you probably want to pick one of the three options below depending on preference. Also not the latter two will only work in JupyterLab, not the \"classic\" notebook interface."
   ]
  },
  {
   "cell_type": "markdown",
   "metadata": {},
   "source": [
    "This will show Specviz inline in the notebook"
   ]
  },
  {
   "cell_type": "code",
   "execution_count": 3,
   "metadata": {},
   "outputs": [
    {
     "data": {
      "application/vnd.jupyter.widget-view+json": {
       "model_id": "98a78873d93b4e8ab301af746d5f7c01",
       "version_major": 2,
       "version_minor": 0
      },
      "text/plain": [
       "Application(config='specviz', events=['call_viewer_method', 'close_snackbar_message', 'data_item_remove', 'dat…"
      ]
     },
     "metadata": {},
     "output_type": "display_data"
    }
   ],
   "source": [
    "specviz.show()"
   ]
  },
  {
   "cell_type": "markdown",
   "metadata": {},
   "source": [
    "## Load a file to Specviz\n",
    "\n",
    "Here we download a JWST spectrum from [MAST](https://masttest.stsci.edu/) using `astroquery`. \n",
    "By default the downloaded file goes to your temp directory, and thus may eventually be \n",
    "garbage collected (deleted) by your system. If you would like to have the file permanently, \n",
    "simply uncomment the second line below and provide the directory path on your system where \n",
    "you would like the file stored.\n",
    "\n",
    "One other thing to note about retrieving MAST data through astroquery is that it caches\n",
    "the data by default. It is possible for files to be updated in MAST with more recent calibrations\n",
    "but remain the same size, in which case your local cached file would not be replaced by the new\n",
    "version. You can turn off caching by setting `cache=False` in the `download_file` call to\n",
    "force it to re-download the file if desired."
   ]
  },
  {
   "cell_type": "code",
   "execution_count": 4,
   "metadata": {},
   "outputs": [
    {
     "name": "stderr",
     "output_type": "stream",
     "text": [
      "WARNING: UnitsWarning: '(MJy/sr)^2' did not parse as fits unit: Syntax error parsing unit '(MJy/sr)^2' If this is meant to be a custom unit, define it with 'u.def_unit'. To have it recognized inside a file reader or other code, enable it with 'u.add_enabled_units'. For details, see https://docs.astropy.org/en/latest/units/combining_and_defining.html [astropy.units.core]\n",
      "WARNING: UnitsWarning: '(MJy/sr)^2' did not parse as fits unit: Syntax error parsing unit '(MJy/sr)^2' If this is meant to be a custom unit, define it with 'u.def_unit'. To have it recognized inside a file reader or other code, enable it with 'u.add_enabled_units'. For details, see https://docs.astropy.org/en/latest/units/combining_and_defining.html [astropy.units.core]\n",
      "WARNING:astroquery:UnitsWarning: '(MJy/sr)^2' did not parse as fits unit: Syntax error parsing unit '(MJy/sr)^2' If this is meant to be a custom unit, define it with 'u.def_unit'. To have it recognized inside a file reader or other code, enable it with 'u.add_enabled_units'. For details, see https://docs.astropy.org/en/latest/units/combining_and_defining.html\n"
     ]
    }
   ],
   "source": [
    "from glue.core.roi import XRangeROI\n",
    "\n",
    "data_dir = \"/Users/javerbukh/Documents/jdaviz_dev/data/\"\n",
    "file = \"jw02732-c1001_t004_miri_ch1-longmediumshort-_x1d.fits\"\n",
    "file2 = \"jw02732-c1001_t004_miri_ch2-longmediumshort-_x1d.fits\"\n",
    "specviz.load_spectrum(data_dir + file)\n",
    "specviz.load_spectrum(data_dir + file2)\n",
    "\n",
    "specviz.app.get_viewer(\"spectrum-viewer\").apply_roi(XRangeROI(7, 8))"
   ]
  },
  {
   "cell_type": "code",
   "execution_count": 5,
   "metadata": {},
   "outputs": [
    {
     "name": "stdout",
     "output_type": "stream",
     "text": [
      "1\n"
     ]
    },
    {
     "ename": "ValueError",
     "evalue": "Range subset state att should be either x or y pixel coordinate",
     "output_type": "error",
     "traceback": [
      "\u001b[0;31m---------------------------------------------------------------------------\u001b[0m",
      "\u001b[0;31mValueError\u001b[0m                                Traceback (most recent call last)",
      "Cell \u001b[0;32mIn[5], line 4\u001b[0m\n\u001b[1;32m      2\u001b[0m \u001b[38;5;28;01mfor\u001b[39;00m x \u001b[38;5;129;01min\u001b[39;00m specviz\u001b[38;5;241m.\u001b[39mapp\u001b[38;5;241m.\u001b[39mdata_collection\u001b[38;5;241m.\u001b[39msubset_groups[\u001b[38;5;241m0\u001b[39m]\u001b[38;5;241m.\u001b[39msubsets:\n\u001b[1;32m      3\u001b[0m     \u001b[38;5;28mprint\u001b[39m(\u001b[38;5;28mlen\u001b[39m(x\u001b[38;5;241m.\u001b[39mdata\u001b[38;5;241m.\u001b[39mpixel_component_ids))\n\u001b[0;32m----> 4\u001b[0m     \u001b[38;5;28mprint\u001b[39m(\u001b[43mx\u001b[49m\u001b[38;5;241;43m.\u001b[39;49m\u001b[43mdata\u001b[49m\u001b[38;5;241;43m.\u001b[39;49m\u001b[43mget_selection_definition\u001b[49m\u001b[43m(\u001b[49m\u001b[38;5;28;43mformat\u001b[39;49m\u001b[38;5;241;43m=\u001b[39;49m\u001b[38;5;124;43m'\u001b[39;49m\u001b[38;5;124;43mastropy-regions\u001b[39;49m\u001b[38;5;124;43m'\u001b[39;49m\u001b[43m)\u001b[49m)\n",
      "File \u001b[0;32m~/miniconda3/envs/test_this_f_s_env/lib/python3.9/site-packages/glue/core/data.py:381\u001b[0m, in \u001b[0;36mBaseData.get_selection_definition\u001b[0;34m(self, subset_id, format, **kwargs)\u001b[0m\n\u001b[1;32m    377\u001b[0m     subset \u001b[38;5;241m=\u001b[39m \u001b[38;5;28mself\u001b[39m\u001b[38;5;241m.\u001b[39msubsets[subset_id]\n\u001b[1;32m    379\u001b[0m handler \u001b[38;5;241m=\u001b[39m subset_state_translator\u001b[38;5;241m.\u001b[39mget_handler_for(\u001b[38;5;28mformat\u001b[39m)\n\u001b[0;32m--> 381\u001b[0m \u001b[38;5;28;01mreturn\u001b[39;00m \u001b[43mhandler\u001b[49m\u001b[38;5;241;43m.\u001b[39;49m\u001b[43mto_object\u001b[49m\u001b[43m(\u001b[49m\u001b[43msubset\u001b[49m\u001b[43m,\u001b[49m\u001b[43m \u001b[49m\u001b[38;5;241;43m*\u001b[39;49m\u001b[38;5;241;43m*\u001b[39;49m\u001b[43mkwargs\u001b[49m\u001b[43m)\u001b[49m\n",
      "File \u001b[0;32m~/miniconda3/envs/test_this_f_s_env/lib/python3.9/site-packages/glue_astronomy/translators/regions.py:116\u001b[0m, in \u001b[0;36mAstropyRegionsHandler.to_object\u001b[0;34m(self, subset)\u001b[0m\n\u001b[1;32m    114\u001b[0m         \u001b[38;5;28;01mreturn\u001b[39;00m range_to_rect(data, \u001b[38;5;124m'\u001b[39m\u001b[38;5;124my\u001b[39m\u001b[38;5;124m'\u001b[39m, subset_state\u001b[38;5;241m.\u001b[39mlo, subset_state\u001b[38;5;241m.\u001b[39mhi)\n\u001b[1;32m    115\u001b[0m     \u001b[38;5;28;01melse\u001b[39;00m:\n\u001b[0;32m--> 116\u001b[0m         \u001b[38;5;28;01mraise\u001b[39;00m \u001b[38;5;167;01mValueError\u001b[39;00m(\u001b[38;5;124m'\u001b[39m\u001b[38;5;124mRange subset state att should be either x or y pixel coordinate\u001b[39m\u001b[38;5;124m'\u001b[39m)\n\u001b[1;32m    118\u001b[0m \u001b[38;5;28;01melif\u001b[39;00m \u001b[38;5;28misinstance\u001b[39m(subset_state, MultiRangeSubsetState):\n\u001b[1;32m    119\u001b[0m     \u001b[38;5;28;01mif\u001b[39;00m subset_state\u001b[38;5;241m.\u001b[39matt \u001b[38;5;241m==\u001b[39m x_pix_att:\n",
      "\u001b[0;31mValueError\u001b[0m: Range subset state att should be either x or y pixel coordinate"
     ]
    }
   ],
   "source": [
    "# specviz.app.data_collection.subset_groups[0].subsets[1].data.get_selection_definition(format='astropy-regions')\n",
    "for x in specviz.app.data_collection.subset_groups[0].subsets:\n",
    "    print(len(x.data.pixel_component_ids))\n",
    "    print(x.data.get_selection_definition(format='astropy-regions'))"
   ]
  },
  {
   "cell_type": "code",
   "execution_count": null,
   "metadata": {},
   "outputs": [],
   "source": [
    "data_dir = tempfile.gettempdir()\n",
    "#data_dir = \"/User/username/Data/\"\n",
    "\n",
    "fn = \"jw02732-o004_t004_miri_ch1-shortmediumlong_x1d.fits\"\n",
    "result = Observations.download_file(f\"mast:JWST/product/{fn}\", local_path=f'{data_dir}/{fn}')\n",
    "\n",
    "specviz.load_spectrum(f'{data_dir}/{fn}', \"myfile\")"
   ]
  },
  {
   "cell_type": "markdown",
   "metadata": {},
   "source": [
    "## Subset Retrieval\n",
    "User Task: Select a subset in the viewer above\n",
    "\n",
    "After defining regions in your spectra, you can retrieve your subsets through different means. To retrieve your subset by name:"
   ]
  },
  {
   "cell_type": "code",
   "execution_count": null,
   "metadata": {},
   "outputs": [],
   "source": [
    "# Returns a version of the whole spectra, with a mask applied\n",
    "specviz.get_spectra('Subset 1')"
   ]
  },
  {
   "cell_type": "markdown",
   "metadata": {},
   "source": [
    "Or, if you've defined multiple regions, you can retrieve all defined regions/subsets via:"
   ]
  },
  {
   "cell_type": "code",
   "execution_count": null,
   "metadata": {},
   "outputs": [],
   "source": [
    "specviz.app.get_subsets_from_viewer('spectrum-viewer')"
   ]
  },
  {
   "cell_type": "markdown",
   "metadata": {},
   "source": [
    "## Screenshot Saving"
   ]
  },
  {
   "cell_type": "code",
   "execution_count": null,
   "metadata": {},
   "outputs": [],
   "source": [
    "specviz.app.get_viewer(\"spectrum-viewer\").figure.save_png()"
   ]
  },
  {
   "cell_type": "markdown",
   "metadata": {},
   "source": [
    "## Panning/Zooming in Specviz\n",
    "### Limit Methods\n",
    "You can use the methods x_limits() and y_limits() to modify the field of view of Specviz. You can provide it a scalar (which assumes the units of the loaded spectra), an Astropy Quantity, or 'auto' to automatically scale."
   ]
  },
  {
   "cell_type": "code",
   "execution_count": null,
   "metadata": {
    "scrolled": true
   },
   "outputs": [],
   "source": [
    "specviz.x_limits()\n",
    "specviz.x_limits(7*u.um,7.2*u.um)\n",
    "specviz.y_limits('auto', 170.0)"
   ]
  },
  {
   "cell_type": "markdown",
   "metadata": {},
   "source": [
    "### Disable Scientific Notation\n",
    "Scientific notation is used in the axes of the viewers by default. To deactivate it, run the following code:"
   ]
  },
  {
   "cell_type": "code",
   "execution_count": null,
   "metadata": {},
   "outputs": [],
   "source": [
    "# axis 1 corresponds to the Y-axis and axis 0 to the X-axis\n",
    "# fmt can be '0.1e' to set scientific notation or '0.2f' to turn it off\n",
    "specviz.set_spectrum_tick_format(fmt=\"0.2f\", axis=1)"
   ]
  },
  {
   "cell_type": "markdown",
   "metadata": {},
   "source": [
    "### Autoscale Methods\n",
    "You can also quickly return to the default zoom using autoscale_x() and autoscale_y()"
   ]
  },
  {
   "cell_type": "code",
   "execution_count": null,
   "metadata": {},
   "outputs": [],
   "source": [
    "specviz.autoscale_x()\n",
    "specviz.autoscale_y()"
   ]
  },
  {
   "cell_type": "markdown",
   "metadata": {},
   "source": [
    "## Extracting Models\n",
    "If models were added using the model fitting plugin, they can be extracted using the following property"
   ]
  },
  {
   "cell_type": "code",
   "execution_count": null,
   "metadata": {},
   "outputs": [],
   "source": [
    "specviz.fitted_models"
   ]
  },
  {
   "cell_type": "markdown",
   "metadata": {},
   "source": [
    "If the name of a particular model is known, it can be extracted from the fitted_models property"
   ]
  },
  {
   "cell_type": "code",
   "execution_count": null,
   "metadata": {},
   "outputs": [],
   "source": [
    "specviz.fitted_models['Model']"
   ]
  },
  {
   "cell_type": "markdown",
   "metadata": {},
   "source": [
    "Alternatively, the following getter can be used"
   ]
  },
  {
   "cell_type": "code",
   "execution_count": null,
   "metadata": {},
   "outputs": [],
   "source": [
    "models = specviz.get_models()\n",
    "models"
   ]
  }
 ],
 "metadata": {
  "kernelspec": {
   "display_name": "Python 3 (ipykernel)",
   "language": "python",
   "name": "python3"
  },
  "language_info": {
   "codemirror_mode": {
    "name": "ipython",
    "version": 3
   },
   "file_extension": ".py",
   "mimetype": "text/x-python",
   "name": "python",
   "nbconvert_exporter": "python",
   "pygments_lexer": "ipython3",
   "version": "3.9.15"
  }
 },
 "nbformat": 4,
 "nbformat_minor": 4
}
